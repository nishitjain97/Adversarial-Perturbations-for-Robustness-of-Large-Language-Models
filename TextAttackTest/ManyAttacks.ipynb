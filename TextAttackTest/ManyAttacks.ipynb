{
 "cells": [
  {
   "cell_type": "markdown",
   "metadata": {
    "id": "xK7B3NnYaPR6"
   },
   "source": [
    "# The TextAttack ecosystem: search, transformations, and constraints"
   ]
  },
  {
   "cell_type": "markdown",
   "metadata": {
    "id": "9rY3w9b2aPSG"
   },
   "source": [
    "[![Open In Colab](https://colab.research.google.com/assets/colab-badge.svg)](https://colab.research.google.com/github/QData/TextAttack/blob/master/docs/2notebook/1_Introduction_and_Transformations.ipynb)\n",
    "\n",
    "[![View Source on GitHub](https://img.shields.io/badge/github-view%20source-black.svg)](https://github.com/QData/TextAttack/blob/master/docs/2notebook/1_Introduction_and_Transformations.ipynb)"
   ]
  },
  {
   "cell_type": "markdown",
   "metadata": {
    "id": "urhoEHXJf8YK"
   },
   "source": [
    "Please remember to run **pip3 install textattack[tensorflow]** in your notebook enviroment before the following codes:"
   ]
  },
  {
   "cell_type": "markdown",
   "metadata": {
    "id": "HTe13zUKaPSH"
   },
   "source": [
    "An attack in TextAttack consists of four parts.\n",
    "\n",
    "### Goal function\n",
    "\n",
    "The **goal function** determines if the attack is successful or not. One common goal function is **untargeted classification**, where the attack tries to perturb an input to change its classification. \n",
    "\n",
    "### Search method\n",
    "The **search method** explores the space of potential transformations and tries to locate a successful perturbation. Greedy search, beam search, and brute-force search are all examples of search methods.\n",
    "\n",
    "### Transformation\n",
    "A **transformation** takes a text input and transforms it, for example replacing words or phrases with similar ones, while trying not to change the meaning. Paraphrase and synonym substitution are two broad classes of transformations.\n",
    "\n",
    "### Constraints\n",
    "Finally, **constraints** determine whether or not a given transformation is valid. Transformations don't perfectly preserve syntax or semantics, so additional constraints can increase the probability that these qualities are preserved from the source to adversarial example. There are many types of constraints: overlap constraints that measure edit distance, syntactical  constraints check part-of-speech and grammar errors, and semantic constraints like language models and sentence encoders."
   ]
  },
  {
   "cell_type": "markdown",
   "metadata": {
    "id": "tiXXNJO4aPSI"
   },
   "source": [
    "### A custom transformation\n",
    "\n",
    "This lesson explains how to create a custom transformation. In TextAttack, many transformations involve *word swaps*: they take a word and try and find suitable substitutes. Some attacks focus on replacing characters with neighboring characters to create \"typos\" (these don't intend to preserve the grammaticality of inputs). Other attacks rely on semantics: they take a word and try to replace it with semantic equivalents.\n",
    "\n",
    "\n",
    "### Banana word swap \n",
    "\n",
    "As an introduction to writing transformations for TextAttack, we're going to try a very simple transformation: one that replaces any given word with the word 'banana'. In TextAttack, there's an abstract `WordSwap` class that handles the heavy lifting of breaking sentences into words and avoiding replacement of stopwords. We can extend `WordSwap` and implement a single method, `_get_replacement_words`, to indicate to replace each word with 'banana'. 🍌"
   ]
  },
  {
   "cell_type": "code",
   "execution_count": 1,
   "metadata": {},
   "outputs": [],
   "source": [
    "from textattack.transformations import WordSwap\n",
    "\n",
    "# Import the model\n",
    "import transformers\n",
    "from textattack.models.wrappers import HuggingFaceModelWrapper\n",
    "\n",
    "# model = transformers.AutoModelForSequenceClassification.from_pretrained(\"textattack/bert-base-uncased-ag-news\")\n",
    "# tokenizer = transformers.AutoTokenizer.from_pretrained(\"textattack/bert-base-uncased-ag-news\")\n",
    "\n",
    "# model_wrapper = HuggingFaceModelWrapper(model, tokenizer)\n",
    "\n",
    "# Create the goal function using the model\n",
    "from textattack.goal_functions import UntargetedClassification\n",
    "# goal_function = UntargetedClassification(model_wrapper)\n",
    "\n",
    "# Import the dataset\n",
    "from textattack.datasets import HuggingFaceDataset\n",
    "# dataset = HuggingFaceDataset(\"ag_news\", None, \"test\")\n",
    "\n",
    "from textattack.search_methods import GreedySearch\n",
    "from textattack.constraints.pre_transformation import RepeatModification, StopwordModification\n",
    "from textattack import Attack\n",
    "\n",
    "from tqdm import tqdm # tqdm provides us a nice progress bar.\n",
    "from textattack.loggers.csv_logger import CSVLogger # tracks a dataframe for us.\n",
    "from textattack.attack_results import SuccessfulAttackResult\n",
    "from textattack import Attacker\n",
    "from textattack import AttackArgs\n",
    "from textattack.datasets import Dataset"
   ]
  },
  {
   "cell_type": "code",
   "execution_count": 5,
   "metadata": {
    "id": "8r7zviXkaPSJ"
   },
   "outputs": [],
   "source": [
    "class BananaWordSwap(WordSwap):\n",
    "    \"\"\" Transforms an input by replacing any word with 'banana'.\n",
    "    \"\"\"\n",
    "    \n",
    "    # We don't need a constructor, since our class doesn't require any parameters.\n",
    "\n",
    "    def _get_replacement_words(self, word):\n",
    "        \"\"\" Returns 'banana', no matter what 'word' was originally.\n",
    "        \n",
    "            Returns a list with one item, since `_get_replacement_words` is intended to\n",
    "                return a list of candidate replacement words.\n",
    "        \"\"\"\n",
    "        return ['banana']"
   ]
  },
  {
   "cell_type": "markdown",
   "metadata": {
    "id": "sfGMvqcTaPSN"
   },
   "source": [
    "### Creating the attack\n",
    "Let's keep it simple: let's use a greedy search method, and let's not use any constraints for now. "
   ]
  },
  {
   "cell_type": "code",
   "execution_count": 6,
   "metadata": {
    "id": "nSAHSoI_aPSO"
   },
   "outputs": [],
   "source": [
    "# We're going to use our Banana word swap class as the attack transformation.\n",
    "transformation = BananaWordSwap() \n",
    "# We'll constrain modification of already modified indices and stopwords\n",
    "constraints = [RepeatModification(),\n",
    "               StopwordModification()]\n",
    "# We'll use the Greedy search method\n",
    "search_method = GreedySearch()\n",
    "# Now, let's make the attack from the 4 components:\n",
    "attack = Attack(goal_function, constraints, transformation, search_method)"
   ]
  },
  {
   "cell_type": "markdown",
   "metadata": {
    "id": "PqrHaZOaaPSO"
   },
   "source": [
    "Let's print our attack to see all the parameters:"
   ]
  },
  {
   "cell_type": "code",
   "execution_count": 7,
   "metadata": {
    "colab": {
     "base_uri": "https://localhost:8080/"
    },
    "id": "d2qYOr0maPSP",
    "outputId": "7266dc40-fc6c-4c78-90a8-8150e8fb5d8e"
   },
   "outputs": [
    {
     "name": "stdout",
     "output_type": "stream",
     "text": [
      "Attack(\n",
      "  (search_method): GreedySearch\n",
      "  (goal_function):  UntargetedClassification\n",
      "  (transformation):  BananaWordSwap\n",
      "  (constraints): \n",
      "    (0): RepeatModification\n",
      "    (1): StopwordModification\n",
      "  (is_black_box):  True\n",
      ")\n"
     ]
    }
   ],
   "source": [
    "print(attack)"
   ]
  },
  {
   "cell_type": "code",
   "execution_count": 8,
   "metadata": {
    "colab": {
     "base_uri": "https://localhost:8080/"
    },
    "id": "m97uyJxDh1wq",
    "outputId": "87ca8836-9781-4c5d-85f2-7ffbf4a7ef80"
   },
   "outputs": [
    {
     "name": "stdout",
     "output_type": "stream",
     "text": [
      "(OrderedDict([('text', \"Fears for T N pension after talks Unions representing workers at Turner   Newall say they are 'disappointed' after talks with stricken parent firm Federal Mogul.\")]), 2)\n"
     ]
    }
   ],
   "source": [
    "print(dataset[0])"
   ]
  },
  {
   "cell_type": "markdown",
   "metadata": {
    "id": "GYKoVFuXaPSP"
   },
   "source": [
    "### Using the attack\n",
    "\n",
    "Let's use our attack to successfully attack 10 samples."
   ]
  },
  {
   "cell_type": "code",
   "execution_count": 9,
   "metadata": {
    "colab": {
     "base_uri": "https://localhost:8080/"
    },
    "id": "LyokhnFtaPSQ",
    "outputId": "d8a43c4f-1551-40c9-d031-a42b429ed33d"
   },
   "outputs": [
    {
     "name": "stdout",
     "output_type": "stream",
     "text": [
      "Attack(\n",
      "  (search_method): GreedySearch\n",
      "  (goal_function):  UntargetedClassification\n",
      "  (transformation):  BananaWordSwap\n",
      "  (constraints): \n",
      "    (0): RepeatModification\n",
      "    (1): StopwordModification\n",
      "  (is_black_box):  True\n",
      ") \n",
      "\n"
     ]
    },
    {
     "name": "stderr",
     "output_type": "stream",
     "text": [
      "\n",
      "  0%|          | 0/1 [00:00<?, ?it/s]\u001b[A\n",
      "100%|██████████| 1/1 [00:03<00:00,  3.63s/it]\u001b[A"
     ]
    },
    {
     "name": "stdout",
     "output_type": "stream",
     "text": [
      "--------------------------------------------- Result 1 ---------------------------------------------\n"
     ]
    },
    {
     "name": "stderr",
     "output_type": "stream",
     "text": [
      "\n",
      "[Succeeded / Failed / Skipped / Total] 1 / 0 / 0 / 1: 100%|██████████| 1/1 [00:04<00:00,  4.06s/it]\u001b[A"
     ]
    },
    {
     "name": "stdout",
     "output_type": "stream",
     "text": [
      "[[Business (100%)]] --> [[World (89%)]]\n",
      "\n",
      "Fears for T N [[pension]] after [[talks]] [[Unions]] representing [[workers]] at Turner   Newall say they are '[[disappointed']] after talks with stricken parent firm Federal [[Mogul]].\n",
      "\n",
      "Fears for T N [[banana]] after [[banana]] [[banana]] representing [[banana]] at Turner   Newall say they are '[[banana]] after talks with stricken parent firm Federal [[banana]].\n",
      "\n",
      "\n",
      "\n",
      "+-------------------------------+--------+\n",
      "| Attack Results                |        |\n",
      "+-------------------------------+--------+\n",
      "| Number of successful attacks: | 1      |\n",
      "| Number of failed attacks:     | 0      |\n",
      "| Number of skipped attacks:    | 0      |\n",
      "| Original accuracy:            | 100.0% |\n",
      "| Accuracy under attack:        | 0.0%   |\n",
      "| Attack success rate:          | 100.0% |\n",
      "| Average perturbed word %:     | 24.0%  |\n",
      "| Average num. words per input: | 25.0   |\n",
      "| Avg num queries:              | 94.0   |\n",
      "+-------------------------------+--------+\n"
     ]
    },
    {
     "name": "stderr",
     "output_type": "stream",
     "text": [
      "\n"
     ]
    }
   ],
   "source": [
    "attack_args = AttackArgs(num_examples=1)\n",
    "\n",
    "attacker = Attacker(attack, dataset, attack_args)\n",
    "\n",
    "attack_results = attacker.attack_dataset()\n",
    "\n",
    "#The following legacy tutorial code shows how the Attack API works in detail.\n",
    "\n",
    "#logger = CSVLogger(color_method='html')\n",
    "\n",
    "#num_successes = 0\n",
    "#i = 0\n",
    "#while num_successes < 10:\n",
    "    #result = next(results_iterable)\n",
    "#    example, ground_truth_output = dataset[i]\n",
    "#    i += 1\n",
    "#    result = attack.attack(example, ground_truth_output)\n",
    "#    if isinstance(result, SuccessfulAttackResult):\n",
    "#        logger.log_attack_result(result)\n",
    "#        num_successes += 1\n",
    "#       print(f'{num_successes} of 10 successes complete.')"
   ]
  },
  {
   "cell_type": "markdown",
   "metadata": {},
   "source": [
    "# Clare Augmenter"
   ]
  },
  {
   "cell_type": "code",
   "execution_count": 10,
   "metadata": {},
   "outputs": [
    {
     "name": "stderr",
     "output_type": "stream",
     "text": [
      "If you want to use `RobertaLMHeadModel` as a standalone, add `is_decoder=True.`\n"
     ]
    },
    {
     "name": "stdout",
     "output_type": "stream",
     "text": [
      "Attack(\n",
      "  (search_method): GreedySearch\n",
      "  (goal_function):  UntargetedClassification\n",
      "  (transformation):  CompositeTransformation(\n",
      "    (0): WordSwapMaskedLM(\n",
      "        (method):  bae\n",
      "        (masked_lm_name):  RobertaForCausalLM\n",
      "        (max_length):  512\n",
      "        (max_candidates):  50\n",
      "        (min_confidence):  0.0005\n",
      "      )\n",
      "    (1): WordInsertionMaskedLM(\n",
      "        (masked_lm_name):  RobertaForCausalLM\n",
      "        (max_length):  512\n",
      "        (max_candidates):  50\n",
      "        (min_confidence):  0.0\n",
      "      )\n",
      "    (2): WordMergeMaskedLM(\n",
      "        (masked_lm_name):  RobertaForCausalLM\n",
      "        (max_length):  512\n",
      "        (max_candidates):  50\n",
      "        (min_confidence):  0.005\n",
      "      )\n",
      "    )\n",
      "  (constraints): \n",
      "    (0): RepeatModification\n",
      "    (1): StopwordModification\n",
      "  (is_black_box):  True\n",
      ")\n"
     ]
    }
   ],
   "source": [
    "from textattack.augmentation.recipes import CLAREAugmenter\n",
    "\n",
    "clare_augmenter = CLAREAugmenter()\n",
    "\n",
    "transformation = clare_augmenter.transformation\n",
    "\n",
    "# We'll constrain modification of already modified indices and stopwords\n",
    "constraints = [RepeatModification(),\n",
    "               StopwordModification()]\n",
    "\n",
    "# We'll use the Greedy search method\n",
    "search_method = GreedySearch()\n",
    "\n",
    "# Now, let's make the attack from the 4 components:\n",
    "attack = Attack(goal_function, constraints, transformation, search_method)\n",
    "\n",
    "print(attack)"
   ]
  },
  {
   "cell_type": "code",
   "execution_count": 11,
   "metadata": {},
   "outputs": [
    {
     "name": "stdout",
     "output_type": "stream",
     "text": [
      "Attack(\n",
      "  (search_method): GreedySearch\n",
      "  (goal_function):  UntargetedClassification\n",
      "  (transformation):  CompositeTransformation(\n",
      "    (0): WordSwapMaskedLM(\n",
      "        (method):  bae\n",
      "        (masked_lm_name):  RobertaForCausalLM\n",
      "        (max_length):  512\n",
      "        (max_candidates):  50\n",
      "        (min_confidence):  0.0005\n",
      "      )\n",
      "    (1): WordInsertionMaskedLM(\n",
      "        (masked_lm_name):  RobertaForCausalLM\n",
      "        (max_length):  512\n",
      "        (max_candidates):  50\n",
      "        (min_confidence):  0.0\n",
      "      )\n",
      "    (2): WordMergeMaskedLM(\n",
      "        (masked_lm_name):  RobertaForCausalLM\n",
      "        (max_length):  512\n",
      "        (max_candidates):  50\n",
      "        (min_confidence):  0.005\n",
      "      )\n",
      "    )\n",
      "  (constraints): \n",
      "    (0): RepeatModification\n",
      "    (1): StopwordModification\n",
      "  (is_black_box):  True\n",
      ") \n",
      "\n"
     ]
    },
    {
     "name": "stderr",
     "output_type": "stream",
     "text": [
      "\n",
      "  0%|          | 0/1 [00:00<?, ?it/s]\u001b[A"
     ]
    },
    {
     "name": "stdout",
     "output_type": "stream",
     "text": [
      "2022-12-03 19:14:32,204 loading file /home/harsh1621/.flair/models/upos-english-fast/b631371788604e95f27b6567fe7220e4a7e8d03201f3d862e6204dbf90f9f164.0afb95b43b32509bf4fcc3687f7c64157d8880d08f813124c1bd371c3d8ee3f7\n",
      "2022-12-03 19:14:32,253 SequenceTagger predicts: Dictionary with 20 tags: <unk>, O, INTJ, PUNCT, VERB, PRON, NOUN, ADV, DET, ADJ, ADP, NUM, PROPN, CCONJ, PART, AUX, X, SYM, <START>, <STOP>\n"
     ]
    },
    {
     "name": "stderr",
     "output_type": "stream",
     "text": [
      "/home/harsh1621/anaconda3/envs/nlp_project_py37/lib/python3.7/site-packages/huggingface_hub/file_download.py:597: FutureWarning: `cached_download` is the legacy way to download files from the HF hub, please consider upgrading to `hf_hub_download`\n",
      "  FutureWarning,\n"
     ]
    },
    {
     "ename": "KeyboardInterrupt",
     "evalue": "",
     "output_type": "error",
     "traceback": [
      "\u001b[0;31m---------------------------------------------------------------------------\u001b[0m",
      "\u001b[0;31mKeyboardInterrupt\u001b[0m                         Traceback (most recent call last)",
      "\u001b[0;32m<ipython-input-11-366787e2e5b5>\u001b[0m in \u001b[0;36m<module>\u001b[0;34m\u001b[0m\n\u001b[1;32m      3\u001b[0m \u001b[0mattacker\u001b[0m \u001b[0;34m=\u001b[0m \u001b[0mAttacker\u001b[0m\u001b[0;34m(\u001b[0m\u001b[0mattack\u001b[0m\u001b[0;34m,\u001b[0m \u001b[0mdataset\u001b[0m\u001b[0;34m,\u001b[0m \u001b[0mattack_args\u001b[0m\u001b[0;34m)\u001b[0m\u001b[0;34m\u001b[0m\u001b[0;34m\u001b[0m\u001b[0m\n\u001b[1;32m      4\u001b[0m \u001b[0;34m\u001b[0m\u001b[0m\n\u001b[0;32m----> 5\u001b[0;31m \u001b[0mattack_results\u001b[0m \u001b[0;34m=\u001b[0m \u001b[0mattacker\u001b[0m\u001b[0;34m.\u001b[0m\u001b[0mattack_dataset\u001b[0m\u001b[0;34m(\u001b[0m\u001b[0;34m)\u001b[0m\u001b[0;34m\u001b[0m\u001b[0;34m\u001b[0m\u001b[0m\n\u001b[0m",
      "\u001b[0;32m~/anaconda3/envs/nlp_project_py37/lib/python3.7/site-packages/textattack/attacker.py\u001b[0m in \u001b[0;36mattack_dataset\u001b[0;34m(self)\u001b[0m\n\u001b[1;32m    439\u001b[0m             \u001b[0mself\u001b[0m\u001b[0;34m.\u001b[0m\u001b[0m_attack_parallel\u001b[0m\u001b[0;34m(\u001b[0m\u001b[0;34m)\u001b[0m\u001b[0;34m\u001b[0m\u001b[0;34m\u001b[0m\u001b[0m\n\u001b[1;32m    440\u001b[0m         \u001b[0;32melse\u001b[0m\u001b[0;34m:\u001b[0m\u001b[0;34m\u001b[0m\u001b[0;34m\u001b[0m\u001b[0m\n\u001b[0;32m--> 441\u001b[0;31m             \u001b[0mself\u001b[0m\u001b[0;34m.\u001b[0m\u001b[0m_attack\u001b[0m\u001b[0;34m(\u001b[0m\u001b[0;34m)\u001b[0m\u001b[0;34m\u001b[0m\u001b[0;34m\u001b[0m\u001b[0m\n\u001b[0m\u001b[1;32m    442\u001b[0m \u001b[0;34m\u001b[0m\u001b[0m\n\u001b[1;32m    443\u001b[0m         \u001b[0;32mif\u001b[0m \u001b[0mself\u001b[0m\u001b[0;34m.\u001b[0m\u001b[0mattack_args\u001b[0m\u001b[0;34m.\u001b[0m\u001b[0msilent\u001b[0m\u001b[0;34m:\u001b[0m\u001b[0;34m\u001b[0m\u001b[0;34m\u001b[0m\u001b[0m\n",
      "\u001b[0;32m~/anaconda3/envs/nlp_project_py37/lib/python3.7/site-packages/textattack/attacker.py\u001b[0m in \u001b[0;36m_attack\u001b[0;34m(self)\u001b[0m\n\u001b[1;32m    166\u001b[0m                 \u001b[0mexample\u001b[0m\u001b[0;34m.\u001b[0m\u001b[0mattack_attrs\u001b[0m\u001b[0;34m[\u001b[0m\u001b[0;34m\"label_names\"\u001b[0m\u001b[0;34m]\u001b[0m \u001b[0;34m=\u001b[0m \u001b[0mself\u001b[0m\u001b[0;34m.\u001b[0m\u001b[0mdataset\u001b[0m\u001b[0;34m.\u001b[0m\u001b[0mlabel_names\u001b[0m\u001b[0;34m\u001b[0m\u001b[0;34m\u001b[0m\u001b[0m\n\u001b[1;32m    167\u001b[0m             \u001b[0;32mtry\u001b[0m\u001b[0;34m:\u001b[0m\u001b[0;34m\u001b[0m\u001b[0;34m\u001b[0m\u001b[0m\n\u001b[0;32m--> 168\u001b[0;31m                 \u001b[0mresult\u001b[0m \u001b[0;34m=\u001b[0m \u001b[0mself\u001b[0m\u001b[0;34m.\u001b[0m\u001b[0mattack\u001b[0m\u001b[0;34m.\u001b[0m\u001b[0mattack\u001b[0m\u001b[0;34m(\u001b[0m\u001b[0mexample\u001b[0m\u001b[0;34m,\u001b[0m \u001b[0mground_truth_output\u001b[0m\u001b[0;34m)\u001b[0m\u001b[0;34m\u001b[0m\u001b[0;34m\u001b[0m\u001b[0m\n\u001b[0m\u001b[1;32m    169\u001b[0m             \u001b[0;32mexcept\u001b[0m \u001b[0mException\u001b[0m \u001b[0;32mas\u001b[0m \u001b[0me\u001b[0m\u001b[0;34m:\u001b[0m\u001b[0;34m\u001b[0m\u001b[0;34m\u001b[0m\u001b[0m\n\u001b[1;32m    170\u001b[0m                 \u001b[0;32mraise\u001b[0m \u001b[0me\u001b[0m\u001b[0;34m\u001b[0m\u001b[0;34m\u001b[0m\u001b[0m\n",
      "\u001b[0;32m~/anaconda3/envs/nlp_project_py37/lib/python3.7/site-packages/textattack/attack.py\u001b[0m in \u001b[0;36mattack\u001b[0;34m(self, example, ground_truth_output)\u001b[0m\n\u001b[1;32m    446\u001b[0m             \u001b[0;32mreturn\u001b[0m \u001b[0mSkippedAttackResult\u001b[0m\u001b[0;34m(\u001b[0m\u001b[0mgoal_function_result\u001b[0m\u001b[0;34m)\u001b[0m\u001b[0;34m\u001b[0m\u001b[0;34m\u001b[0m\u001b[0m\n\u001b[1;32m    447\u001b[0m         \u001b[0;32melse\u001b[0m\u001b[0;34m:\u001b[0m\u001b[0;34m\u001b[0m\u001b[0;34m\u001b[0m\u001b[0m\n\u001b[0;32m--> 448\u001b[0;31m             \u001b[0mresult\u001b[0m \u001b[0;34m=\u001b[0m \u001b[0mself\u001b[0m\u001b[0;34m.\u001b[0m\u001b[0m_attack\u001b[0m\u001b[0;34m(\u001b[0m\u001b[0mgoal_function_result\u001b[0m\u001b[0;34m)\u001b[0m\u001b[0;34m\u001b[0m\u001b[0;34m\u001b[0m\u001b[0m\n\u001b[0m\u001b[1;32m    449\u001b[0m             \u001b[0;32mreturn\u001b[0m \u001b[0mresult\u001b[0m\u001b[0;34m\u001b[0m\u001b[0;34m\u001b[0m\u001b[0m\n\u001b[1;32m    450\u001b[0m \u001b[0;34m\u001b[0m\u001b[0m\n",
      "\u001b[0;32m~/anaconda3/envs/nlp_project_py37/lib/python3.7/site-packages/textattack/attack.py\u001b[0m in \u001b[0;36m_attack\u001b[0;34m(self, initial_result)\u001b[0m\n\u001b[1;32m    394\u001b[0m                 \u001b[0;32mor\u001b[0m\u001b[0;31m \u001b[0m\u001b[0;31m`\u001b[0m\u001b[0;31m`\u001b[0m\u001b[0mMaximizedAttackResult\u001b[0m\u001b[0;31m`\u001b[0m\u001b[0;31m`\u001b[0m\u001b[0;34m.\u001b[0m\u001b[0;34m\u001b[0m\u001b[0;34m\u001b[0m\u001b[0m\n\u001b[1;32m    395\u001b[0m         \"\"\"\n\u001b[0;32m--> 396\u001b[0;31m         \u001b[0mfinal_result\u001b[0m \u001b[0;34m=\u001b[0m \u001b[0mself\u001b[0m\u001b[0;34m.\u001b[0m\u001b[0msearch_method\u001b[0m\u001b[0;34m(\u001b[0m\u001b[0minitial_result\u001b[0m\u001b[0;34m)\u001b[0m\u001b[0;34m\u001b[0m\u001b[0;34m\u001b[0m\u001b[0m\n\u001b[0m\u001b[1;32m    397\u001b[0m         \u001b[0mself\u001b[0m\u001b[0;34m.\u001b[0m\u001b[0mclear_cache\u001b[0m\u001b[0;34m(\u001b[0m\u001b[0;34m)\u001b[0m\u001b[0;34m\u001b[0m\u001b[0;34m\u001b[0m\u001b[0m\n\u001b[1;32m    398\u001b[0m         \u001b[0;32mif\u001b[0m \u001b[0mfinal_result\u001b[0m\u001b[0;34m.\u001b[0m\u001b[0mgoal_status\u001b[0m \u001b[0;34m==\u001b[0m \u001b[0mGoalFunctionResultStatus\u001b[0m\u001b[0;34m.\u001b[0m\u001b[0mSUCCEEDED\u001b[0m\u001b[0;34m:\u001b[0m\u001b[0;34m\u001b[0m\u001b[0;34m\u001b[0m\u001b[0m\n",
      "\u001b[0;32m~/anaconda3/envs/nlp_project_py37/lib/python3.7/site-packages/textattack/search_methods/search_method.py\u001b[0m in \u001b[0;36m__call__\u001b[0;34m(self, initial_result)\u001b[0m\n\u001b[1;32m     34\u001b[0m             )\n\u001b[1;32m     35\u001b[0m \u001b[0;34m\u001b[0m\u001b[0m\n\u001b[0;32m---> 36\u001b[0;31m         \u001b[0mresult\u001b[0m \u001b[0;34m=\u001b[0m \u001b[0mself\u001b[0m\u001b[0;34m.\u001b[0m\u001b[0mperform_search\u001b[0m\u001b[0;34m(\u001b[0m\u001b[0minitial_result\u001b[0m\u001b[0;34m)\u001b[0m\u001b[0;34m\u001b[0m\u001b[0;34m\u001b[0m\u001b[0m\n\u001b[0m\u001b[1;32m     37\u001b[0m         \u001b[0;31m# ensure that the number of queries for this GoalFunctionResult is up-to-date\u001b[0m\u001b[0;34m\u001b[0m\u001b[0;34m\u001b[0m\u001b[0;34m\u001b[0m\u001b[0m\n\u001b[1;32m     38\u001b[0m         \u001b[0mresult\u001b[0m\u001b[0;34m.\u001b[0m\u001b[0mnum_queries\u001b[0m \u001b[0;34m=\u001b[0m \u001b[0mself\u001b[0m\u001b[0;34m.\u001b[0m\u001b[0mgoal_function\u001b[0m\u001b[0;34m.\u001b[0m\u001b[0mnum_queries\u001b[0m\u001b[0;34m\u001b[0m\u001b[0;34m\u001b[0m\u001b[0m\n",
      "\u001b[0;32m~/anaconda3/envs/nlp_project_py37/lib/python3.7/site-packages/textattack/search_methods/beam_search.py\u001b[0m in \u001b[0;36mperform_search\u001b[0;34m(self, initial_result)\u001b[0m\n\u001b[1;32m     38\u001b[0m                 \u001b[0;31m# If we did not find any possible perturbations, give up.\u001b[0m\u001b[0;34m\u001b[0m\u001b[0;34m\u001b[0m\u001b[0;34m\u001b[0m\u001b[0m\n\u001b[1;32m     39\u001b[0m                 \u001b[0;32mreturn\u001b[0m \u001b[0mbest_result\u001b[0m\u001b[0;34m\u001b[0m\u001b[0;34m\u001b[0m\u001b[0m\n\u001b[0;32m---> 40\u001b[0;31m             \u001b[0mresults\u001b[0m\u001b[0;34m,\u001b[0m \u001b[0msearch_over\u001b[0m \u001b[0;34m=\u001b[0m \u001b[0mself\u001b[0m\u001b[0;34m.\u001b[0m\u001b[0mget_goal_results\u001b[0m\u001b[0;34m(\u001b[0m\u001b[0mpotential_next_beam\u001b[0m\u001b[0;34m)\u001b[0m\u001b[0;34m\u001b[0m\u001b[0;34m\u001b[0m\u001b[0m\n\u001b[0m\u001b[1;32m     41\u001b[0m             \u001b[0mscores\u001b[0m \u001b[0;34m=\u001b[0m \u001b[0mnp\u001b[0m\u001b[0;34m.\u001b[0m\u001b[0marray\u001b[0m\u001b[0;34m(\u001b[0m\u001b[0;34m[\u001b[0m\u001b[0mr\u001b[0m\u001b[0;34m.\u001b[0m\u001b[0mscore\u001b[0m \u001b[0;32mfor\u001b[0m \u001b[0mr\u001b[0m \u001b[0;32min\u001b[0m \u001b[0mresults\u001b[0m\u001b[0;34m]\u001b[0m\u001b[0;34m)\u001b[0m\u001b[0;34m\u001b[0m\u001b[0;34m\u001b[0m\u001b[0m\n\u001b[1;32m     42\u001b[0m             \u001b[0mbest_result\u001b[0m \u001b[0;34m=\u001b[0m \u001b[0mresults\u001b[0m\u001b[0;34m[\u001b[0m\u001b[0mscores\u001b[0m\u001b[0;34m.\u001b[0m\u001b[0margmax\u001b[0m\u001b[0;34m(\u001b[0m\u001b[0;34m)\u001b[0m\u001b[0;34m]\u001b[0m\u001b[0;34m\u001b[0m\u001b[0;34m\u001b[0m\u001b[0m\n",
      "\u001b[0;32m~/anaconda3/envs/nlp_project_py37/lib/python3.7/site-packages/textattack/goal_functions/goal_function.py\u001b[0m in \u001b[0;36mget_results\u001b[0;34m(self, attacked_text_list, check_skip)\u001b[0m\n\u001b[1;32m     94\u001b[0m             \u001b[0mattacked_text_list\u001b[0m \u001b[0;34m=\u001b[0m \u001b[0mattacked_text_list\u001b[0m\u001b[0;34m[\u001b[0m\u001b[0;34m:\u001b[0m\u001b[0mqueries_left\u001b[0m\u001b[0;34m]\u001b[0m\u001b[0;34m\u001b[0m\u001b[0;34m\u001b[0m\u001b[0m\n\u001b[1;32m     95\u001b[0m         \u001b[0mself\u001b[0m\u001b[0;34m.\u001b[0m\u001b[0mnum_queries\u001b[0m \u001b[0;34m+=\u001b[0m \u001b[0mlen\u001b[0m\u001b[0;34m(\u001b[0m\u001b[0mattacked_text_list\u001b[0m\u001b[0;34m)\u001b[0m\u001b[0;34m\u001b[0m\u001b[0;34m\u001b[0m\u001b[0m\n\u001b[0;32m---> 96\u001b[0;31m         \u001b[0mmodel_outputs\u001b[0m \u001b[0;34m=\u001b[0m \u001b[0mself\u001b[0m\u001b[0;34m.\u001b[0m\u001b[0m_call_model\u001b[0m\u001b[0;34m(\u001b[0m\u001b[0mattacked_text_list\u001b[0m\u001b[0;34m)\u001b[0m\u001b[0;34m\u001b[0m\u001b[0;34m\u001b[0m\u001b[0m\n\u001b[0m\u001b[1;32m     97\u001b[0m         \u001b[0;32mfor\u001b[0m \u001b[0mattacked_text\u001b[0m\u001b[0;34m,\u001b[0m \u001b[0mraw_output\u001b[0m \u001b[0;32min\u001b[0m \u001b[0mzip\u001b[0m\u001b[0;34m(\u001b[0m\u001b[0mattacked_text_list\u001b[0m\u001b[0;34m,\u001b[0m \u001b[0mmodel_outputs\u001b[0m\u001b[0;34m)\u001b[0m\u001b[0;34m:\u001b[0m\u001b[0;34m\u001b[0m\u001b[0;34m\u001b[0m\u001b[0m\n\u001b[1;32m     98\u001b[0m             \u001b[0mdisplayed_output\u001b[0m \u001b[0;34m=\u001b[0m \u001b[0mself\u001b[0m\u001b[0;34m.\u001b[0m\u001b[0m_get_displayed_output\u001b[0m\u001b[0;34m(\u001b[0m\u001b[0mraw_output\u001b[0m\u001b[0;34m)\u001b[0m\u001b[0;34m\u001b[0m\u001b[0;34m\u001b[0m\u001b[0m\n",
      "\u001b[0;32m~/anaconda3/envs/nlp_project_py37/lib/python3.7/site-packages/textattack/goal_functions/goal_function.py\u001b[0m in \u001b[0;36m_call_model\u001b[0;34m(self, attacked_text_list)\u001b[0m\n\u001b[1;32m    214\u001b[0m                 \u001b[0;32mif\u001b[0m \u001b[0mtext\u001b[0m \u001b[0;32mnot\u001b[0m \u001b[0;32min\u001b[0m \u001b[0mself\u001b[0m\u001b[0;34m.\u001b[0m\u001b[0m_call_model_cache\u001b[0m\u001b[0;34m\u001b[0m\u001b[0;34m\u001b[0m\u001b[0m\n\u001b[1;32m    215\u001b[0m             ]\n\u001b[0;32m--> 216\u001b[0;31m             \u001b[0moutputs\u001b[0m \u001b[0;34m=\u001b[0m \u001b[0mself\u001b[0m\u001b[0;34m.\u001b[0m\u001b[0m_call_model_uncached\u001b[0m\u001b[0;34m(\u001b[0m\u001b[0muncached_list\u001b[0m\u001b[0;34m)\u001b[0m\u001b[0;34m\u001b[0m\u001b[0;34m\u001b[0m\u001b[0m\n\u001b[0m\u001b[1;32m    217\u001b[0m             \u001b[0;32mfor\u001b[0m \u001b[0mtext\u001b[0m\u001b[0;34m,\u001b[0m \u001b[0moutput\u001b[0m \u001b[0;32min\u001b[0m \u001b[0mzip\u001b[0m\u001b[0;34m(\u001b[0m\u001b[0muncached_list\u001b[0m\u001b[0;34m,\u001b[0m \u001b[0moutputs\u001b[0m\u001b[0;34m)\u001b[0m\u001b[0;34m:\u001b[0m\u001b[0;34m\u001b[0m\u001b[0;34m\u001b[0m\u001b[0m\n\u001b[1;32m    218\u001b[0m                 \u001b[0mself\u001b[0m\u001b[0;34m.\u001b[0m\u001b[0m_call_model_cache\u001b[0m\u001b[0;34m[\u001b[0m\u001b[0mtext\u001b[0m\u001b[0;34m]\u001b[0m \u001b[0;34m=\u001b[0m \u001b[0moutput\u001b[0m\u001b[0;34m\u001b[0m\u001b[0;34m\u001b[0m\u001b[0m\n",
      "\u001b[0;32m~/anaconda3/envs/nlp_project_py37/lib/python3.7/site-packages/textattack/goal_functions/goal_function.py\u001b[0m in \u001b[0;36m_call_model_uncached\u001b[0;34m(self, attacked_text_list)\u001b[0m\n\u001b[1;32m    172\u001b[0m             \u001b[0;31m# Get PyTorch tensors off of other devices.\u001b[0m\u001b[0;34m\u001b[0m\u001b[0;34m\u001b[0m\u001b[0;34m\u001b[0m\u001b[0m\n\u001b[1;32m    173\u001b[0m             \u001b[0;32mif\u001b[0m \u001b[0misinstance\u001b[0m\u001b[0;34m(\u001b[0m\u001b[0mbatch_preds\u001b[0m\u001b[0;34m,\u001b[0m \u001b[0mtorch\u001b[0m\u001b[0;34m.\u001b[0m\u001b[0mTensor\u001b[0m\u001b[0;34m)\u001b[0m\u001b[0;34m:\u001b[0m\u001b[0;34m\u001b[0m\u001b[0;34m\u001b[0m\u001b[0m\n\u001b[0;32m--> 174\u001b[0;31m                 \u001b[0mbatch_preds\u001b[0m \u001b[0;34m=\u001b[0m \u001b[0mbatch_preds\u001b[0m\u001b[0;34m.\u001b[0m\u001b[0mcpu\u001b[0m\u001b[0;34m(\u001b[0m\u001b[0;34m)\u001b[0m\u001b[0;34m\u001b[0m\u001b[0;34m\u001b[0m\u001b[0m\n\u001b[0m\u001b[1;32m    175\u001b[0m \u001b[0;34m\u001b[0m\u001b[0m\n\u001b[1;32m    176\u001b[0m             \u001b[0;32mif\u001b[0m \u001b[0misinstance\u001b[0m\u001b[0;34m(\u001b[0m\u001b[0mbatch_preds\u001b[0m\u001b[0;34m,\u001b[0m \u001b[0mlist\u001b[0m\u001b[0;34m)\u001b[0m\u001b[0;34m:\u001b[0m\u001b[0;34m\u001b[0m\u001b[0;34m\u001b[0m\u001b[0m\n",
      "\u001b[0;31mKeyboardInterrupt\u001b[0m: "
     ]
    }
   ],
   "source": [
    "attack_args = AttackArgs(num_examples=1)\n",
    "\n",
    "attacker = Attacker(attack, dataset, attack_args)\n",
    "\n",
    "attack_results = attacker.attack_dataset()"
   ]
  },
  {
   "cell_type": "markdown",
   "metadata": {},
   "source": [
    "# BackTranslation"
   ]
  },
  {
   "cell_type": "code",
   "execution_count": 15,
   "metadata": {},
   "outputs": [
    {
     "name": "stdout",
     "output_type": "stream",
     "text": [
      "Attack(\n",
      "  (search_method): GreedySearch\n",
      "  (goal_function):  UntargetedClassification\n",
      "  (transformation):  BackTranslation\n",
      "  (constraints): \n",
      "    (0): RepeatModification\n",
      "    (1): StopwordModification\n",
      "  (is_black_box):  True\n",
      ")\n"
     ]
    }
   ],
   "source": [
    "from textattack.augmentation.recipes import BackTranslationAugmenter\n",
    "\n",
    "back_trans_augmenter = BackTranslationAugmenter()\n",
    "\n",
    "transformation = back_trans_augmenter.transformation\n",
    "\n",
    "# We'll constrain modification of already modified indices and stopwords\n",
    "constraints = [RepeatModification(),\n",
    "               StopwordModification()]\n",
    "\n",
    "# We'll use the Greedy search method\n",
    "search_method = GreedySearch()\n",
    "\n",
    "# Now, let's make the attack from the 4 components:\n",
    "attack = Attack(goal_function, constraints, transformation, search_method)\n",
    "\n",
    "print(attack)"
   ]
  },
  {
   "cell_type": "code",
   "execution_count": 18,
   "metadata": {},
   "outputs": [
    {
     "name": "stdout",
     "output_type": "stream",
     "text": [
      "Attack(\n",
      "  (search_method): GreedySearch\n",
      "  (goal_function):  UntargetedClassification\n",
      "  (transformation):  BackTranslation\n",
      "  (constraints): \n",
      "    (0): RepeatModification\n",
      "    (1): StopwordModification\n",
      "  (is_black_box):  True\n",
      ") \n",
      "\n"
     ]
    },
    {
     "name": "stderr",
     "output_type": "stream",
     "text": [
      "\n",
      "  0%|          | 0/1 [00:00<?, ?it/s]\u001b[A/home/harsh1621/anaconda3/envs/nlp_project_py37/lib/python3.7/site-packages/transformers/tokenization_utils_base.py:3704: FutureWarning: \n",
      "`prepare_seq2seq_batch` is deprecated and will be removed in version 5 of HuggingFace Transformers. Use the regular\n",
      "`__call__` method to prepare your inputs and targets.\n",
      "\n",
      "Here is a short example:\n",
      "\n",
      "model_inputs = tokenizer(src_texts, text_target=tgt_texts, ...)\n",
      "\n",
      "If you either need to use different keyword arguments for the source and target texts, you should do two calls like\n",
      "this:\n",
      "\n",
      "model_inputs = tokenizer(src_texts, ...)\n",
      "labels = tokenizer(text_target=tgt_texts, ...)\n",
      "model_inputs[\"labels\"] = labels[\"input_ids\"]\n",
      "\n",
      "See the documentation of your specific tokenizer for more details on the specific arguments to the tokenizer of choice.\n",
      "For a more complete example, see the implementation of `prepare_seq2seq_batch`.\n",
      "\n",
      "  warnings.warn(formatted_warning, FutureWarning)\n"
     ]
    },
    {
     "ename": "RuntimeError",
     "evalue": "Expected all tensors to be on the same device, but found at least two devices, cuda:0 and cpu! (when checking argument for argument index in method wrapper__index_select)",
     "output_type": "error",
     "traceback": [
      "\u001b[0;31m---------------------------------------------------------------------------\u001b[0m",
      "\u001b[0;31mRuntimeError\u001b[0m                              Traceback (most recent call last)",
      "\u001b[0;32m<ipython-input-18-366787e2e5b5>\u001b[0m in \u001b[0;36m<module>\u001b[0;34m\u001b[0m\n\u001b[1;32m      3\u001b[0m \u001b[0mattacker\u001b[0m \u001b[0;34m=\u001b[0m \u001b[0mAttacker\u001b[0m\u001b[0;34m(\u001b[0m\u001b[0mattack\u001b[0m\u001b[0;34m,\u001b[0m \u001b[0mdataset\u001b[0m\u001b[0;34m,\u001b[0m \u001b[0mattack_args\u001b[0m\u001b[0;34m)\u001b[0m\u001b[0;34m\u001b[0m\u001b[0;34m\u001b[0m\u001b[0m\n\u001b[1;32m      4\u001b[0m \u001b[0;34m\u001b[0m\u001b[0m\n\u001b[0;32m----> 5\u001b[0;31m \u001b[0mattack_results\u001b[0m \u001b[0;34m=\u001b[0m \u001b[0mattacker\u001b[0m\u001b[0;34m.\u001b[0m\u001b[0mattack_dataset\u001b[0m\u001b[0;34m(\u001b[0m\u001b[0;34m)\u001b[0m\u001b[0;34m\u001b[0m\u001b[0;34m\u001b[0m\u001b[0m\n\u001b[0m",
      "\u001b[0;32m~/anaconda3/envs/nlp_project_py37/lib/python3.7/site-packages/textattack/attacker.py\u001b[0m in \u001b[0;36mattack_dataset\u001b[0;34m(self)\u001b[0m\n\u001b[1;32m    439\u001b[0m             \u001b[0mself\u001b[0m\u001b[0;34m.\u001b[0m\u001b[0m_attack_parallel\u001b[0m\u001b[0;34m(\u001b[0m\u001b[0;34m)\u001b[0m\u001b[0;34m\u001b[0m\u001b[0;34m\u001b[0m\u001b[0m\n\u001b[1;32m    440\u001b[0m         \u001b[0;32melse\u001b[0m\u001b[0;34m:\u001b[0m\u001b[0;34m\u001b[0m\u001b[0;34m\u001b[0m\u001b[0m\n\u001b[0;32m--> 441\u001b[0;31m             \u001b[0mself\u001b[0m\u001b[0;34m.\u001b[0m\u001b[0m_attack\u001b[0m\u001b[0;34m(\u001b[0m\u001b[0;34m)\u001b[0m\u001b[0;34m\u001b[0m\u001b[0;34m\u001b[0m\u001b[0m\n\u001b[0m\u001b[1;32m    442\u001b[0m \u001b[0;34m\u001b[0m\u001b[0m\n\u001b[1;32m    443\u001b[0m         \u001b[0;32mif\u001b[0m \u001b[0mself\u001b[0m\u001b[0;34m.\u001b[0m\u001b[0mattack_args\u001b[0m\u001b[0;34m.\u001b[0m\u001b[0msilent\u001b[0m\u001b[0;34m:\u001b[0m\u001b[0;34m\u001b[0m\u001b[0;34m\u001b[0m\u001b[0m\n",
      "\u001b[0;32m~/anaconda3/envs/nlp_project_py37/lib/python3.7/site-packages/textattack/attacker.py\u001b[0m in \u001b[0;36m_attack\u001b[0;34m(self)\u001b[0m\n\u001b[1;32m    168\u001b[0m                 \u001b[0mresult\u001b[0m \u001b[0;34m=\u001b[0m \u001b[0mself\u001b[0m\u001b[0;34m.\u001b[0m\u001b[0mattack\u001b[0m\u001b[0;34m.\u001b[0m\u001b[0mattack\u001b[0m\u001b[0;34m(\u001b[0m\u001b[0mexample\u001b[0m\u001b[0;34m,\u001b[0m \u001b[0mground_truth_output\u001b[0m\u001b[0;34m)\u001b[0m\u001b[0;34m\u001b[0m\u001b[0;34m\u001b[0m\u001b[0m\n\u001b[1;32m    169\u001b[0m             \u001b[0;32mexcept\u001b[0m \u001b[0mException\u001b[0m \u001b[0;32mas\u001b[0m \u001b[0me\u001b[0m\u001b[0;34m:\u001b[0m\u001b[0;34m\u001b[0m\u001b[0;34m\u001b[0m\u001b[0m\n\u001b[0;32m--> 170\u001b[0;31m                 \u001b[0;32mraise\u001b[0m \u001b[0me\u001b[0m\u001b[0;34m\u001b[0m\u001b[0;34m\u001b[0m\u001b[0m\n\u001b[0m\u001b[1;32m    171\u001b[0m             if (\n\u001b[1;32m    172\u001b[0m                 \u001b[0misinstance\u001b[0m\u001b[0;34m(\u001b[0m\u001b[0mresult\u001b[0m\u001b[0;34m,\u001b[0m \u001b[0mSkippedAttackResult\u001b[0m\u001b[0;34m)\u001b[0m \u001b[0;32mand\u001b[0m \u001b[0mself\u001b[0m\u001b[0;34m.\u001b[0m\u001b[0mattack_args\u001b[0m\u001b[0;34m.\u001b[0m\u001b[0mattack_n\u001b[0m\u001b[0;34m\u001b[0m\u001b[0;34m\u001b[0m\u001b[0m\n",
      "\u001b[0;32m~/anaconda3/envs/nlp_project_py37/lib/python3.7/site-packages/textattack/attacker.py\u001b[0m in \u001b[0;36m_attack\u001b[0;34m(self)\u001b[0m\n\u001b[1;32m    166\u001b[0m                 \u001b[0mexample\u001b[0m\u001b[0;34m.\u001b[0m\u001b[0mattack_attrs\u001b[0m\u001b[0;34m[\u001b[0m\u001b[0;34m\"label_names\"\u001b[0m\u001b[0;34m]\u001b[0m \u001b[0;34m=\u001b[0m \u001b[0mself\u001b[0m\u001b[0;34m.\u001b[0m\u001b[0mdataset\u001b[0m\u001b[0;34m.\u001b[0m\u001b[0mlabel_names\u001b[0m\u001b[0;34m\u001b[0m\u001b[0;34m\u001b[0m\u001b[0m\n\u001b[1;32m    167\u001b[0m             \u001b[0;32mtry\u001b[0m\u001b[0;34m:\u001b[0m\u001b[0;34m\u001b[0m\u001b[0;34m\u001b[0m\u001b[0m\n\u001b[0;32m--> 168\u001b[0;31m                 \u001b[0mresult\u001b[0m \u001b[0;34m=\u001b[0m \u001b[0mself\u001b[0m\u001b[0;34m.\u001b[0m\u001b[0mattack\u001b[0m\u001b[0;34m.\u001b[0m\u001b[0mattack\u001b[0m\u001b[0;34m(\u001b[0m\u001b[0mexample\u001b[0m\u001b[0;34m,\u001b[0m \u001b[0mground_truth_output\u001b[0m\u001b[0;34m)\u001b[0m\u001b[0;34m\u001b[0m\u001b[0;34m\u001b[0m\u001b[0m\n\u001b[0m\u001b[1;32m    169\u001b[0m             \u001b[0;32mexcept\u001b[0m \u001b[0mException\u001b[0m \u001b[0;32mas\u001b[0m \u001b[0me\u001b[0m\u001b[0;34m:\u001b[0m\u001b[0;34m\u001b[0m\u001b[0;34m\u001b[0m\u001b[0m\n\u001b[1;32m    170\u001b[0m                 \u001b[0;32mraise\u001b[0m \u001b[0me\u001b[0m\u001b[0;34m\u001b[0m\u001b[0;34m\u001b[0m\u001b[0m\n",
      "\u001b[0;32m~/anaconda3/envs/nlp_project_py37/lib/python3.7/site-packages/textattack/attack.py\u001b[0m in \u001b[0;36mattack\u001b[0;34m(self, example, ground_truth_output)\u001b[0m\n\u001b[1;32m    446\u001b[0m             \u001b[0;32mreturn\u001b[0m \u001b[0mSkippedAttackResult\u001b[0m\u001b[0;34m(\u001b[0m\u001b[0mgoal_function_result\u001b[0m\u001b[0;34m)\u001b[0m\u001b[0;34m\u001b[0m\u001b[0;34m\u001b[0m\u001b[0m\n\u001b[1;32m    447\u001b[0m         \u001b[0;32melse\u001b[0m\u001b[0;34m:\u001b[0m\u001b[0;34m\u001b[0m\u001b[0;34m\u001b[0m\u001b[0m\n\u001b[0;32m--> 448\u001b[0;31m             \u001b[0mresult\u001b[0m \u001b[0;34m=\u001b[0m \u001b[0mself\u001b[0m\u001b[0;34m.\u001b[0m\u001b[0m_attack\u001b[0m\u001b[0;34m(\u001b[0m\u001b[0mgoal_function_result\u001b[0m\u001b[0;34m)\u001b[0m\u001b[0;34m\u001b[0m\u001b[0;34m\u001b[0m\u001b[0m\n\u001b[0m\u001b[1;32m    449\u001b[0m             \u001b[0;32mreturn\u001b[0m \u001b[0mresult\u001b[0m\u001b[0;34m\u001b[0m\u001b[0;34m\u001b[0m\u001b[0m\n\u001b[1;32m    450\u001b[0m \u001b[0;34m\u001b[0m\u001b[0m\n",
      "\u001b[0;32m~/anaconda3/envs/nlp_project_py37/lib/python3.7/site-packages/textattack/attack.py\u001b[0m in \u001b[0;36m_attack\u001b[0;34m(self, initial_result)\u001b[0m\n\u001b[1;32m    394\u001b[0m                 \u001b[0;32mor\u001b[0m\u001b[0;31m \u001b[0m\u001b[0;31m`\u001b[0m\u001b[0;31m`\u001b[0m\u001b[0mMaximizedAttackResult\u001b[0m\u001b[0;31m`\u001b[0m\u001b[0;31m`\u001b[0m\u001b[0;34m.\u001b[0m\u001b[0;34m\u001b[0m\u001b[0;34m\u001b[0m\u001b[0m\n\u001b[1;32m    395\u001b[0m         \"\"\"\n\u001b[0;32m--> 396\u001b[0;31m         \u001b[0mfinal_result\u001b[0m \u001b[0;34m=\u001b[0m \u001b[0mself\u001b[0m\u001b[0;34m.\u001b[0m\u001b[0msearch_method\u001b[0m\u001b[0;34m(\u001b[0m\u001b[0minitial_result\u001b[0m\u001b[0;34m)\u001b[0m\u001b[0;34m\u001b[0m\u001b[0;34m\u001b[0m\u001b[0m\n\u001b[0m\u001b[1;32m    397\u001b[0m         \u001b[0mself\u001b[0m\u001b[0;34m.\u001b[0m\u001b[0mclear_cache\u001b[0m\u001b[0;34m(\u001b[0m\u001b[0;34m)\u001b[0m\u001b[0;34m\u001b[0m\u001b[0;34m\u001b[0m\u001b[0m\n\u001b[1;32m    398\u001b[0m         \u001b[0;32mif\u001b[0m \u001b[0mfinal_result\u001b[0m\u001b[0;34m.\u001b[0m\u001b[0mgoal_status\u001b[0m \u001b[0;34m==\u001b[0m \u001b[0mGoalFunctionResultStatus\u001b[0m\u001b[0;34m.\u001b[0m\u001b[0mSUCCEEDED\u001b[0m\u001b[0;34m:\u001b[0m\u001b[0;34m\u001b[0m\u001b[0;34m\u001b[0m\u001b[0m\n",
      "\u001b[0;32m~/anaconda3/envs/nlp_project_py37/lib/python3.7/site-packages/textattack/search_methods/search_method.py\u001b[0m in \u001b[0;36m__call__\u001b[0;34m(self, initial_result)\u001b[0m\n\u001b[1;32m     34\u001b[0m             )\n\u001b[1;32m     35\u001b[0m \u001b[0;34m\u001b[0m\u001b[0m\n\u001b[0;32m---> 36\u001b[0;31m         \u001b[0mresult\u001b[0m \u001b[0;34m=\u001b[0m \u001b[0mself\u001b[0m\u001b[0;34m.\u001b[0m\u001b[0mperform_search\u001b[0m\u001b[0;34m(\u001b[0m\u001b[0minitial_result\u001b[0m\u001b[0;34m)\u001b[0m\u001b[0;34m\u001b[0m\u001b[0;34m\u001b[0m\u001b[0m\n\u001b[0m\u001b[1;32m     37\u001b[0m         \u001b[0;31m# ensure that the number of queries for this GoalFunctionResult is up-to-date\u001b[0m\u001b[0;34m\u001b[0m\u001b[0;34m\u001b[0m\u001b[0;34m\u001b[0m\u001b[0m\n\u001b[1;32m     38\u001b[0m         \u001b[0mresult\u001b[0m\u001b[0;34m.\u001b[0m\u001b[0mnum_queries\u001b[0m \u001b[0;34m=\u001b[0m \u001b[0mself\u001b[0m\u001b[0;34m.\u001b[0m\u001b[0mgoal_function\u001b[0m\u001b[0;34m.\u001b[0m\u001b[0mnum_queries\u001b[0m\u001b[0;34m\u001b[0m\u001b[0;34m\u001b[0m\u001b[0m\n",
      "\u001b[0;32m~/anaconda3/envs/nlp_project_py37/lib/python3.7/site-packages/textattack/search_methods/beam_search.py\u001b[0m in \u001b[0;36mperform_search\u001b[0;34m(self, initial_result)\u001b[0m\n\u001b[1;32m     31\u001b[0m             \u001b[0;32mfor\u001b[0m \u001b[0mtext\u001b[0m \u001b[0;32min\u001b[0m \u001b[0mbeam\u001b[0m\u001b[0;34m:\u001b[0m\u001b[0;34m\u001b[0m\u001b[0;34m\u001b[0m\u001b[0m\n\u001b[1;32m     32\u001b[0m                 transformations = self.get_transformations(\n\u001b[0;32m---> 33\u001b[0;31m                     \u001b[0mtext\u001b[0m\u001b[0;34m,\u001b[0m \u001b[0moriginal_text\u001b[0m\u001b[0;34m=\u001b[0m\u001b[0minitial_result\u001b[0m\u001b[0;34m.\u001b[0m\u001b[0mattacked_text\u001b[0m\u001b[0;34m\u001b[0m\u001b[0;34m\u001b[0m\u001b[0m\n\u001b[0m\u001b[1;32m     34\u001b[0m                 )\n\u001b[1;32m     35\u001b[0m                 \u001b[0mpotential_next_beam\u001b[0m \u001b[0;34m+=\u001b[0m \u001b[0mtransformations\u001b[0m\u001b[0;34m\u001b[0m\u001b[0;34m\u001b[0m\u001b[0m\n",
      "\u001b[0;32m~/anaconda3/envs/nlp_project_py37/lib/python3.7/site-packages/textattack/attack.py\u001b[0m in \u001b[0;36mget_transformations\u001b[0;34m(self, current_text, original_text, **kwargs)\u001b[0m\n\u001b[1;32m    302\u001b[0m             \u001b[0;32melse\u001b[0m\u001b[0;34m:\u001b[0m\u001b[0;34m\u001b[0m\u001b[0;34m\u001b[0m\u001b[0m\n\u001b[1;32m    303\u001b[0m                 transformed_texts = self._get_transformations_uncached(\n\u001b[0;32m--> 304\u001b[0;31m                     \u001b[0mcurrent_text\u001b[0m\u001b[0;34m,\u001b[0m \u001b[0moriginal_text\u001b[0m\u001b[0;34m,\u001b[0m \u001b[0;34m**\u001b[0m\u001b[0mkwargs\u001b[0m\u001b[0;34m\u001b[0m\u001b[0;34m\u001b[0m\u001b[0m\n\u001b[0m\u001b[1;32m    305\u001b[0m                 )\n\u001b[1;32m    306\u001b[0m                 \u001b[0;32mif\u001b[0m \u001b[0mutils\u001b[0m\u001b[0;34m.\u001b[0m\u001b[0mhashable\u001b[0m\u001b[0;34m(\u001b[0m\u001b[0mcache_key\u001b[0m\u001b[0;34m)\u001b[0m\u001b[0;34m:\u001b[0m\u001b[0;34m\u001b[0m\u001b[0;34m\u001b[0m\u001b[0m\n",
      "\u001b[0;32m~/anaconda3/envs/nlp_project_py37/lib/python3.7/site-packages/textattack/attack.py\u001b[0m in \u001b[0;36m_get_transformations_uncached\u001b[0;34m(self, current_text, original_text, **kwargs)\u001b[0m\n\u001b[1;32m    272\u001b[0m             \u001b[0mcurrent_text\u001b[0m\u001b[0;34m,\u001b[0m\u001b[0;34m\u001b[0m\u001b[0;34m\u001b[0m\u001b[0m\n\u001b[1;32m    273\u001b[0m             \u001b[0mpre_transformation_constraints\u001b[0m\u001b[0;34m=\u001b[0m\u001b[0mself\u001b[0m\u001b[0;34m.\u001b[0m\u001b[0mpre_transformation_constraints\u001b[0m\u001b[0;34m,\u001b[0m\u001b[0;34m\u001b[0m\u001b[0;34m\u001b[0m\u001b[0m\n\u001b[0;32m--> 274\u001b[0;31m             \u001b[0;34m**\u001b[0m\u001b[0mkwargs\u001b[0m\u001b[0;34m,\u001b[0m\u001b[0;34m\u001b[0m\u001b[0;34m\u001b[0m\u001b[0m\n\u001b[0m\u001b[1;32m    275\u001b[0m         )\n\u001b[1;32m    276\u001b[0m \u001b[0;34m\u001b[0m\u001b[0m\n",
      "\u001b[0;32m~/anaconda3/envs/nlp_project_py37/lib/python3.7/site-packages/textattack/transformations/transformation.py\u001b[0m in \u001b[0;36m__call__\u001b[0;34m(self, current_text, pre_transformation_constraints, indices_to_modify, shifted_idxs, return_indices)\u001b[0m\n\u001b[1;32m     55\u001b[0m             \u001b[0;32mreturn\u001b[0m \u001b[0mindices_to_modify\u001b[0m\u001b[0;34m\u001b[0m\u001b[0;34m\u001b[0m\u001b[0m\n\u001b[1;32m     56\u001b[0m \u001b[0;34m\u001b[0m\u001b[0m\n\u001b[0;32m---> 57\u001b[0;31m         \u001b[0mtransformed_texts\u001b[0m \u001b[0;34m=\u001b[0m \u001b[0mself\u001b[0m\u001b[0;34m.\u001b[0m\u001b[0m_get_transformations\u001b[0m\u001b[0;34m(\u001b[0m\u001b[0mcurrent_text\u001b[0m\u001b[0;34m,\u001b[0m \u001b[0mindices_to_modify\u001b[0m\u001b[0;34m)\u001b[0m\u001b[0;34m\u001b[0m\u001b[0;34m\u001b[0m\u001b[0m\n\u001b[0m\u001b[1;32m     58\u001b[0m         \u001b[0;32mfor\u001b[0m \u001b[0mtext\u001b[0m \u001b[0;32min\u001b[0m \u001b[0mtransformed_texts\u001b[0m\u001b[0;34m:\u001b[0m\u001b[0;34m\u001b[0m\u001b[0;34m\u001b[0m\u001b[0m\n\u001b[1;32m     59\u001b[0m             \u001b[0mtext\u001b[0m\u001b[0;34m.\u001b[0m\u001b[0mattack_attrs\u001b[0m\u001b[0;34m[\u001b[0m\u001b[0;34m\"last_transformation\"\u001b[0m\u001b[0;34m]\u001b[0m \u001b[0;34m=\u001b[0m \u001b[0mself\u001b[0m\u001b[0;34m\u001b[0m\u001b[0;34m\u001b[0m\u001b[0m\n",
      "\u001b[0;32m~/anaconda3/envs/nlp_project_py37/lib/python3.7/site-packages/textattack/transformations/sentence_transformations/back_translation.py\u001b[0m in \u001b[0;36m_get_transformations\u001b[0;34m(self, current_text, indices_to_modify)\u001b[0m\n\u001b[1;32m     92\u001b[0m                     \u001b[0mself\u001b[0m\u001b[0;34m.\u001b[0m\u001b[0mtarget_model\u001b[0m\u001b[0;34m,\u001b[0m\u001b[0;34m\u001b[0m\u001b[0;34m\u001b[0m\u001b[0m\n\u001b[1;32m     93\u001b[0m                     \u001b[0mself\u001b[0m\u001b[0;34m.\u001b[0m\u001b[0mtarget_tokenizer\u001b[0m\u001b[0;34m,\u001b[0m\u001b[0;34m\u001b[0m\u001b[0;34m\u001b[0m\u001b[0m\n\u001b[0;32m---> 94\u001b[0;31m                     \u001b[0mtarget_lang\u001b[0m\u001b[0;34m,\u001b[0m\u001b[0;34m\u001b[0m\u001b[0;34m\u001b[0m\u001b[0m\n\u001b[0m\u001b[1;32m     95\u001b[0m                 )\n\u001b[1;32m     96\u001b[0m                 src_language_text = self.translate(\n",
      "\u001b[0;32m~/anaconda3/envs/nlp_project_py37/lib/python3.7/site-packages/textattack/transformations/sentence_transformations/back_translation.py\u001b[0m in \u001b[0;36mtranslate\u001b[0;34m(self, input, model, tokenizer, lang)\u001b[0m\n\u001b[1;32m     73\u001b[0m \u001b[0;34m\u001b[0m\u001b[0m\n\u001b[1;32m     74\u001b[0m         \u001b[0;31m# translate the input\u001b[0m\u001b[0;34m\u001b[0m\u001b[0;34m\u001b[0m\u001b[0;34m\u001b[0m\u001b[0m\n\u001b[0;32m---> 75\u001b[0;31m         \u001b[0mtranslated\u001b[0m \u001b[0;34m=\u001b[0m \u001b[0mmodel\u001b[0m\u001b[0;34m.\u001b[0m\u001b[0mgenerate\u001b[0m\u001b[0;34m(\u001b[0m\u001b[0;34m**\u001b[0m\u001b[0mencoded_input\u001b[0m\u001b[0;34m)\u001b[0m\u001b[0;34m\u001b[0m\u001b[0;34m\u001b[0m\u001b[0m\n\u001b[0m\u001b[1;32m     76\u001b[0m         \u001b[0mtranslated_input\u001b[0m \u001b[0;34m=\u001b[0m \u001b[0mtokenizer\u001b[0m\u001b[0;34m.\u001b[0m\u001b[0mbatch_decode\u001b[0m\u001b[0;34m(\u001b[0m\u001b[0mtranslated\u001b[0m\u001b[0;34m,\u001b[0m \u001b[0mskip_special_tokens\u001b[0m\u001b[0;34m=\u001b[0m\u001b[0;32mTrue\u001b[0m\u001b[0;34m)\u001b[0m\u001b[0;34m\u001b[0m\u001b[0;34m\u001b[0m\u001b[0m\n\u001b[1;32m     77\u001b[0m         \u001b[0;32mreturn\u001b[0m \u001b[0mtranslated_input\u001b[0m\u001b[0;34m\u001b[0m\u001b[0;34m\u001b[0m\u001b[0m\n",
      "\u001b[0;32m~/anaconda3/envs/nlp_project_py37/lib/python3.7/site-packages/torch/autograd/grad_mode.py\u001b[0m in \u001b[0;36mdecorate_context\u001b[0;34m(*args, **kwargs)\u001b[0m\n\u001b[1;32m     25\u001b[0m         \u001b[0;32mdef\u001b[0m \u001b[0mdecorate_context\u001b[0m\u001b[0;34m(\u001b[0m\u001b[0;34m*\u001b[0m\u001b[0margs\u001b[0m\u001b[0;34m,\u001b[0m \u001b[0;34m**\u001b[0m\u001b[0mkwargs\u001b[0m\u001b[0;34m)\u001b[0m\u001b[0;34m:\u001b[0m\u001b[0;34m\u001b[0m\u001b[0;34m\u001b[0m\u001b[0m\n\u001b[1;32m     26\u001b[0m             \u001b[0;32mwith\u001b[0m \u001b[0mself\u001b[0m\u001b[0;34m.\u001b[0m\u001b[0mclone\u001b[0m\u001b[0;34m(\u001b[0m\u001b[0;34m)\u001b[0m\u001b[0;34m:\u001b[0m\u001b[0;34m\u001b[0m\u001b[0;34m\u001b[0m\u001b[0m\n\u001b[0;32m---> 27\u001b[0;31m                 \u001b[0;32mreturn\u001b[0m \u001b[0mfunc\u001b[0m\u001b[0;34m(\u001b[0m\u001b[0;34m*\u001b[0m\u001b[0margs\u001b[0m\u001b[0;34m,\u001b[0m \u001b[0;34m**\u001b[0m\u001b[0mkwargs\u001b[0m\u001b[0;34m)\u001b[0m\u001b[0;34m\u001b[0m\u001b[0;34m\u001b[0m\u001b[0m\n\u001b[0m\u001b[1;32m     28\u001b[0m         \u001b[0;32mreturn\u001b[0m \u001b[0mcast\u001b[0m\u001b[0;34m(\u001b[0m\u001b[0mF\u001b[0m\u001b[0;34m,\u001b[0m \u001b[0mdecorate_context\u001b[0m\u001b[0;34m)\u001b[0m\u001b[0;34m\u001b[0m\u001b[0;34m\u001b[0m\u001b[0m\n\u001b[1;32m     29\u001b[0m \u001b[0;34m\u001b[0m\u001b[0m\n",
      "\u001b[0;32m~/anaconda3/envs/nlp_project_py37/lib/python3.7/site-packages/transformers/generation/utils.py\u001b[0m in \u001b[0;36mgenerate\u001b[0;34m(self, inputs, max_length, min_length, do_sample, early_stopping, num_beams, temperature, penalty_alpha, top_k, top_p, typical_p, repetition_penalty, bad_words_ids, force_words_ids, bos_token_id, pad_token_id, eos_token_id, length_penalty, no_repeat_ngram_size, encoder_no_repeat_ngram_size, num_return_sequences, max_time, max_new_tokens, decoder_start_token_id, use_cache, num_beam_groups, diversity_penalty, prefix_allowed_tokens_fn, logits_processor, renormalize_logits, stopping_criteria, constraints, output_attentions, output_hidden_states, output_scores, return_dict_in_generate, forced_bos_token_id, forced_eos_token_id, remove_invalid_values, synced_gpus, exponential_decay_length_penalty, suppress_tokens, begin_suppress_tokens, forced_decoder_ids, **model_kwargs)\u001b[0m\n\u001b[1;32m   1366\u001b[0m             \u001b[0;31m# and added to `model_kwargs`\u001b[0m\u001b[0;34m\u001b[0m\u001b[0;34m\u001b[0m\u001b[0;34m\u001b[0m\u001b[0m\n\u001b[1;32m   1367\u001b[0m             model_kwargs = self._prepare_encoder_decoder_kwargs_for_generation(\n\u001b[0;32m-> 1368\u001b[0;31m                 \u001b[0minputs_tensor\u001b[0m\u001b[0;34m,\u001b[0m \u001b[0mmodel_kwargs\u001b[0m\u001b[0;34m,\u001b[0m \u001b[0mmodel_input_name\u001b[0m\u001b[0;34m\u001b[0m\u001b[0;34m\u001b[0m\u001b[0m\n\u001b[0m\u001b[1;32m   1369\u001b[0m             )\n\u001b[1;32m   1370\u001b[0m \u001b[0;34m\u001b[0m\u001b[0m\n",
      "\u001b[0;32m~/anaconda3/envs/nlp_project_py37/lib/python3.7/site-packages/transformers/generation/utils.py\u001b[0m in \u001b[0;36m_prepare_encoder_decoder_kwargs_for_generation\u001b[0;34m(self, inputs_tensor, model_kwargs, model_input_name)\u001b[0m\n\u001b[1;32m    599\u001b[0m         \u001b[0mencoder_kwargs\u001b[0m\u001b[0;34m[\u001b[0m\u001b[0;34m\"return_dict\"\u001b[0m\u001b[0;34m]\u001b[0m \u001b[0;34m=\u001b[0m \u001b[0;32mTrue\u001b[0m\u001b[0;34m\u001b[0m\u001b[0;34m\u001b[0m\u001b[0m\n\u001b[1;32m    600\u001b[0m         \u001b[0mencoder_kwargs\u001b[0m\u001b[0;34m[\u001b[0m\u001b[0mmodel_input_name\u001b[0m\u001b[0;34m]\u001b[0m \u001b[0;34m=\u001b[0m \u001b[0minputs_tensor\u001b[0m\u001b[0;34m\u001b[0m\u001b[0;34m\u001b[0m\u001b[0m\n\u001b[0;32m--> 601\u001b[0;31m         \u001b[0mmodel_kwargs\u001b[0m\u001b[0;34m[\u001b[0m\u001b[0;34m\"encoder_outputs\"\u001b[0m\u001b[0;34m]\u001b[0m\u001b[0;34m:\u001b[0m \u001b[0mModelOutput\u001b[0m \u001b[0;34m=\u001b[0m \u001b[0mencoder\u001b[0m\u001b[0;34m(\u001b[0m\u001b[0;34m**\u001b[0m\u001b[0mencoder_kwargs\u001b[0m\u001b[0;34m)\u001b[0m\u001b[0;34m\u001b[0m\u001b[0;34m\u001b[0m\u001b[0m\n\u001b[0m\u001b[1;32m    602\u001b[0m \u001b[0;34m\u001b[0m\u001b[0m\n\u001b[1;32m    603\u001b[0m         \u001b[0;32mreturn\u001b[0m \u001b[0mmodel_kwargs\u001b[0m\u001b[0;34m\u001b[0m\u001b[0;34m\u001b[0m\u001b[0m\n",
      "\u001b[0;32m~/anaconda3/envs/nlp_project_py37/lib/python3.7/site-packages/torch/nn/modules/module.py\u001b[0m in \u001b[0;36m_call_impl\u001b[0;34m(self, *input, **kwargs)\u001b[0m\n\u001b[1;32m   1188\u001b[0m         if not (self._backward_hooks or self._forward_hooks or self._forward_pre_hooks or _global_backward_hooks\n\u001b[1;32m   1189\u001b[0m                 or _global_forward_hooks or _global_forward_pre_hooks):\n\u001b[0;32m-> 1190\u001b[0;31m             \u001b[0;32mreturn\u001b[0m \u001b[0mforward_call\u001b[0m\u001b[0;34m(\u001b[0m\u001b[0;34m*\u001b[0m\u001b[0minput\u001b[0m\u001b[0;34m,\u001b[0m \u001b[0;34m**\u001b[0m\u001b[0mkwargs\u001b[0m\u001b[0;34m)\u001b[0m\u001b[0;34m\u001b[0m\u001b[0;34m\u001b[0m\u001b[0m\n\u001b[0m\u001b[1;32m   1191\u001b[0m         \u001b[0;31m# Do not call functions when jit is used\u001b[0m\u001b[0;34m\u001b[0m\u001b[0;34m\u001b[0m\u001b[0;34m\u001b[0m\u001b[0m\n\u001b[1;32m   1192\u001b[0m         \u001b[0mfull_backward_hooks\u001b[0m\u001b[0;34m,\u001b[0m \u001b[0mnon_full_backward_hooks\u001b[0m \u001b[0;34m=\u001b[0m \u001b[0;34m[\u001b[0m\u001b[0;34m]\u001b[0m\u001b[0;34m,\u001b[0m \u001b[0;34m[\u001b[0m\u001b[0;34m]\u001b[0m\u001b[0;34m\u001b[0m\u001b[0;34m\u001b[0m\u001b[0m\n",
      "\u001b[0;32m~/anaconda3/envs/nlp_project_py37/lib/python3.7/site-packages/transformers/models/marian/modeling_marian.py\u001b[0m in \u001b[0;36mforward\u001b[0;34m(self, input_ids, attention_mask, head_mask, inputs_embeds, output_attentions, output_hidden_states, return_dict)\u001b[0m\n\u001b[1;32m    747\u001b[0m \u001b[0;34m\u001b[0m\u001b[0m\n\u001b[1;32m    748\u001b[0m         \u001b[0;32mif\u001b[0m \u001b[0minputs_embeds\u001b[0m \u001b[0;32mis\u001b[0m \u001b[0;32mNone\u001b[0m\u001b[0;34m:\u001b[0m\u001b[0;34m\u001b[0m\u001b[0;34m\u001b[0m\u001b[0m\n\u001b[0;32m--> 749\u001b[0;31m             \u001b[0minputs_embeds\u001b[0m \u001b[0;34m=\u001b[0m \u001b[0mself\u001b[0m\u001b[0;34m.\u001b[0m\u001b[0membed_tokens\u001b[0m\u001b[0;34m(\u001b[0m\u001b[0minput_ids\u001b[0m\u001b[0;34m)\u001b[0m \u001b[0;34m*\u001b[0m \u001b[0mself\u001b[0m\u001b[0;34m.\u001b[0m\u001b[0membed_scale\u001b[0m\u001b[0;34m\u001b[0m\u001b[0;34m\u001b[0m\u001b[0m\n\u001b[0m\u001b[1;32m    750\u001b[0m \u001b[0;34m\u001b[0m\u001b[0m\n\u001b[1;32m    751\u001b[0m         \u001b[0membed_pos\u001b[0m \u001b[0;34m=\u001b[0m \u001b[0mself\u001b[0m\u001b[0;34m.\u001b[0m\u001b[0membed_positions\u001b[0m\u001b[0;34m(\u001b[0m\u001b[0minput_shape\u001b[0m\u001b[0;34m)\u001b[0m\u001b[0;34m\u001b[0m\u001b[0;34m\u001b[0m\u001b[0m\n",
      "\u001b[0;32m~/anaconda3/envs/nlp_project_py37/lib/python3.7/site-packages/torch/nn/modules/module.py\u001b[0m in \u001b[0;36m_call_impl\u001b[0;34m(self, *input, **kwargs)\u001b[0m\n\u001b[1;32m   1188\u001b[0m         if not (self._backward_hooks or self._forward_hooks or self._forward_pre_hooks or _global_backward_hooks\n\u001b[1;32m   1189\u001b[0m                 or _global_forward_hooks or _global_forward_pre_hooks):\n\u001b[0;32m-> 1190\u001b[0;31m             \u001b[0;32mreturn\u001b[0m \u001b[0mforward_call\u001b[0m\u001b[0;34m(\u001b[0m\u001b[0;34m*\u001b[0m\u001b[0minput\u001b[0m\u001b[0;34m,\u001b[0m \u001b[0;34m**\u001b[0m\u001b[0mkwargs\u001b[0m\u001b[0;34m)\u001b[0m\u001b[0;34m\u001b[0m\u001b[0;34m\u001b[0m\u001b[0m\n\u001b[0m\u001b[1;32m   1191\u001b[0m         \u001b[0;31m# Do not call functions when jit is used\u001b[0m\u001b[0;34m\u001b[0m\u001b[0;34m\u001b[0m\u001b[0;34m\u001b[0m\u001b[0m\n\u001b[1;32m   1192\u001b[0m         \u001b[0mfull_backward_hooks\u001b[0m\u001b[0;34m,\u001b[0m \u001b[0mnon_full_backward_hooks\u001b[0m \u001b[0;34m=\u001b[0m \u001b[0;34m[\u001b[0m\u001b[0;34m]\u001b[0m\u001b[0;34m,\u001b[0m \u001b[0;34m[\u001b[0m\u001b[0;34m]\u001b[0m\u001b[0;34m\u001b[0m\u001b[0;34m\u001b[0m\u001b[0m\n",
      "\u001b[0;32m~/anaconda3/envs/nlp_project_py37/lib/python3.7/site-packages/torch/nn/modules/sparse.py\u001b[0m in \u001b[0;36mforward\u001b[0;34m(self, input)\u001b[0m\n\u001b[1;32m    160\u001b[0m         return F.embedding(\n\u001b[1;32m    161\u001b[0m             \u001b[0minput\u001b[0m\u001b[0;34m,\u001b[0m \u001b[0mself\u001b[0m\u001b[0;34m.\u001b[0m\u001b[0mweight\u001b[0m\u001b[0;34m,\u001b[0m \u001b[0mself\u001b[0m\u001b[0;34m.\u001b[0m\u001b[0mpadding_idx\u001b[0m\u001b[0;34m,\u001b[0m \u001b[0mself\u001b[0m\u001b[0;34m.\u001b[0m\u001b[0mmax_norm\u001b[0m\u001b[0;34m,\u001b[0m\u001b[0;34m\u001b[0m\u001b[0;34m\u001b[0m\u001b[0m\n\u001b[0;32m--> 162\u001b[0;31m             self.norm_type, self.scale_grad_by_freq, self.sparse)\n\u001b[0m\u001b[1;32m    163\u001b[0m \u001b[0;34m\u001b[0m\u001b[0m\n\u001b[1;32m    164\u001b[0m     \u001b[0;32mdef\u001b[0m \u001b[0mextra_repr\u001b[0m\u001b[0;34m(\u001b[0m\u001b[0mself\u001b[0m\u001b[0;34m)\u001b[0m \u001b[0;34m->\u001b[0m \u001b[0mstr\u001b[0m\u001b[0;34m:\u001b[0m\u001b[0;34m\u001b[0m\u001b[0;34m\u001b[0m\u001b[0m\n",
      "\u001b[0;32m~/anaconda3/envs/nlp_project_py37/lib/python3.7/site-packages/torch/nn/functional.py\u001b[0m in \u001b[0;36membedding\u001b[0;34m(input, weight, padding_idx, max_norm, norm_type, scale_grad_by_freq, sparse)\u001b[0m\n\u001b[1;32m   2208\u001b[0m         \u001b[0;31m# remove once script supports set_grad_enabled\u001b[0m\u001b[0;34m\u001b[0m\u001b[0;34m\u001b[0m\u001b[0;34m\u001b[0m\u001b[0m\n\u001b[1;32m   2209\u001b[0m         \u001b[0m_no_grad_embedding_renorm_\u001b[0m\u001b[0;34m(\u001b[0m\u001b[0mweight\u001b[0m\u001b[0;34m,\u001b[0m \u001b[0minput\u001b[0m\u001b[0;34m,\u001b[0m \u001b[0mmax_norm\u001b[0m\u001b[0;34m,\u001b[0m \u001b[0mnorm_type\u001b[0m\u001b[0;34m)\u001b[0m\u001b[0;34m\u001b[0m\u001b[0;34m\u001b[0m\u001b[0m\n\u001b[0;32m-> 2210\u001b[0;31m     \u001b[0;32mreturn\u001b[0m \u001b[0mtorch\u001b[0m\u001b[0;34m.\u001b[0m\u001b[0membedding\u001b[0m\u001b[0;34m(\u001b[0m\u001b[0mweight\u001b[0m\u001b[0;34m,\u001b[0m \u001b[0minput\u001b[0m\u001b[0;34m,\u001b[0m \u001b[0mpadding_idx\u001b[0m\u001b[0;34m,\u001b[0m \u001b[0mscale_grad_by_freq\u001b[0m\u001b[0;34m,\u001b[0m \u001b[0msparse\u001b[0m\u001b[0;34m)\u001b[0m\u001b[0;34m\u001b[0m\u001b[0;34m\u001b[0m\u001b[0m\n\u001b[0m\u001b[1;32m   2211\u001b[0m \u001b[0;34m\u001b[0m\u001b[0m\n\u001b[1;32m   2212\u001b[0m \u001b[0;34m\u001b[0m\u001b[0m\n",
      "\u001b[0;31mRuntimeError\u001b[0m: Expected all tensors to be on the same device, but found at least two devices, cuda:0 and cpu! (when checking argument for argument index in method wrapper__index_select)"
     ]
    }
   ],
   "source": [
    "attack_args = AttackArgs(num_examples=1)\n",
    "\n",
    "attacker = Attacker(attack, dataset, attack_args)\n",
    "\n",
    "attack_results = attacker.attack_dataset()"
   ]
  },
  {
   "cell_type": "markdown",
   "metadata": {},
   "source": [
    "# CheckList Augmenter"
   ]
  },
  {
   "cell_type": "code",
   "execution_count": 7,
   "metadata": {},
   "outputs": [
    {
     "name": "stdout",
     "output_type": "stream",
     "text": [
      "Attack(\n",
      "  (search_method): GreedySearch\n",
      "  (goal_function):  UntargetedClassification\n",
      "  (transformation):  CompositeTransformation(\n",
      "    (0): WordSwapChangeNumber\n",
      "    (1): WordSwapChangeLocation\n",
      "    (2): WordSwapChangeName\n",
      "    (3): WordSwapExtend\n",
      "    (4): WordSwapContract\n",
      "    )\n",
      "  (constraints): \n",
      "    (0): RepeatModification\n",
      "    (1): StopwordModification\n",
      "  (is_black_box):  True\n",
      ")\n"
     ]
    }
   ],
   "source": [
    "from textattack.augmentation.recipes import CheckListAugmenter\n",
    "\n",
    "check_list_augmenter = CheckListAugmenter(pct_words_to_swap=0.2, transformations_per_example=5)\n",
    "\n",
    "transformation = check_list_augmenter.transformation\n",
    "\n",
    "# We'll constrain modification of already modified indices and stopwords\n",
    "constraints = [RepeatModification(),\n",
    "               StopwordModification()]\n",
    "\n",
    "# We'll use the Greedy search method\n",
    "search_method = GreedySearch()\n",
    "\n",
    "# Now, let's make the attack from the 4 components:\n",
    "attack = Attack(goal_function, constraints, transformation, search_method)\n",
    "\n",
    "print(attack)"
   ]
  },
  {
   "cell_type": "code",
   "execution_count": 9,
   "metadata": {},
   "outputs": [
    {
     "name": "stdout",
     "output_type": "stream",
     "text": [
      "Attack(\n",
      "  (search_method): GreedySearch\n",
      "  (goal_function):  UntargetedClassification\n",
      "  (transformation):  CompositeTransformation(\n",
      "    (0): WordSwapChangeNumber\n",
      "    (1): WordSwapChangeLocation\n",
      "    (2): WordSwapChangeName\n",
      "    (3): WordSwapExtend\n",
      "    (4): WordSwapContract\n",
      "    )\n",
      "  (constraints): \n",
      "    (0): RepeatModification\n",
      "    (1): StopwordModification\n",
      "  (is_black_box):  True\n",
      ") \n",
      "\n"
     ]
    },
    {
     "name": "stderr",
     "output_type": "stream",
     "text": [
      "[Succeeded / Failed / Skipped / Total] 0 / 1 / 0 / 1:  10%|█         | 1/10 [00:00<00:01,  6.64it/s]"
     ]
    },
    {
     "name": "stdout",
     "output_type": "stream",
     "text": [
      "--------------------------------------------- Result 1 ---------------------------------------------\n",
      "[[Business (100%)]] --> [[[FAILED]]]\n",
      "\n",
      "Fears for T N pension after talks Unions representing workers at Turner   Newall say they are 'disappointed' after talks with stricken parent firm Federal Mogul.\n",
      "\n",
      "\n"
     ]
    },
    {
     "name": "stderr",
     "output_type": "stream",
     "text": [
      "[Succeeded / Failed / Skipped / Total] 0 / 3 / 0 / 3:  30%|███       | 3/10 [00:01<00:04,  1.64it/s]"
     ]
    },
    {
     "name": "stdout",
     "output_type": "stream",
     "text": [
      "--------------------------------------------- Result 2 ---------------------------------------------\n",
      "[[Sci/tech (100%)]] --> [[[FAILED]]]\n",
      "\n",
      "The Race is On: Second Private Team Sets Launch Date for Human Spaceflight (SPACE.com) SPACE.com - TORONTO, Canada -- A second\\team of rocketeers competing for the  #36;10 million Ansari X Prize, a contest for\\privately funded suborbital space flight, has officially announced the first\\launch date for its manned rocket.\n",
      "\n",
      "\n",
      "--------------------------------------------- Result 3 ---------------------------------------------\n",
      "[[Sci/tech (100%)]] --> [[[FAILED]]]\n",
      "\n",
      "Ky. Company Wins Grant to Study Peptides (AP) AP - A company founded by a chemistry researcher at the University of Louisville won a grant to develop a method of producing better peptides, which are short chains of amino acids, the building blocks of proteins.\n",
      "\n",
      "\n"
     ]
    },
    {
     "name": "stderr",
     "output_type": "stream",
     "text": [
      "[Succeeded / Failed / Skipped / Total] 0 / 5 / 0 / 5:  50%|█████     | 5/10 [00:02<00:02,  1.70it/s]"
     ]
    },
    {
     "name": "stdout",
     "output_type": "stream",
     "text": [
      "--------------------------------------------- Result 4 ---------------------------------------------\n",
      "[[Sci/tech (100%)]] --> [[[FAILED]]]\n",
      "\n",
      "Prediction Unit Helps Forecast Wildfires (AP) AP - It's barely dawn when Mike Fitzpatrick starts his shift with a blur of colorful maps, figures and endless charts, but already he knows what the day will bring. Lightning will strike in places he expects. Winds will pick up, moist places will dry and flames will roar.\n",
      "\n",
      "\n",
      "--------------------------------------------- Result 5 ---------------------------------------------\n",
      "[[Sci/tech (100%)]] --> [[[FAILED]]]\n",
      "\n",
      "Calif. Aims to Limit Farm-Related Smog (AP) AP - Southern California's smog-fighting agency went after emissions of the bovine variety Friday, adopting the nation's first rules to reduce air pollution from dairy cow manure.\n",
      "\n",
      "\n"
     ]
    },
    {
     "name": "stderr",
     "output_type": "stream",
     "text": [
      "[Succeeded / Failed / Skipped / Total] 0 / 6 / 0 / 6:  60%|██████    | 6/10 [00:03<00:02,  1.73it/s]"
     ]
    },
    {
     "name": "stdout",
     "output_type": "stream",
     "text": [
      "--------------------------------------------- Result 6 ---------------------------------------------\n",
      "[[Sci/tech (100%)]] --> [[[FAILED]]]\n",
      "\n",
      "Open Letter Against British Copyright Indoctrination in Schools The British Department for Education and Skills (DfES) recently launched a \"Music Manifesto\" campaign, with the ostensible intention of educating the next generation of British musicians. Unfortunately, they also teamed up with the music industry (EMI, and various artists) to make this popular. EMI has apparently negotiated their end well, so that children in our schools will now be indoctrinated about the illegality of downloading music.The ignorance and audacity of this got to me a little, so I wrote an open letter to the DfES about it. Unfortunately, it's pedantic, as I suppose you have to be when writing to goverment representatives. But I hope you find it useful, and perhaps feel inspired to do something similar, if or when the same thing has happened in your area.\n",
      "\n",
      "\n"
     ]
    },
    {
     "name": "stderr",
     "output_type": "stream",
     "text": [
      "[Succeeded / Failed / Skipped / Total] 0 / 7 / 0 / 7:  70%|███████   | 7/10 [00:15<00:06,  2.18s/it]"
     ]
    },
    {
     "name": "stdout",
     "output_type": "stream",
     "text": [
      "--------------------------------------------- Result 7 ---------------------------------------------\n",
      "[[Sci/tech (100%)]] --> [[[FAILED]]]\n",
      "\n",
      "Loosing the War on Terrorism \\\\\"Sven Jaschan, self-confessed author of the Netsky and Sasser viruses, is\\responsible for 70 percent of virus infections in 2004, according to a six-month\\virus roundup published Wednesday by antivirus company Sophos.\"\\\\\"The 18-year-old Jaschan was taken into custody in Germany in May by police who\\said he had admitted programming both the Netsky and Sasser worms, something\\experts at Microsoft confirmed. (A Microsoft antivirus reward program led to the\\teenager's arrest.) During the five months preceding Jaschan's capture, there\\were at least 25 variants of Netsky and one of the port-scanning network worm\\Sasser.\"\\\\\"Graham Cluley, senior technology consultant at Sophos, said it was staggeri ...\\\\\n",
      "\n",
      "\n"
     ]
    },
    {
     "name": "stderr",
     "output_type": "stream",
     "text": [
      "[Succeeded / Failed / Skipped / Total] 0 / 9 / 0 / 9:  90%|█████████ | 9/10 [00:16<00:01,  1.81s/it]"
     ]
    },
    {
     "name": "stdout",
     "output_type": "stream",
     "text": [
      "--------------------------------------------- Result 8 ---------------------------------------------\n",
      "[[Sci/tech (100%)]] --> [[[FAILED]]]\n",
      "\n",
      "FOAFKey: FOAF, PGP, Key Distribution, and Bloom Filters \\\\FOAF/LOAF  and bloom filters have a lot of interesting properties for social\\network and whitelist distribution.\\\\I think we can go one level higher though and include GPG/OpenPGP key\\fingerpring distribution in the FOAF file for simple web-of-trust based key\\distribution.\\\\What if we used FOAF and included the PGP key fingerprint(s) for identities?\\This could mean a lot.  You include the PGP key fingerprints within the FOAF\\file of your direct friends and then include a bloom filter of the PGP key\\fingerprints of your entire whitelist (the source FOAF file would of course need\\to be encrypted ).\\\\Your whitelist would be populated from the social network as your client\\discovered new identit ...\\\\\n",
      "\n",
      "\n",
      "--------------------------------------------- Result 9 ---------------------------------------------\n",
      "[[Sci/tech (98%)]] --> [[[FAILED]]]\n",
      "\n",
      "E-mail scam targets police chief Wiltshire Police warns about \"phishing\" after its fraud squad chief was targeted.\n",
      "\n",
      "\n"
     ]
    },
    {
     "name": "stderr",
     "output_type": "stream",
     "text": [
      "[Succeeded / Failed / Skipped / Total] 0 / 10 / 0 / 10: 100%|██████████| 10/10 [00:17<00:00,  1.75s/it]"
     ]
    },
    {
     "name": "stdout",
     "output_type": "stream",
     "text": [
      "--------------------------------------------- Result 10 ---------------------------------------------\n",
      "[[Sci/tech (98%)]] --> [[[FAILED]]]\n",
      "\n",
      "Card fraud unit nets 36,000 cards In its first two years, the UK's dedicated card fraud unit, has recovered 36,000 stolen cards and 171 arrests - and estimates it saved 65m.\n",
      "\n",
      "\n",
      "\n",
      "+-------------------------------+--------+\n",
      "| Attack Results                |        |\n",
      "+-------------------------------+--------+\n",
      "| Number of successful attacks: | 0      |\n",
      "| Number of failed attacks:     | 10     |\n",
      "| Number of skipped attacks:    | 0      |\n",
      "| Original accuracy:            | 100.0% |\n",
      "| Accuracy under attack:        | 100.0% |\n",
      "| Attack success rate:          | 0.0%   |\n",
      "| Average perturbed word %:     | nan%   |\n",
      "| Average num. words per input: | 63.0   |\n",
      "| Avg num queries:              | 23.6   |\n",
      "+-------------------------------+--------+\n"
     ]
    },
    {
     "name": "stderr",
     "output_type": "stream",
     "text": [
      "\n"
     ]
    }
   ],
   "source": [
    "attack_args = AttackArgs(num_examples=10)\n",
    "\n",
    "attacker = Attacker(attack, dataset, attack_args)\n",
    "\n",
    "attack_results = attacker.attack_dataset()"
   ]
  },
  {
   "cell_type": "markdown",
   "metadata": {},
   "source": [
    "# WordNet Augmenter"
   ]
  },
  {
   "cell_type": "code",
   "execution_count": 14,
   "metadata": {},
   "outputs": [
    {
     "name": "stdout",
     "output_type": "stream",
     "text": [
      "Attack(\n",
      "  (search_method): GreedySearch\n",
      "  (goal_function):  UntargetedClassification\n",
      "  (transformation):  CompositeTransformation(\n",
      "    (0): WordSwapChangeNumber\n",
      "    (1): WordSwapChangeLocation\n",
      "    (2): WordSwapChangeName\n",
      "    (3): WordSwapExtend\n",
      "    (4): WordSwapContract\n",
      "    )\n",
      "  (constraints): None\n",
      "  (is_black_box):  True\n",
      ")\n"
     ]
    },
    {
     "name": "stderr",
     "output_type": "stream",
     "text": [
      "[nltk_data] Downloading package omw-1.4 to\n",
      "[nltk_data]     /home/harsh1621/nltk_data...\n",
      "[nltk_data]   Package omw-1.4 is already up-to-date!\n"
     ]
    }
   ],
   "source": [
    "from textattack.augmentation.recipes import WordNetAugmenter\n",
    "\n",
    "word_net_augmenter = WordNetAugmenter(pct_words_to_swap=0.4, transformations_per_example=5, high_yield=True, enable_advanced_metrics=True)\n",
    "\n",
    "transformation = check_list_augmenter.transformation\n",
    "\n",
    "# We'll constrain modification of already modified indices and stopwords\n",
    "# constraints = [RepeatModification(),\n",
    "#                StopwordModification()]\n",
    "constraints = []\n",
    "\n",
    "# We'll use the Greedy search method\n",
    "search_method = GreedySearch()\n",
    "\n",
    "# Now, let's make the attack from the 4 components:\n",
    "attack = Attack(goal_function, constraints, transformation, search_method)\n",
    "\n",
    "print(attack)"
   ]
  },
  {
   "cell_type": "code",
   "execution_count": 15,
   "metadata": {
    "collapsed": true
   },
   "outputs": [
    {
     "name": "stdout",
     "output_type": "stream",
     "text": [
      "Attack(\n",
      "  (search_method): GreedySearch\n",
      "  (goal_function):  UntargetedClassification\n",
      "  (transformation):  CompositeTransformation(\n",
      "    (0): WordSwapChangeNumber\n",
      "    (1): WordSwapChangeLocation\n",
      "    (2): WordSwapChangeName\n",
      "    (3): WordSwapExtend\n",
      "    (4): WordSwapContract\n",
      "    )\n",
      "  (constraints): None\n",
      "  (is_black_box):  True\n",
      ") \n",
      "\n"
     ]
    },
    {
     "name": "stderr",
     "output_type": "stream",
     "text": [
      "\r",
      "  0%|          | 0/3 [00:00<?, ?it/s]"
     ]
    },
    {
     "ename": "KeyboardInterrupt",
     "evalue": "",
     "output_type": "error",
     "traceback": [
      "\u001b[0;31m---------------------------------------------------------------------------\u001b[0m",
      "\u001b[0;31mKeyboardInterrupt\u001b[0m                         Traceback (most recent call last)",
      "\u001b[0;32m<ipython-input-15-22d4d739ab93>\u001b[0m in \u001b[0;36m<module>\u001b[0;34m\u001b[0m\n\u001b[1;32m      3\u001b[0m \u001b[0mattacker\u001b[0m \u001b[0;34m=\u001b[0m \u001b[0mAttacker\u001b[0m\u001b[0;34m(\u001b[0m\u001b[0mattack\u001b[0m\u001b[0;34m,\u001b[0m \u001b[0mdataset\u001b[0m\u001b[0;34m,\u001b[0m \u001b[0mattack_args\u001b[0m\u001b[0;34m)\u001b[0m\u001b[0;34m\u001b[0m\u001b[0;34m\u001b[0m\u001b[0m\n\u001b[1;32m      4\u001b[0m \u001b[0;34m\u001b[0m\u001b[0m\n\u001b[0;32m----> 5\u001b[0;31m \u001b[0mattack_results\u001b[0m \u001b[0;34m=\u001b[0m \u001b[0mattacker\u001b[0m\u001b[0;34m.\u001b[0m\u001b[0mattack_dataset\u001b[0m\u001b[0;34m(\u001b[0m\u001b[0;34m)\u001b[0m\u001b[0;34m\u001b[0m\u001b[0;34m\u001b[0m\u001b[0m\n\u001b[0m",
      "\u001b[0;32m~/anaconda3/envs/nlp_project_py37/lib/python3.7/site-packages/textattack/attacker.py\u001b[0m in \u001b[0;36mattack_dataset\u001b[0;34m(self)\u001b[0m\n\u001b[1;32m    439\u001b[0m             \u001b[0mself\u001b[0m\u001b[0;34m.\u001b[0m\u001b[0m_attack_parallel\u001b[0m\u001b[0;34m(\u001b[0m\u001b[0;34m)\u001b[0m\u001b[0;34m\u001b[0m\u001b[0;34m\u001b[0m\u001b[0m\n\u001b[1;32m    440\u001b[0m         \u001b[0;32melse\u001b[0m\u001b[0;34m:\u001b[0m\u001b[0;34m\u001b[0m\u001b[0;34m\u001b[0m\u001b[0m\n\u001b[0;32m--> 441\u001b[0;31m             \u001b[0mself\u001b[0m\u001b[0;34m.\u001b[0m\u001b[0m_attack\u001b[0m\u001b[0;34m(\u001b[0m\u001b[0;34m)\u001b[0m\u001b[0;34m\u001b[0m\u001b[0;34m\u001b[0m\u001b[0m\n\u001b[0m\u001b[1;32m    442\u001b[0m \u001b[0;34m\u001b[0m\u001b[0m\n\u001b[1;32m    443\u001b[0m         \u001b[0;32mif\u001b[0m \u001b[0mself\u001b[0m\u001b[0;34m.\u001b[0m\u001b[0mattack_args\u001b[0m\u001b[0;34m.\u001b[0m\u001b[0msilent\u001b[0m\u001b[0;34m:\u001b[0m\u001b[0;34m\u001b[0m\u001b[0;34m\u001b[0m\u001b[0m\n",
      "\u001b[0;32m~/anaconda3/envs/nlp_project_py37/lib/python3.7/site-packages/textattack/attacker.py\u001b[0m in \u001b[0;36m_attack\u001b[0;34m(self)\u001b[0m\n\u001b[1;32m    166\u001b[0m                 \u001b[0mexample\u001b[0m\u001b[0;34m.\u001b[0m\u001b[0mattack_attrs\u001b[0m\u001b[0;34m[\u001b[0m\u001b[0;34m\"label_names\"\u001b[0m\u001b[0;34m]\u001b[0m \u001b[0;34m=\u001b[0m \u001b[0mself\u001b[0m\u001b[0;34m.\u001b[0m\u001b[0mdataset\u001b[0m\u001b[0;34m.\u001b[0m\u001b[0mlabel_names\u001b[0m\u001b[0;34m\u001b[0m\u001b[0;34m\u001b[0m\u001b[0m\n\u001b[1;32m    167\u001b[0m             \u001b[0;32mtry\u001b[0m\u001b[0;34m:\u001b[0m\u001b[0;34m\u001b[0m\u001b[0;34m\u001b[0m\u001b[0m\n\u001b[0;32m--> 168\u001b[0;31m                 \u001b[0mresult\u001b[0m \u001b[0;34m=\u001b[0m \u001b[0mself\u001b[0m\u001b[0;34m.\u001b[0m\u001b[0mattack\u001b[0m\u001b[0;34m.\u001b[0m\u001b[0mattack\u001b[0m\u001b[0;34m(\u001b[0m\u001b[0mexample\u001b[0m\u001b[0;34m,\u001b[0m \u001b[0mground_truth_output\u001b[0m\u001b[0;34m)\u001b[0m\u001b[0;34m\u001b[0m\u001b[0;34m\u001b[0m\u001b[0m\n\u001b[0m\u001b[1;32m    169\u001b[0m             \u001b[0;32mexcept\u001b[0m \u001b[0mException\u001b[0m \u001b[0;32mas\u001b[0m \u001b[0me\u001b[0m\u001b[0;34m:\u001b[0m\u001b[0;34m\u001b[0m\u001b[0;34m\u001b[0m\u001b[0m\n\u001b[1;32m    170\u001b[0m                 \u001b[0;32mraise\u001b[0m \u001b[0me\u001b[0m\u001b[0;34m\u001b[0m\u001b[0;34m\u001b[0m\u001b[0m\n",
      "\u001b[0;32m~/anaconda3/envs/nlp_project_py37/lib/python3.7/site-packages/textattack/attack.py\u001b[0m in \u001b[0;36mattack\u001b[0;34m(self, example, ground_truth_output)\u001b[0m\n\u001b[1;32m    446\u001b[0m             \u001b[0;32mreturn\u001b[0m \u001b[0mSkippedAttackResult\u001b[0m\u001b[0;34m(\u001b[0m\u001b[0mgoal_function_result\u001b[0m\u001b[0;34m)\u001b[0m\u001b[0;34m\u001b[0m\u001b[0;34m\u001b[0m\u001b[0m\n\u001b[1;32m    447\u001b[0m         \u001b[0;32melse\u001b[0m\u001b[0;34m:\u001b[0m\u001b[0;34m\u001b[0m\u001b[0;34m\u001b[0m\u001b[0m\n\u001b[0;32m--> 448\u001b[0;31m             \u001b[0mresult\u001b[0m \u001b[0;34m=\u001b[0m \u001b[0mself\u001b[0m\u001b[0;34m.\u001b[0m\u001b[0m_attack\u001b[0m\u001b[0;34m(\u001b[0m\u001b[0mgoal_function_result\u001b[0m\u001b[0;34m)\u001b[0m\u001b[0;34m\u001b[0m\u001b[0;34m\u001b[0m\u001b[0m\n\u001b[0m\u001b[1;32m    449\u001b[0m             \u001b[0;32mreturn\u001b[0m \u001b[0mresult\u001b[0m\u001b[0;34m\u001b[0m\u001b[0;34m\u001b[0m\u001b[0m\n\u001b[1;32m    450\u001b[0m \u001b[0;34m\u001b[0m\u001b[0m\n",
      "\u001b[0;32m~/anaconda3/envs/nlp_project_py37/lib/python3.7/site-packages/textattack/attack.py\u001b[0m in \u001b[0;36m_attack\u001b[0;34m(self, initial_result)\u001b[0m\n\u001b[1;32m    394\u001b[0m                 \u001b[0;32mor\u001b[0m\u001b[0;31m \u001b[0m\u001b[0;31m`\u001b[0m\u001b[0;31m`\u001b[0m\u001b[0mMaximizedAttackResult\u001b[0m\u001b[0;31m`\u001b[0m\u001b[0;31m`\u001b[0m\u001b[0;34m.\u001b[0m\u001b[0;34m\u001b[0m\u001b[0;34m\u001b[0m\u001b[0m\n\u001b[1;32m    395\u001b[0m         \"\"\"\n\u001b[0;32m--> 396\u001b[0;31m         \u001b[0mfinal_result\u001b[0m \u001b[0;34m=\u001b[0m \u001b[0mself\u001b[0m\u001b[0;34m.\u001b[0m\u001b[0msearch_method\u001b[0m\u001b[0;34m(\u001b[0m\u001b[0minitial_result\u001b[0m\u001b[0;34m)\u001b[0m\u001b[0;34m\u001b[0m\u001b[0;34m\u001b[0m\u001b[0m\n\u001b[0m\u001b[1;32m    397\u001b[0m         \u001b[0mself\u001b[0m\u001b[0;34m.\u001b[0m\u001b[0mclear_cache\u001b[0m\u001b[0;34m(\u001b[0m\u001b[0;34m)\u001b[0m\u001b[0;34m\u001b[0m\u001b[0;34m\u001b[0m\u001b[0m\n\u001b[1;32m    398\u001b[0m         \u001b[0;32mif\u001b[0m \u001b[0mfinal_result\u001b[0m\u001b[0;34m.\u001b[0m\u001b[0mgoal_status\u001b[0m \u001b[0;34m==\u001b[0m \u001b[0mGoalFunctionResultStatus\u001b[0m\u001b[0;34m.\u001b[0m\u001b[0mSUCCEEDED\u001b[0m\u001b[0;34m:\u001b[0m\u001b[0;34m\u001b[0m\u001b[0;34m\u001b[0m\u001b[0m\n",
      "\u001b[0;32m~/anaconda3/envs/nlp_project_py37/lib/python3.7/site-packages/textattack/search_methods/search_method.py\u001b[0m in \u001b[0;36m__call__\u001b[0;34m(self, initial_result)\u001b[0m\n\u001b[1;32m     34\u001b[0m             )\n\u001b[1;32m     35\u001b[0m \u001b[0;34m\u001b[0m\u001b[0m\n\u001b[0;32m---> 36\u001b[0;31m         \u001b[0mresult\u001b[0m \u001b[0;34m=\u001b[0m \u001b[0mself\u001b[0m\u001b[0;34m.\u001b[0m\u001b[0mperform_search\u001b[0m\u001b[0;34m(\u001b[0m\u001b[0minitial_result\u001b[0m\u001b[0;34m)\u001b[0m\u001b[0;34m\u001b[0m\u001b[0;34m\u001b[0m\u001b[0m\n\u001b[0m\u001b[1;32m     37\u001b[0m         \u001b[0;31m# ensure that the number of queries for this GoalFunctionResult is up-to-date\u001b[0m\u001b[0;34m\u001b[0m\u001b[0;34m\u001b[0m\u001b[0;34m\u001b[0m\u001b[0m\n\u001b[1;32m     38\u001b[0m         \u001b[0mresult\u001b[0m\u001b[0;34m.\u001b[0m\u001b[0mnum_queries\u001b[0m \u001b[0;34m=\u001b[0m \u001b[0mself\u001b[0m\u001b[0;34m.\u001b[0m\u001b[0mgoal_function\u001b[0m\u001b[0;34m.\u001b[0m\u001b[0mnum_queries\u001b[0m\u001b[0;34m\u001b[0m\u001b[0;34m\u001b[0m\u001b[0m\n",
      "\u001b[0;32m~/anaconda3/envs/nlp_project_py37/lib/python3.7/site-packages/textattack/search_methods/beam_search.py\u001b[0m in \u001b[0;36mperform_search\u001b[0;34m(self, initial_result)\u001b[0m\n\u001b[1;32m     46\u001b[0m             \u001b[0;31m# Refill the beam. This works by sorting the scores\u001b[0m\u001b[0;34m\u001b[0m\u001b[0;34m\u001b[0m\u001b[0;34m\u001b[0m\u001b[0m\n\u001b[1;32m     47\u001b[0m             \u001b[0;31m# in descending order and filling the beam from there.\u001b[0m\u001b[0;34m\u001b[0m\u001b[0;34m\u001b[0m\u001b[0;34m\u001b[0m\u001b[0m\n\u001b[0;32m---> 48\u001b[0;31m             \u001b[0mbest_indices\u001b[0m \u001b[0;34m=\u001b[0m \u001b[0;34m(\u001b[0m\u001b[0;34m-\u001b[0m\u001b[0mscores\u001b[0m\u001b[0;34m)\u001b[0m\u001b[0;34m.\u001b[0m\u001b[0margsort\u001b[0m\u001b[0;34m(\u001b[0m\u001b[0;34m)\u001b[0m\u001b[0;34m[\u001b[0m\u001b[0;34m:\u001b[0m \u001b[0mself\u001b[0m\u001b[0;34m.\u001b[0m\u001b[0mbeam_width\u001b[0m\u001b[0;34m]\u001b[0m\u001b[0;34m\u001b[0m\u001b[0;34m\u001b[0m\u001b[0m\n\u001b[0m\u001b[1;32m     49\u001b[0m             \u001b[0mbeam\u001b[0m \u001b[0;34m=\u001b[0m \u001b[0;34m[\u001b[0m\u001b[0mpotential_next_beam\u001b[0m\u001b[0;34m[\u001b[0m\u001b[0mi\u001b[0m\u001b[0;34m]\u001b[0m \u001b[0;32mfor\u001b[0m \u001b[0mi\u001b[0m \u001b[0;32min\u001b[0m \u001b[0mbest_indices\u001b[0m\u001b[0;34m]\u001b[0m\u001b[0;34m\u001b[0m\u001b[0;34m\u001b[0m\u001b[0m\n\u001b[1;32m     50\u001b[0m \u001b[0;34m\u001b[0m\u001b[0m\n",
      "\u001b[0;31mKeyboardInterrupt\u001b[0m: "
     ]
    }
   ],
   "source": [
    "attack_args = AttackArgs(num_examples=3)\n",
    "\n",
    "attacker = Attacker(attack, dataset, attack_args)\n",
    "\n",
    "attack_results = attacker.attack_dataset()"
   ]
  },
  {
   "cell_type": "markdown",
   "metadata": {},
   "source": [
    "# Synonym Insertion"
   ]
  },
  {
   "cell_type": "code",
   "execution_count": 3,
   "metadata": {},
   "outputs": [
    {
     "name": "stdout",
     "output_type": "stream",
     "text": [
      "Attack(\n",
      "  (search_method): GreedySearch\n",
      "  (goal_function):  UntargetedClassification\n",
      "  (transformation):  WordInsertionRandomSynonym\n",
      "  (constraints): None\n",
      "  (is_black_box):  True\n",
      ")\n"
     ]
    }
   ],
   "source": [
    "from textattack.augmentation.recipes import SynonymInsertionAugmenter\n",
    "\n",
    "synonym_augmenter = SynonymInsertionAugmenter(pct_words_to_swap=0.4, transformations_per_example=3, high_yield=True, enable_advanced_metrics=True)\n",
    "\n",
    "transformation = synonym_augmenter.transformation\n",
    "\n",
    "# We'll constrain modification of already modified indices and stopwords\n",
    "# constraints = [RepeatModification(),\n",
    "#                StopwordModification()]\n",
    "constraints = []\n",
    "\n",
    "# We'll use the Greedy search method\n",
    "search_method = GreedySearch()\n",
    "\n",
    "# Now, let's make the attack from the 4 components:\n",
    "attack = Attack(goal_function, constraints, transformation, search_method)\n",
    "\n",
    "print(attack)"
   ]
  },
  {
   "cell_type": "code",
   "execution_count": 4,
   "metadata": {},
   "outputs": [
    {
     "name": "stdout",
     "output_type": "stream",
     "text": [
      "Attack(\n",
      "  (search_method): GreedySearch\n",
      "  (goal_function):  UntargetedClassification\n",
      "  (transformation):  WordInsertionRandomSynonym\n",
      "  (constraints): None\n",
      "  (is_black_box):  True\n",
      ") \n",
      "\n"
     ]
    },
    {
     "name": "stderr",
     "output_type": "stream",
     "text": [
      " 33%|███▎      | 1/3 [01:57<03:54, 117.38s/it]"
     ]
    },
    {
     "name": "stdout",
     "output_type": "stream",
     "text": [
      "--------------------------------------------- Result 1 ---------------------------------------------\n"
     ]
    },
    {
     "name": "stderr",
     "output_type": "stream",
     "text": [
      "\r",
      "[Succeeded / Failed / Skipped / Total] 1 / 0 / 0 / 1:  33%|███▎      | 1/3 [01:57<03:55, 117.74s/it]"
     ]
    },
    {
     "name": "stdout",
     "output_type": "stream",
     "text": [
      "[[Business (100%)]] --> [[World (59%)]]\n",
      "\n",
      "Fears for T N pension after talks Unions representing workers at Turner   Newall say they are 'disappointed' after talks with stricken parent firm Federal Mogul.\n",
      "\n",
      "[[deal]] Fears for T N [[Fed]] pension after [[smitten]] [[turner]] [[magnate]] [[Turner]] [[tonne]] talks Unions representing [[turner]] [[care]] workers [[rear]] at Turner   Newall [[Fed]] [[marriage]] say they are '[[n]] [[arouse]] [[afterwards]] [[Fed]] [[be]] [[matrimony]] [[nurture]] [[at]] [[steadfastly]] [[run]] disappointed' after talks [[raise]] [[streamlet]] [[federal]] [[smitten]] [[dialogue]] [[allot]] [[raise]] [[Fed]] [[wedlock]] with [[lift]] [[struck]] [[afflict]] stricken parent [[assume]] [[endure]] firm [[ply]] [[At]] [[astatine]] [[mogul]] [[enamored]] [[At]] [[lecture]] [[astatine]] [[afflicted]] [[marriage]] [[infatuated]] [[federal]] [[subsequently]] Federal [[house]] [[house]] [[power]] [[infatuated]] [[smitten]] [[marriage]] Mogul.\n",
      "\n",
      "\n"
     ]
    },
    {
     "name": "stderr",
     "output_type": "stream",
     "text": [
      "[Succeeded / Failed / Skipped / Total] 2 / 0 / 0 / 2:  67%|██████▋   | 2/3 [05:56<02:58, 178.39s/it]"
     ]
    },
    {
     "name": "stdout",
     "output_type": "stream",
     "text": [
      "--------------------------------------------- Result 2 ---------------------------------------------\n",
      "[[Sci/tech (100%)]] --> [[World (52%)]]\n",
      "\n",
      "The Race is On: Second Private Team Sets Launch Date for Human Spaceflight (SPACE.com) SPACE.com - TORONTO, Canada -- A second\\team of rocketeers competing for the  #36;10 million Ansari X Prize, a contest for\\privately funded suborbital space flight, has officially announced the first\\launch date for its manned rocket.\n",
      "\n",
      "The Race is On: Second Private Team Sets Launch [[squad]] Date [[clandestine]] [[equal]] [[vie]] [[fund]] for Human [[establish]] Spaceflight ([[man]] [[indorse]] SPACE.com) [[human]] SPACE.com - [[X]] [[mystery]] TORONTO, [[secret]] [[roquette]] Canada -- A second\\team of rocketeers competing for the  #36;10 million Ansari [[subocular]] X Prize, [[undercover]] a contest for\\privately funded suborbital space flight, has officially [[escape]] [[turnout]] announced the first\\[[secret]] launch [[declare]] date for [[secret]] [[IT]] [[secret]] [[back]] its [[arugula]] [[team]] [[blank]] [[on]] [[A]] [[ecstasy]] [[on]] [[human]] [[indorse]] [[be]] [[along]] [[ten]] [[ten]] [[rig]] manned [[s]] [[homo]] [[ampere]] [[make]] [[back]] [[on]] [[homosexual]] [[gay]] [[team]] [[on]] [[man]] [[stock]] [[along]] [[hidden]] [[homosexual]] [[contend]] [[along]] [[hold]] [[A]] [[stock]] [[whiten]] [[denote]] [[amp]] [[clandestine]] [[rocket]] [[gay]] [[along]] [[human]] [[white]] rocket.\n",
      "\n",
      "\n"
     ]
    },
    {
     "name": "stderr",
     "output_type": "stream",
     "text": [
      "[Succeeded / Failed / Skipped / Total] 3 / 0 / 0 / 3: 100%|██████████| 3/3 [06:13<00:00, 124.57s/it]"
     ]
    },
    {
     "name": "stdout",
     "output_type": "stream",
     "text": [
      "--------------------------------------------- Result 3 ---------------------------------------------\n",
      "[[Sci/tech (100%)]] --> [[Business (67%)]]\n",
      "\n",
      "Ky. Company Wins Grant to Study Peptides (AP) AP - A company founded by a chemistry researcher at the University of Louisville won a grant to develop a method of producing better peptides, which are short chains of amino acids, the building blocks of proteins.\n",
      "\n",
      "[[progress]] Ky. Company Wins Grant to Study Peptides (AP) [[embody]] AP - A [[germinate]] company founded by a chemistry researcher [[alchemy]] at the University of [[peptide]] Louisville won a grant [[shortstop]] to [[profits]] develop a method of [[succeed]] producing better peptides, which are short chains of amino acids, the building blocks of proteins.\n",
      "\n",
      "\n",
      "\n",
      "+-------------------------------+--------+\n",
      "| Attack Results                |        |\n",
      "+-------------------------------+--------+\n",
      "| Number of successful attacks: | 3      |\n",
      "| Number of failed attacks:     | 0      |\n",
      "| Number of skipped attacks:    | 0      |\n",
      "| Original accuracy:            | 100.0% |\n",
      "| Accuracy under attack:        | 0.0%   |\n",
      "| Attack success rate:          | 100.0% |\n",
      "| Average perturbed word %:     | 92.14% |\n",
      "| Average num. words per input: | 40.33  |\n",
      "| Avg num queries:              | 2940.0 |\n",
      "+-------------------------------+--------+\n"
     ]
    },
    {
     "name": "stderr",
     "output_type": "stream",
     "text": [
      "\n"
     ]
    }
   ],
   "source": [
    "attack_args = AttackArgs(num_examples=3)\n",
    "\n",
    "attacker = Attacker(attack, dataset, attack_args)\n",
    "\n",
    "attack_results = attacker.attack_dataset()"
   ]
  },
  {
   "cell_type": "markdown",
   "metadata": {},
   "source": [
    "# PerSenT Model and Data"
   ]
  },
  {
   "cell_type": "code",
   "execution_count": 2,
   "metadata": {},
   "outputs": [
    {
     "name": "stderr",
     "output_type": "stream",
     "text": [
      "textattack: Unknown if model of class <class 'transformers.models.bert.modeling_bert.BertForSequenceClassification'> compatible with goal function <class 'textattack.goal_functions.classification.untargeted_classification.UntargetedClassification'>.\n"
     ]
    }
   ],
   "source": [
    "import torch\n",
    "from transformers import BertModel, BertTokenizer, BertForSequenceClassification, AutoModelForSequenceClassification\n",
    "import os\n",
    "\n",
    "model = BertForSequenceClassification.from_pretrained(pretrained_model_name_or_path=\"pytorch_model.bin\", config=\"config_pyt.json\")\n",
    "\n",
    "num_labels = 3\n",
    "\n",
    "model.classifier = torch.nn.Linear(model.config.hidden_size, num_labels)\n",
    "\n",
    "tokenizer = BertTokenizer.from_pretrained(os.getcwd())\n",
    "\n",
    "model_wrapper = HuggingFaceModelWrapper(model, tokenizer)\n",
    "\n",
    "goal_function = UntargetedClassification(model_wrapper)"
   ]
  },
  {
   "cell_type": "markdown",
   "metadata": {},
   "source": [
    "## Persent Data"
   ]
  },
  {
   "cell_type": "code",
   "execution_count": 3,
   "metadata": {},
   "outputs": [
    {
     "data": {
      "text/html": [
       "<div>\n",
       "<style scoped>\n",
       "    .dataframe tbody tr th:only-of-type {\n",
       "        vertical-align: middle;\n",
       "    }\n",
       "\n",
       "    .dataframe tbody tr th {\n",
       "        vertical-align: top;\n",
       "    }\n",
       "\n",
       "    .dataframe thead th {\n",
       "        text-align: right;\n",
       "    }\n",
       "</style>\n",
       "<table border=\"1\" class=\"dataframe\">\n",
       "  <thead>\n",
       "    <tr style=\"text-align: right;\">\n",
       "      <th></th>\n",
       "      <th>DOCUMENT_INDEX</th>\n",
       "      <th>TITLE</th>\n",
       "      <th>TARGET_ENTITY</th>\n",
       "      <th>DOCUMENT</th>\n",
       "      <th>MASKED_DOCUMENT</th>\n",
       "      <th>TRUE_SENTIMENT</th>\n",
       "      <th>Paragraph0</th>\n",
       "      <th>Paragraph1</th>\n",
       "      <th>Paragraph2</th>\n",
       "      <th>Paragraph3</th>\n",
       "      <th>...</th>\n",
       "      <th>Paragraph6</th>\n",
       "      <th>Paragraph7</th>\n",
       "      <th>Paragraph8</th>\n",
       "      <th>Paragraph9</th>\n",
       "      <th>Paragraph10</th>\n",
       "      <th>Paragraph11</th>\n",
       "      <th>Paragraph12</th>\n",
       "      <th>Paragraph13</th>\n",
       "      <th>Paragraph14</th>\n",
       "      <th>Paragraph15</th>\n",
       "    </tr>\n",
       "  </thead>\n",
       "  <tbody>\n",
       "    <tr>\n",
       "      <th>0</th>\n",
       "      <td>4550</td>\n",
       "      <td>UPDATE 6</td>\n",
       "      <td>Donald Trump</td>\n",
       "      <td>term extension of government funding that woul...</td>\n",
       "      <td>term extension of government funding that woul...</td>\n",
       "      <td>Neutral</td>\n",
       "      <td>NaN</td>\n",
       "      <td>NaN</td>\n",
       "      <td>NaN</td>\n",
       "      <td>NaN</td>\n",
       "      <td>...</td>\n",
       "      <td>NaN</td>\n",
       "      <td>NaN</td>\n",
       "      <td>NaN</td>\n",
       "      <td>NaN</td>\n",
       "      <td>NaN</td>\n",
       "      <td>NaN</td>\n",
       "      <td>NaN</td>\n",
       "      <td>NaN</td>\n",
       "      <td>NaN</td>\n",
       "      <td>NaN</td>\n",
       "    </tr>\n",
       "    <tr>\n",
       "      <th>1</th>\n",
       "      <td>4551</td>\n",
       "      <td>Special Counsel Mueller reportedly seeks Q&amp;A w...</td>\n",
       "      <td>Donald Trump</td>\n",
       "      <td>At a press conference in June   a reporter ask...</td>\n",
       "      <td>At a press conference in June   a reporter ask...</td>\n",
       "      <td>Neutral</td>\n",
       "      <td>NaN</td>\n",
       "      <td>NaN</td>\n",
       "      <td>NaN</td>\n",
       "      <td>NaN</td>\n",
       "      <td>...</td>\n",
       "      <td>NaN</td>\n",
       "      <td>NaN</td>\n",
       "      <td>NaN</td>\n",
       "      <td>NaN</td>\n",
       "      <td>NaN</td>\n",
       "      <td>NaN</td>\n",
       "      <td>NaN</td>\n",
       "      <td>NaN</td>\n",
       "      <td>NaN</td>\n",
       "      <td>NaN</td>\n",
       "    </tr>\n",
       "    <tr>\n",
       "      <th>2</th>\n",
       "      <td>4552</td>\n",
       "      <td>AP News in Brief at 6:04 a.m. EST</td>\n",
       "      <td>Donald Trump</td>\n",
       "      <td>Trump   Xi present united front despite differ...</td>\n",
       "      <td>Trump   Xi present united front despite differ...</td>\n",
       "      <td>Positive</td>\n",
       "      <td>NaN</td>\n",
       "      <td>NaN</td>\n",
       "      <td>NaN</td>\n",
       "      <td>NaN</td>\n",
       "      <td>...</td>\n",
       "      <td>NaN</td>\n",
       "      <td>NaN</td>\n",
       "      <td>NaN</td>\n",
       "      <td>NaN</td>\n",
       "      <td>NaN</td>\n",
       "      <td>NaN</td>\n",
       "      <td>NaN</td>\n",
       "      <td>NaN</td>\n",
       "      <td>NaN</td>\n",
       "      <td>NaN</td>\n",
       "    </tr>\n",
       "    <tr>\n",
       "      <th>3</th>\n",
       "      <td>4553</td>\n",
       "      <td>The Latest: Trump says he thinks Mueller 'will...</td>\n",
       "      <td>Donald Trump</td>\n",
       "      <td>The Latest on President Donald Trump in Florid...</td>\n",
       "      <td>The Latest on [TGT] ( all times local ): 9 : 3...</td>\n",
       "      <td>Neutral</td>\n",
       "      <td>NaN</td>\n",
       "      <td>NaN</td>\n",
       "      <td>NaN</td>\n",
       "      <td>NaN</td>\n",
       "      <td>...</td>\n",
       "      <td>NaN</td>\n",
       "      <td>NaN</td>\n",
       "      <td>NaN</td>\n",
       "      <td>NaN</td>\n",
       "      <td>NaN</td>\n",
       "      <td>NaN</td>\n",
       "      <td>NaN</td>\n",
       "      <td>NaN</td>\n",
       "      <td>NaN</td>\n",
       "      <td>NaN</td>\n",
       "    </tr>\n",
       "    <tr>\n",
       "      <th>4</th>\n",
       "      <td>4554</td>\n",
       "      <td>New York Times Opinion Page To Publish Letters...</td>\n",
       "      <td>Donald Trump</td>\n",
       "      <td>“ I ’ m thrilled with the progress that Presid...</td>\n",
       "      <td>“ I ’ m thrilled with the progress that Presid...</td>\n",
       "      <td>Positive</td>\n",
       "      <td>NaN</td>\n",
       "      <td>NaN</td>\n",
       "      <td>NaN</td>\n",
       "      <td>NaN</td>\n",
       "      <td>...</td>\n",
       "      <td>NaN</td>\n",
       "      <td>NaN</td>\n",
       "      <td>NaN</td>\n",
       "      <td>NaN</td>\n",
       "      <td>NaN</td>\n",
       "      <td>NaN</td>\n",
       "      <td>NaN</td>\n",
       "      <td>NaN</td>\n",
       "      <td>NaN</td>\n",
       "      <td>NaN</td>\n",
       "    </tr>\n",
       "  </tbody>\n",
       "</table>\n",
       "<p>5 rows × 22 columns</p>\n",
       "</div>"
      ],
      "text/plain": [
       "   DOCUMENT_INDEX                                              TITLE  \\\n",
       "0            4550                                           UPDATE 6   \n",
       "1            4551  Special Counsel Mueller reportedly seeks Q&A w...   \n",
       "2            4552                  AP News in Brief at 6:04 a.m. EST   \n",
       "3            4553  The Latest: Trump says he thinks Mueller 'will...   \n",
       "4            4554  New York Times Opinion Page To Publish Letters...   \n",
       "\n",
       "  TARGET_ENTITY                                           DOCUMENT  \\\n",
       "0  Donald Trump  term extension of government funding that woul...   \n",
       "1  Donald Trump  At a press conference in June   a reporter ask...   \n",
       "2  Donald Trump  Trump   Xi present united front despite differ...   \n",
       "3  Donald Trump  The Latest on President Donald Trump in Florid...   \n",
       "4  Donald Trump  “ I ’ m thrilled with the progress that Presid...   \n",
       "\n",
       "                                     MASKED_DOCUMENT TRUE_SENTIMENT  \\\n",
       "0  term extension of government funding that woul...        Neutral   \n",
       "1  At a press conference in June   a reporter ask...        Neutral   \n",
       "2  Trump   Xi present united front despite differ...       Positive   \n",
       "3  The Latest on [TGT] ( all times local ): 9 : 3...        Neutral   \n",
       "4  “ I ’ m thrilled with the progress that Presid...       Positive   \n",
       "\n",
       "  Paragraph0 Paragraph1 Paragraph2 Paragraph3  ... Paragraph6 Paragraph7  \\\n",
       "0        NaN        NaN        NaN        NaN  ...        NaN        NaN   \n",
       "1        NaN        NaN        NaN        NaN  ...        NaN        NaN   \n",
       "2        NaN        NaN        NaN        NaN  ...        NaN        NaN   \n",
       "3        NaN        NaN        NaN        NaN  ...        NaN        NaN   \n",
       "4        NaN        NaN        NaN        NaN  ...        NaN        NaN   \n",
       "\n",
       "  Paragraph8 Paragraph9 Paragraph10 Paragraph11 Paragraph12 Paragraph13  \\\n",
       "0        NaN        NaN         NaN         NaN         NaN         NaN   \n",
       "1        NaN        NaN         NaN         NaN         NaN         NaN   \n",
       "2        NaN        NaN         NaN         NaN         NaN         NaN   \n",
       "3        NaN        NaN         NaN         NaN         NaN         NaN   \n",
       "4        NaN        NaN         NaN         NaN         NaN         NaN   \n",
       "\n",
       "  Paragraph14 Paragraph15  \n",
       "0         NaN         NaN  \n",
       "1         NaN         NaN  \n",
       "2         NaN         NaN  \n",
       "3         NaN         NaN  \n",
       "4         NaN         NaN  \n",
       "\n",
       "[5 rows x 22 columns]"
      ]
     },
     "execution_count": 3,
     "metadata": {},
     "output_type": "execute_result"
    }
   ],
   "source": [
    "import numpy as np\n",
    "import pandas as pd\n",
    "import tqdm\n",
    "\n",
    "data_path = \"data/fixed_test.csv\"\n",
    "\n",
    "data = pd.read_csv(data_path)\n",
    "data.head(5)"
   ]
  },
  {
   "cell_type": "code",
   "execution_count": 4,
   "metadata": {},
   "outputs": [],
   "source": [
    "class InputExample(object):\n",
    "    \"\"\"\n",
    "        Training / test example for masked word prediction and author sentiment classification.\n",
    "    \"\"\"\n",
    "\n",
    "    def __init__(self, masked_sentence, original_sentence, sentiment):\n",
    "        \"\"\"\n",
    "        Construct and InputExample\n",
    "\n",
    "        Args:\n",
    "            masked_sentence (str): \n",
    "                A string containing the input article with target_entity masked.\n",
    "\n",
    "            original_sentence (str): \n",
    "                A string containing the input article with no masks.\n",
    "\n",
    "            sentiment (str):\n",
    "                Author's sentiment\n",
    "        \"\"\"\n",
    "        self.masked_sentence = masked_sentence\n",
    "        self.original_sentence = original_sentence\n",
    "        self.sentiment = sentiment\n",
    "\n",
    "def convert_text_to_examples(masked_texts, original_texts, labels):\n",
    "    \"\"\"\n",
    "        Create InputExamples.\n",
    "    \"\"\"\n",
    "    InputExamples = []\n",
    "\n",
    "    for masked_text, original_text, label in zip(masked_texts, original_texts, labels):\n",
    "        InputExamples.append(\n",
    "            InputExample(masked_text, original_text, label)\n",
    "        )\n",
    "    return InputExamples\n",
    "\n",
    "input_examples = convert_text_to_examples(data['MASKED_DOCUMENT'], data['DOCUMENT'], data['TRUE_SENTIMENT'])\n",
    "\n",
    "def align_os_to_ms(tokenized_os, tokenized_ms):\n",
    "    l_os = []\n",
    "    l_ms = []\n",
    "    \n",
    "    ms_index = 0\n",
    "    os_index = 0\n",
    "\n",
    "    while (os_index < len(tokenized_os)) and (ms_index < len(tokenized_ms)):\n",
    "        if tokenized_ms[ms_index] == '[MASK]':\n",
    "            l_os.append(tokenized_os[os_index])\n",
    "            l_ms.append(tokenized_ms[ms_index])\n",
    "            os_index += 1\n",
    "            ms_index += 1\n",
    "        elif tokenized_ms[ms_index] != tokenized_os[os_index]:\n",
    "            l_ms.append('[MASK]')\n",
    "            l_os.append(tokenized_os[os_index])\n",
    "            os_index += 1\n",
    "        else:\n",
    "            l_ms.append(tokenized_ms[ms_index])\n",
    "            l_os.append(tokenized_os[os_index])\n",
    "            ms_index += 1\n",
    "            os_index += 1\n",
    "\n",
    "    while os_index < len(tokenized_os):\n",
    "        l_ms.append('[MASK]')\n",
    "        l_os.append(tokenized_os[os_index])\n",
    "        os_index += 1\n",
    "\n",
    "    return l_os, l_ms\n",
    "\n",
    "def single_example_to_features(tokenizer, example, max_seq_length=256):\n",
    "    \"\"\"\n",
    "        Converts a single 'InputExample' into a single 'InputFeatures'\n",
    "    \"\"\"\n",
    "    example.masked_sentence = example.masked_sentence.replace('[TGT]', '[MASK]')\n",
    "\n",
    "    tokens_masked = tokenizer.tokenize(example.masked_sentence)\n",
    "    tokens_original = tokenizer.tokenize(example.original_sentence)\n",
    "\n",
    "    tokens_original, tokens_masked = align_os_to_ms(tokens_original, tokens_masked)\n",
    "    \n",
    "    if len(tokens_masked) > max_seq_length - 2:\n",
    "        tokens_masked = tokens_masked[:(max_seq_length-2)]\n",
    "        tokens_original = tokens_original[:(max_seq_length-2)]\n",
    "\n",
    "    tokens_masked = ['[CLS]'] + tokens_masked + ['[SEP]']\n",
    "    tokens_original = ['[CLS]'] + tokens_original + ['[SEP]']\n",
    "    segment_ids = [0] * len(tokens_masked)\n",
    "\n",
    "    input_ids = tokenizer.convert_tokens_to_ids(tokens_masked)\n",
    "    label_ids = tokenizer.convert_tokens_to_ids(tokens_original)\n",
    "    input_mask = [1] * len(input_ids)\n",
    "\n",
    "    while len(input_ids) < max_seq_length:\n",
    "        input_ids.append(0)\n",
    "        label_ids.append(0)\n",
    "        input_mask.append(0)\n",
    "        segment_ids.append(0)\n",
    "\n",
    "    assert len(input_ids) == max_seq_length\n",
    "    assert len(label_ids) == max_seq_length\n",
    "    assert len(input_mask) == max_seq_length\n",
    "    assert len(segment_ids) == max_seq_length\n",
    "    \n",
    "    return input_ids, label_ids, input_mask, segment_ids, example.sentiment\n",
    "\n",
    "def examples_to_features(tokenizer, examples, max_seq_length=256):\n",
    "    input_ids, label_ids, input_masks, segment_ids, sentiments = [], [], [], [], []\n",
    "    \n",
    "    for example in tqdm.tqdm(examples, desc=\"Converting examples to features\"):\n",
    "        input_id, label_id, input_mask, segment_id, sentiment = single_example_to_features(tokenizer, example, max_seq_length)\n",
    "        input_ids.append(input_id)\n",
    "        label_ids.append(label_id)\n",
    "        input_masks.append(input_mask)\n",
    "        segment_ids.append(segment_id)\n",
    "        sentiments.append(sentiment)\n",
    "\n",
    "    return (\n",
    "        np.array(input_ids),\n",
    "        np.array(label_ids),\n",
    "        np.array(input_masks),\n",
    "        np.array(segment_ids),\n",
    "        np.array(sentiments).reshape(-1, 1)\n",
    "    )\n",
    "\n",
    "# tokenized_examples = examples_to_features(tokenizer=tokenizer, \n",
    "#                                           examples=input_examples, \n",
    "#                                           max_seq_length=512)\n",
    "\n",
    "# print(tokenized_examples)\n",
    "# print(input_examples)"
   ]
  },
  {
   "cell_type": "code",
   "execution_count": 5,
   "metadata": {
    "scrolled": true
   },
   "outputs": [
    {
     "name": "stdout",
     "output_type": "stream",
     "text": [
      "[(OrderedDict([('text', 'At a press conference in June   a reporter asked  Donald Trump  whether  he  ’ d be willing to answer questions about the Russia scandal under oath . “ One hundred percent  ” the president responded . As we discussed last week   Trump ’ s position on this has evolved . Asked at a press conference at Camp David whether he ’ s still committed to speaking with Mueller   Trump hedged   refusing to answer the question directly . A few days later   at an event alongside the prime minister of Norway   Trump faced a similar question . The Republican ’ s response was long   meandering   and not altogether coherent   but he concluded that it “ seems unlikely ” that he ’ d answer the special counsel ’ s questions . Close video Trump lawyers change defense on collusion and obstruction Rachel Maddow points out that  Donald Trump ’ s lawyers ’ arguments about Trump ’ s legal liability in the Russia scandal  have changed from denying Trump ’ s actions to excusing  them  as not illegal . Also noted is that Mike Pence ’ s lies about Mike Flynn need a new share tweet email save Embed Special counsel Robert S . Mueller III is seeking to question President Trump in the coming weeks about his decisions to oust national security adviser Michael Flynn and FBI Director James B . Comey   according to two people familiar with his plans . Mueller ’ s interest in the events that led Trump to push out Flynn and Comey indicates that his investigation is intensifying its focus on possible efforts by the president or others to obstruct or blunt the special counsel ’ s probe . If today ’ s reporting from the Washington Post is any indication    Trump  may need to change  his  posture once more . This dovetails with a story that ’ s been brewing of late . NBC News reported two weeks ago   for example   that the logistics and scope of an interview between the special counsel ’ s team and  Trump  were the subject of discussion among the relevant lawyers . Bloomberg Politics reported soon after that talks between Trump ’ s legal team and Mueller ’ s team are “ expected to continue … despite comments from  Trump  suggesting an interview is unlikely .” With this in mind   the Post added that the president ’ s attorneys “ have crafted some negotiating terms for the president ’ s interview with Mueller ’ s team   one that could be presented to the special counsel as soon as next week   according to the two people .” As for the nature of the conversation   the Post ’ s article went on to say that Trump   under the current plan   would like to answer some questions in an in - person interview   while answering others in writing   which is also consistent with NBC News ’ recent reporting . ( Why the president would find it necessary to turn part of the Q & A into a take - home exam is unclear .) It ’ s the subject of interest   however   that continues to stand out : if the special counsel is focused specifically on possible obstruction of justice   it suggests the president may be facing legal jeopardy . In November   Trump said   “ As far as I ’ m concerned   I haven ’ t been told that we ’ re under investigation   I ’ m not under investigation .” It may be a good idea to revisit that .')]), 1)]\n"
     ]
    }
   ],
   "source": [
    "from textattack.datasets import Dataset\n",
    "\n",
    "persent_data = []\n",
    "\n",
    "for ex in input_examples:\n",
    "    sent_code = 0;\n",
    "    if ex.sentiment == \"Positive\":\n",
    "        sent_code = 2\n",
    "    elif ex.sentiment == \"Negative\":\n",
    "        sent_code = 0\n",
    "    elif ex.sentiment == \"Neutral\":\n",
    "        sent_code = 1\n",
    "            \n",
    "    persent_data.append((ex.original_sentence, sent_code))\n",
    "\n",
    "dataset = Dataset(persent_data)\n",
    "print(dataset[1:2])"
   ]
  },
  {
   "cell_type": "markdown",
   "metadata": {},
   "source": [
    "# Creating Custom Constraints"
   ]
  },
  {
   "cell_type": "markdown",
   "metadata": {},
   "source": [
    "## Do Not Perturb TGT Token Constraint"
   ]
  },
  {
   "cell_type": "code",
   "execution_count": 6,
   "metadata": {},
   "outputs": [],
   "source": [
    "from textattack.constraints import Constraint\n",
    "\n",
    "class TGTIntactConstraint(Constraint):\n",
    "    \"\"\" Use this constrain in case of passing a masked input. This will ensure that the perturbations do not\n",
    "    change the [TGT] token\n",
    "    \"\"\"\n",
    "    def _check_constraint(self, transformed_text, current_text):\n",
    "        if  \"[TGT]\" in current_text and \"[TGT]\" not in transformed_text:\n",
    "            return False"
   ]
  },
  {
   "cell_type": "markdown",
   "metadata": {},
   "source": [
    "## Do not perturb Named Entity Constraint"
   ]
  },
  {
   "cell_type": "code",
   "execution_count": 7,
   "metadata": {},
   "outputs": [
    {
     "name": "stderr",
     "output_type": "stream",
     "text": [
      "[nltk_data] Downloading package punkt to /home/harsh1621/nltk_data...\n",
      "[nltk_data]   Package punkt is already up-to-date!\n",
      "[nltk_data] Downloading package maxent_ne_chunker to\n",
      "[nltk_data]     /home/harsh1621/nltk_data...\n",
      "[nltk_data]   Package maxent_ne_chunker is already up-to-date!\n",
      "[nltk_data] Downloading package words to /home/harsh1621/nltk_data...\n",
      "[nltk_data]   Package words is already up-to-date!\n",
      "[nltk_data] Downloading package averaged_perceptron_tagger to\n",
      "[nltk_data]     /home/harsh1621/nltk_data...\n",
      "[nltk_data]   Package averaged_perceptron_tagger is already up-to-\n",
      "[nltk_data]       date!\n"
     ]
    }
   ],
   "source": [
    "import nltk\n",
    "import functools\n",
    "\n",
    "nltk.download('punkt') # The NLTK tokenizer\n",
    "nltk.download('maxent_ne_chunker') # NLTK named-entity chunker\n",
    "nltk.download('words') # NLTK list of words\n",
    "nltk.download('averaged_perceptron_tagger')\n",
    "\n",
    "@functools.lru_cache(maxsize=2**14)\n",
    "def get_entities(sentence):\n",
    "    tokens = nltk.word_tokenize(sentence)\n",
    "    tagged = nltk.pos_tag(tokens)\n",
    "    # Setting `binary=True` makes NLTK return all of the named\n",
    "    # entities tagged as NNP instead of detailed tags like\n",
    "    #'Organization', 'Geo-Political Entity', etc.\n",
    "    entities = nltk.chunk.ne_chunk(tagged, binary=True)\n",
    "    return entities.leaves()\n",
    "\n",
    "class NamedEntityConstraint(Constraint):\n",
    "    \"\"\" A constraint that ensures `transformed_text` only substitutes named entities from `current_text` with other named entities.\n",
    "    \"\"\"\n",
    "    def _check_constraint(self, transformed_text, current_text):\n",
    "        transformed_entities = get_entities(transformed_text.text)\n",
    "        current_entities = get_entities(current_text.text)\n",
    "        # If there aren't named entities, let's return False (the attack\n",
    "        # will eventually fail).\n",
    "        if len(current_entities) == 0:\n",
    "            return False\n",
    "        if len(current_entities) != len(transformed_entities):\n",
    "            # If the two sentences have a different number of entities, then\n",
    "            # they definitely don't have the same labels. In this case, the\n",
    "            # constraint is violated, and we return False.\n",
    "            return False\n",
    "        elif len(current_entities) == len(transformed_entities):\n",
    "            for ce, te in zip(current_entities, transformed_entities):\n",
    "                print(f\"Checking {ce} and {te}\")\n",
    "                if ce != te:\n",
    "                    return False\n",
    "            return True\n",
    "            "
   ]
  },
  {
   "cell_type": "markdown",
   "metadata": {},
   "source": [
    "## Setting Constraints"
   ]
  },
  {
   "cell_type": "code",
   "execution_count": 8,
   "metadata": {},
   "outputs": [],
   "source": [
    "constraints = [NamedEntityConstraint(False)]"
   ]
  },
  {
   "cell_type": "markdown",
   "metadata": {},
   "source": [
    "# BERT Attack"
   ]
  },
  {
   "cell_type": "code",
   "execution_count": 13,
   "metadata": {},
   "outputs": [
    {
     "name": "stderr",
     "output_type": "stream",
     "text": [
      "Some weights of the model checkpoint at bert-base-uncased were not used when initializing BertForMaskedLM: ['cls.seq_relationship.bias', 'cls.seq_relationship.weight']\n",
      "- This IS expected if you are initializing BertForMaskedLM from the checkpoint of a model trained on another task or with another architecture (e.g. initializing a BertForSequenceClassification model from a BertForPreTraining model).\n",
      "- This IS NOT expected if you are initializing BertForMaskedLM from the checkpoint of a model that you expect to be exactly identical (initializing a BertForSequenceClassification model from a BertForSequenceClassification model).\n",
      "textattack: Unknown if model of class <class 'transformers.models.bert.modeling_bert.BertForSequenceClassification'> compatible with goal function <class 'textattack.goal_functions.classification.untargeted_classification.UntargetedClassification'>.\n"
     ]
    },
    {
     "name": "stdout",
     "output_type": "stream",
     "text": [
      "Attack(\n",
      "  (search_method): GreedyWordSwapWIR(\n",
      "    (wir_method):  unk\n",
      "  )\n",
      "  (goal_function):  UntargetedClassification\n",
      "  (transformation):  WordSwapMaskedLM(\n",
      "    (method):  bert-attack\n",
      "    (masked_lm_name):  BertForMaskedLM\n",
      "    (max_length):  512\n",
      "    (max_candidates):  48\n",
      "    (min_confidence):  0.0005\n",
      "  )\n",
      "  (constraints): \n",
      "    (0): MaxWordsPerturbed(\n",
      "        (max_percent):  0.4\n",
      "        (compare_against_original):  True\n",
      "      )\n",
      "    (1): UniversalSentenceEncoder(\n",
      "        (metric):  cosine\n",
      "        (threshold):  0.2\n",
      "        (window_size):  inf\n",
      "        (skip_text_shorter_than_window):  False\n",
      "        (compare_against_original):  True\n",
      "      )\n",
      "    (2): RepeatModification\n",
      "    (3): StopwordModification\n",
      "  (is_black_box):  True\n",
      ")\n"
     ]
    }
   ],
   "source": [
    "from textattack.attack_recipes.bert_attack_li_2020 import BERTAttackLi2020\n",
    "\n",
    "attack = BERTAttackLi2020.build(model_wrapper)\n",
    "\n",
    "# attack.constraints.append(NamedEntityConstraint(False))\n",
    "\n",
    "print(attack)"
   ]
  },
  {
   "cell_type": "code",
   "execution_count": 14,
   "metadata": {},
   "outputs": [
    {
     "name": "stdout",
     "output_type": "stream",
     "text": [
      "Attack(\n",
      "  (search_method): GreedyWordSwapWIR(\n",
      "    (wir_method):  unk\n",
      "  )\n",
      "  (goal_function):  UntargetedClassification\n",
      "  (transformation):  WordSwapMaskedLM(\n",
      "    (method):  bert-attack\n",
      "    (masked_lm_name):  BertForMaskedLM\n",
      "    (max_length):  512\n",
      "    (max_candidates):  48\n",
      "    (min_confidence):  0.0005\n",
      "  )\n",
      "  (constraints): \n",
      "    (0): MaxWordsPerturbed(\n",
      "        (max_percent):  0.4\n",
      "        (compare_against_original):  True\n",
      "      )\n",
      "    (1): UniversalSentenceEncoder(\n",
      "        (metric):  cosine\n",
      "        (threshold):  0.2\n",
      "        (window_size):  inf\n",
      "        (skip_text_shorter_than_window):  False\n",
      "        (compare_against_original):  True\n",
      "      )\n",
      "    (2): RepeatModification\n",
      "    (3): StopwordModification\n",
      "  (is_black_box):  True\n",
      ") \n",
      "\n"
     ]
    },
    {
     "name": "stderr",
     "output_type": "stream",
     "text": [
      "[Succeeded / Failed / Skipped / Total] 0 / 0 / 1 / 1: 100%|█| 1/1 [00:00<00:00"
     ]
    },
    {
     "name": "stdout",
     "output_type": "stream",
     "text": [
      "--------------------------------------------- Result 1 ---------------------------------------------\n",
      "[[0 (46%)]] --> [[[SKIPPED]]]\n",
      "\n",
      "term extension of government funding that would avert a politically embarrassing shutdown   after  President Donald Trump  offered mixed signals on the stopgap plan .  Trump  complicated the talks by saying a six - year extension of funding for the Children ' s Health Insurance Program ( CHIP )  a Democratic priority   should not be included . The White House later said  the president  fully backed the proposal pending in the House of Representatives   which includes the insurance plan . Given opposition in both parties   it was still unclear on Thursday if Congress could head off a weekend shutdown of the federal government   which is operating on its third temporary funding extension since the 2018 fiscal year began on Oct . 1 . Negotiators have scrambled to reach a budget deal that would include Democratic efforts to protect young immigrants known as \" Dreamers  \" who were brought to the country illegally as children   and satisfy conservatives who want to raise spending for the military . Republican House Speaker Paul Ryan and Republican Senate Majority Leader Mitch McConnell said they were optimistic the House later on Thursday would approve funding until Feb . 16 . A procedural House vote to approve the rules for debate passed 226 - 194 . But some Republicans were not so certain the continuing resolution had enough support for approval . Republican Representative Mark Meadows   who heads the conservative House Freedom Caucus   told reporters : \" I promise you that ' s not the case \" that the speaker had enough Republican votes to pass the bill . Questions about Trump ' s support arose earlier on Thursday   when he said on Twitter that \" CHIP should be part of a long term solution   not a 30 Day   or short term   extension !\" That led the White House to issue a statement saying Trump was still on board with the House proposal . Asked if Trump ' s statements were making it more likely Republicans would be blamed for a shutdown   Republican Senator Jeff Flake   a frequent Trump critic   said simply : \" Yes .\" With the threat of a shutdown looming   some senators began to discuss the possibility of short one - or two - day extensions to allow negotiations to continue without stopping government operations . \" I think some of our members would like to see us negotiate the bigger deal and do a short - term CR for a few days  \" Republican Senator John Thune said . PREPARING FOR THE WORST Some government agencies began to prepare for a possible shutdown . The U . S . Government Accountability Office sent its employees a memo on Thursday warning that regular operations would cease on Monday if a shutdown occurred . If money were to run out   many federal agencies would be shut down and workers sent home . But \" essential services \" dealing with public safety and national security would continue . McConnell said he anticipated the House would pass the temporary funding bill and the Senate would take it up after that . \" Shouldn ’ t be a difficult vote . There ’ s nothing   nothing in such a continuing resolution that my Democratic friends actually oppose  \" he said . Democrats have insisted   however   a long - term spending bill must include a measure covering the \" Dreamers  \" who were protected from deportation under former President Barack Obama ' s Deferred Action for Childhood Arrivals ( DACA ) program .  Trump  ordered DACA to end in March and asked Congress to come up with a legislative fix . But bipartisan congressional negotiations with the White House faltered last week   prompting Republican leaders to begin pushing for the passage of the stopgap measure . Senate Democratic Leader Chuck Schumer criticized  Trump  for taking a trip to Pennsylvania on Thursday to campaign for a Republican House candidate rather than staying for the negotiations . He said the House bill to fund the government was “ very likely to be unacceptable to the Senate .\" Schumer said Trump ’ s changing positions on government spending and an immigration measure were impeding progress in Congress . \" The one thing standing in our way is the unrelenting flow of chaos on the other end of Pennsylvania Avenue ( the White House ). It has reduced the Republicans to shambles . They don ' t know who to negotiate with  \" he said in a Senate floor speech . Republicans hold a 51 - 49 majority in the Senate and most legislation   including spending bills or an immigration deal   will require 60 votes to pass . Republican Senator Lindsey Graham   who is involved in the immigration negotiations   and conservative colleague Mike Rounds have said they will not vote for a short - term funding bill . Some Republicans have argued a shutdown would hurt military readiness by disrupting supply chains and complicating planning and contracts .\n",
      "\n",
      "\n",
      "\n",
      "+-------------------------------+-------+\n",
      "| Attack Results                |       |\n",
      "+-------------------------------+-------+\n",
      "| Number of successful attacks: | 0     |\n",
      "| Number of failed attacks:     | 0     |\n",
      "| Number of skipped attacks:    | 1     |\n",
      "| Original accuracy:            | 0.0%  |\n",
      "| Accuracy under attack:        | 0.0%  |\n",
      "| Attack success rate:          | 0%    |\n",
      "| Average perturbed word %:     | nan%  |\n",
      "| Average num. words per input: | 747.0 |\n",
      "| Avg num queries:              | nan   |\n",
      "+-------------------------------+-------+\n"
     ]
    },
    {
     "name": "stderr",
     "output_type": "stream",
     "text": [
      "\n",
      "/home/harsh1621/anaconda3/envs/nlp_project_py37/lib/python3.7/site-packages/textattack/metrics/attack_metrics/words_perturbed.py:83: RuntimeWarning: Mean of empty slice.\n",
      "  average_perc_words_perturbed = self.perturbed_word_percentages.mean()\n",
      "/home/harsh1621/anaconda3/envs/nlp_project_py37/lib/python3.7/site-packages/numpy/core/_methods.py:189: RuntimeWarning: invalid value encountered in double_scalars\n",
      "  ret = ret.dtype.type(ret / rcount)\n",
      "/home/harsh1621/anaconda3/envs/nlp_project_py37/lib/python3.7/site-packages/textattack/metrics/attack_metrics/attack_queries.py:39: RuntimeWarning: Mean of empty slice.\n",
      "  avg_num_queries = self.num_queries.mean()\n"
     ]
    }
   ],
   "source": [
    "attack_args = AttackArgs(num_examples=1)\n",
    "\n",
    "attacker = Attacker(attack, dataset, attack_args)\n",
    "\n",
    "attack_results = attacker.attack_dataset()"
   ]
  },
  {
   "cell_type": "markdown",
   "metadata": {},
   "source": [
    "# Deepword BUG"
   ]
  },
  {
   "cell_type": "code",
   "execution_count": 20,
   "metadata": {
    "collapsed": true
   },
   "outputs": [
    {
     "name": "stderr",
     "output_type": "stream",
     "text": [
      "textattack: Unknown if model of class <class 'transformers.models.bert.modeling_bert.BertForSequenceClassification'> compatible with goal function <class 'textattack.goal_functions.classification.untargeted_classification.UntargetedClassification'>.\n"
     ]
    },
    {
     "name": "stdout",
     "output_type": "stream",
     "text": [
      "Attack(\n",
      "  (search_method): GreedyWordSwapWIR(\n",
      "    (wir_method):  unk\n",
      "  )\n",
      "  (goal_function):  UntargetedClassification\n",
      "  (transformation):  CompositeTransformation(\n",
      "    (0): WordSwapNeighboringCharacterSwap(\n",
      "        (random_one):  True\n",
      "      )\n",
      "    (1): WordSwapRandomCharacterSubstitution(\n",
      "        (random_one):  True\n",
      "      )\n",
      "    (2): WordSwapRandomCharacterDeletion(\n",
      "        (random_one):  True\n",
      "      )\n",
      "    (3): WordSwapRandomCharacterInsertion(\n",
      "        (random_one):  True\n",
      "      )\n",
      "    )\n",
      "  (constraints): \n",
      "    (0): LevenshteinEditDistance(\n",
      "        (max_edit_distance):  30\n",
      "        (compare_against_original):  True\n",
      "      )\n",
      "    (1): RepeatModification\n",
      "    (2): StopwordModification\n",
      "  (is_black_box):  True\n",
      ")\n"
     ]
    }
   ],
   "source": [
    "from textattack.attack_recipes.deepwordbug_gao_2018 import DeepWordBugGao2018\n",
    "\n",
    "attack = DeepWordBugGao2018.build(model_wrapper)\n",
    "\n",
    "print(attack)"
   ]
  },
  {
   "cell_type": "code",
   "execution_count": 16,
   "metadata": {},
   "outputs": [
    {
     "name": "stdout",
     "output_type": "stream",
     "text": [
      "Attack(\n",
      "  (search_method): GreedyWordSwapWIR(\n",
      "    (wir_method):  unk\n",
      "  )\n",
      "  (goal_function):  UntargetedClassification\n",
      "  (transformation):  CompositeTransformation(\n",
      "    (0): WordSwapNeighboringCharacterSwap(\n",
      "        (random_one):  True\n",
      "      )\n",
      "    (1): WordSwapRandomCharacterSubstitution(\n",
      "        (random_one):  True\n",
      "      )\n",
      "    (2): WordSwapRandomCharacterDeletion(\n",
      "        (random_one):  True\n",
      "      )\n",
      "    (3): WordSwapRandomCharacterInsertion(\n",
      "        (random_one):  True\n",
      "      )\n",
      "    )\n",
      "  (constraints): \n",
      "    (0): LevenshteinEditDistance(\n",
      "        (max_edit_distance):  30\n",
      "        (compare_against_original):  True\n",
      "      )\n",
      "    (1): RepeatModification\n",
      "    (2): StopwordModification\n",
      "  (is_black_box):  True\n",
      ") \n",
      "\n"
     ]
    },
    {
     "name": "stderr",
     "output_type": "stream",
     "text": [
      "[Succeeded / Failed / Skipped / Total] 0 / 0 / 1 / 1:  33%|▎| 1/3 [00:00<00:00"
     ]
    },
    {
     "name": "stdout",
     "output_type": "stream",
     "text": [
      "--------------------------------------------- Result 1 ---------------------------------------------\n",
      "[[0 (46%)]] --> [[[SKIPPED]]]\n",
      "\n",
      "term extension of government funding that would avert a politically embarrassing shutdown   after  President Donald Trump  offered mixed signals on the stopgap plan .  Trump  complicated the talks by saying a six - year extension of funding for the Children ' s Health Insurance Program ( CHIP )  a Democratic priority   should not be included . The White House later said  the president  fully backed the proposal pending in the House of Representatives   which includes the insurance plan . Given opposition in both parties   it was still unclear on Thursday if Congress could head off a weekend shutdown of the federal government   which is operating on its third temporary funding extension since the 2018 fiscal year began on Oct . 1 . Negotiators have scrambled to reach a budget deal that would include Democratic efforts to protect young immigrants known as \" Dreamers  \" who were brought to the country illegally as children   and satisfy conservatives who want to raise spending for the military . Republican House Speaker Paul Ryan and Republican Senate Majority Leader Mitch McConnell said they were optimistic the House later on Thursday would approve funding until Feb . 16 . A procedural House vote to approve the rules for debate passed 226 - 194 . But some Republicans were not so certain the continuing resolution had enough support for approval . Republican Representative Mark Meadows   who heads the conservative House Freedom Caucus   told reporters : \" I promise you that ' s not the case \" that the speaker had enough Republican votes to pass the bill . Questions about Trump ' s support arose earlier on Thursday   when he said on Twitter that \" CHIP should be part of a long term solution   not a 30 Day   or short term   extension !\" That led the White House to issue a statement saying Trump was still on board with the House proposal . Asked if Trump ' s statements were making it more likely Republicans would be blamed for a shutdown   Republican Senator Jeff Flake   a frequent Trump critic   said simply : \" Yes .\" With the threat of a shutdown looming   some senators began to discuss the possibility of short one - or two - day extensions to allow negotiations to continue without stopping government operations . \" I think some of our members would like to see us negotiate the bigger deal and do a short - term CR for a few days  \" Republican Senator John Thune said . PREPARING FOR THE WORST Some government agencies began to prepare for a possible shutdown . The U . S . Government Accountability Office sent its employees a memo on Thursday warning that regular operations would cease on Monday if a shutdown occurred . If money were to run out   many federal agencies would be shut down and workers sent home . But \" essential services \" dealing with public safety and national security would continue . McConnell said he anticipated the House would pass the temporary funding bill and the Senate would take it up after that . \" Shouldn ’ t be a difficult vote . There ’ s nothing   nothing in such a continuing resolution that my Democratic friends actually oppose  \" he said . Democrats have insisted   however   a long - term spending bill must include a measure covering the \" Dreamers  \" who were protected from deportation under former President Barack Obama ' s Deferred Action for Childhood Arrivals ( DACA ) program .  Trump  ordered DACA to end in March and asked Congress to come up with a legislative fix . But bipartisan congressional negotiations with the White House faltered last week   prompting Republican leaders to begin pushing for the passage of the stopgap measure . Senate Democratic Leader Chuck Schumer criticized  Trump  for taking a trip to Pennsylvania on Thursday to campaign for a Republican House candidate rather than staying for the negotiations . He said the House bill to fund the government was “ very likely to be unacceptable to the Senate .\" Schumer said Trump ’ s changing positions on government spending and an immigration measure were impeding progress in Congress . \" The one thing standing in our way is the unrelenting flow of chaos on the other end of Pennsylvania Avenue ( the White House ). It has reduced the Republicans to shambles . They don ' t know who to negotiate with  \" he said in a Senate floor speech . Republicans hold a 51 - 49 majority in the Senate and most legislation   including spending bills or an immigration deal   will require 60 votes to pass . Republican Senator Lindsey Graham   who is involved in the immigration negotiations   and conservative colleague Mike Rounds have said they will not vote for a short - term funding bill . Some Republicans have argued a shutdown would hurt military readiness by disrupting supply chains and complicating planning and contracts .\n",
      "\n",
      "\n"
     ]
    },
    {
     "name": "stderr",
     "output_type": "stream",
     "text": [
      "\r",
      "[Succeeded / Failed / Skipped / Total] 0 / 0 / 1 / 1:  67%|▋| 2/3 [00:17<00:08"
     ]
    },
    {
     "name": "stdout",
     "output_type": "stream",
     "text": [
      "--------------------------------------------- Result 2 ---------------------------------------------\n"
     ]
    },
    {
     "name": "stderr",
     "output_type": "stream",
     "text": [
      "[Succeeded / Failed / Skipped / Total] 1 / 0 / 2 / 3: 100%|█| 3/3 [00:17<00:00"
     ]
    },
    {
     "name": "stdout",
     "output_type": "stream",
     "text": [
      "[[1 (40%)]] --> [[0 (35%)]]\n",
      "\n",
      "At a press conference in June   a reporter asked  Donald Trump  whether  he  ’ d be willing to answer questions about the Russia scandal under oath . “ One hundred percent  ” the president responded . As we discussed last week   Trump ’ s [[position]] on this has evolved . Asked at a press conference at Camp David whether he ’ s still committed to speaking with Mueller   Trump hedged   refusing to answer the question directly . A few days later   at an event alongside the prime minister of Norway   Trump faced a similar question . The Republican ’ s response was [[long]]   meandering   and not altogether coherent   but he concluded that it “ seems unlikely ” that he ’ d answer the special counsel ’ s questions . Close video Trump lawyers change defense on collusion and obstruction Rachel Maddow points out that  Donald Trump ’ s lawyers ’ arguments about Trump ’ s legal liability in the Russia scandal  have changed from denying Trump ’ s actions to excusing  them  as not illegal . Also noted is that [[Mike]] Pence ’ s lies about Mike Flynn need a new share tweet email save Embed Special counsel Robert S . Mueller III is seeking to question President Trump in the coming weeks about his decisions to oust national security adviser Michael Flynn and FBI Director James B . Comey   according to two people familiar with his plans . Mueller ’ s interest in the events that led Trump to push out Flynn and Comey indicates that his investigation is intensifying its focus on possible efforts by the president or others to obstruct or blunt the special counsel ’ s probe . If today ’ s reporting from the Washington Post is any indication    Trump  may need to change  his  posture once more . This dovetails with a story that ’ s been brewing of late . NBC News reported two weeks ago   for example   that the logistics and scope of an interview between the special counsel ’ s team and  Trump  were the subject of discussion among the relevant lawyers . Bloomberg Politics reported soon after that talks between Trump ’ s legal team and Mueller ’ s team are “ expected to continue … despite comments from  Trump  suggesting an interview is unlikely .” With this in mind   the Post added that the president ’ s attorneys “ have crafted some negotiating terms for the president ’ s interview with Mueller ’ s team   one that could be presented to the special counsel as soon as next week   according to the two people .” As for the nature of the conversation   the Post ’ s article went on to say that Trump   under the current plan   would like to answer some questions in an in - person interview   while answering others in writing   which is also consistent with NBC News ’ recent reporting . ( Why the president would find it necessary to turn part of the Q & A into a take - home exam is unclear .) It ’ s the subject of interest   however   that continues to stand out : if the special counsel is focused specifically on possible obstruction of justice   it suggests the president may be facing legal jeopardy . In November   Trump said   “ As far as I ’ m concerned   I haven ’ t been told that we ’ re under investigation   I ’ m not under investigation .” It may be a good idea to revisit that .\n",
      "\n",
      "At a press conference in June   a reporter asked  Donald Trump  whether  he  ’ d be willing to answer questions about the Russia scandal under oath . “ One hundred percent  ” the president responded . As we discussed last week   Trump ’ s [[pocition]] on this has evolved . Asked at a press conference at Camp David whether he ’ s still committed to speaking with Mueller   Trump hedged   refusing to answer the question directly . A few days later   at an event alongside the prime minister of Norway   Trump faced a similar question . The Republican ’ s response was [[lonlg]]   meandering   and not altogether coherent   but he concluded that it “ seems unlikely ” that he ’ d answer the special counsel ’ s questions . Close video Trump lawyers change defense on collusion and obstruction Rachel Maddow points out that  Donald Trump ’ s lawyers ’ arguments about Trump ’ s legal liability in the Russia scandal  have changed from denying Trump ’ s actions to excusing  them  as not illegal . Also noted is that [[Mikp]] Pence ’ s lies about Mike Flynn need a new share tweet email save Embed Special counsel Robert S . Mueller III is seeking to question President Trump in the coming weeks about his decisions to oust national security adviser Michael Flynn and FBI Director James B . Comey   according to two people familiar with his plans . Mueller ’ s interest in the events that led Trump to push out Flynn and Comey indicates that his investigation is intensifying its focus on possible efforts by the president or others to obstruct or blunt the special counsel ’ s probe . If today ’ s reporting from the Washington Post is any indication    Trump  may need to change  his  posture once more . This dovetails with a story that ’ s been brewing of late . NBC News reported two weeks ago   for example   that the logistics and scope of an interview between the special counsel ’ s team and  Trump  were the subject of discussion among the relevant lawyers . Bloomberg Politics reported soon after that talks between Trump ’ s legal team and Mueller ’ s team are “ expected to continue … despite comments from  Trump  suggesting an interview is unlikely .” With this in mind   the Post added that the president ’ s attorneys “ have crafted some negotiating terms for the president ’ s interview with Mueller ’ s team   one that could be presented to the special counsel as soon as next week   according to the two people .” As for the nature of the conversation   the Post ’ s article went on to say that Trump   under the current plan   would like to answer some questions in an in - person interview   while answering others in writing   which is also consistent with NBC News ’ recent reporting . ( Why the president would find it necessary to turn part of the Q & A into a take - home exam is unclear .) It ’ s the subject of interest   however   that continues to stand out : if the special counsel is focused specifically on possible obstruction of justice   it suggests the president may be facing legal jeopardy . In November   Trump said   “ As far as I ’ m concerned   I haven ’ t been told that we ’ re under investigation   I ’ m not under investigation .” It may be a good idea to revisit that .\n",
      "\n",
      "\n",
      "--------------------------------------------- Result 3 ---------------------------------------------\n",
      "[[1 (42%)]] --> [[[SKIPPED]]]\n",
      "\n",
      "Trump   Xi present united front despite differences BEIJING —  President Donald Trump  sought to present a united front with Chinese President Xi Jinping following two days of meetings Thursday   despite lingering differences over trade and North Korea . On trade    Trump  criticized the “ very one - sided and unfair ” trade relationship between the U . S . and China but stopped short of castigating Xi by saying he doesn ’ t blame the country for having taken advantage of the U . S .  Trump  said China “ must immediately address the unfair trade practices that drive ” what  he  said is a “ shockingly ” large trade deficit   along with barriers to market access   forced technology transfers and intellectual property theft . “ But I don ’ t blame China  ”  he  said . “ After all   who can blame a country for being able to take advantage of another country for the benefit of its citizens ?” To applause    Trump  said : “ I give China great credit .”  His  Secretary of State Rex Tillerson offered a blunter assessment of China ’ s trade surplus with the United States   which in October widened by 12 . 2 percent from a year earlier   to $ 26 . 6 billion . The total surplus with the United States for the first 10 months of the year was $ 223 billion . ___  Trump  cooperates with Chinese effort to control image BEIJING — U . S .  President Donald Trump  was a cooperative partner for Beijing ’ s sweeping efforts to control the message of  his  heavily choreographed visit to China . Trump and  his  Chinese counterpart   Xi Jinping   took no questions at an event Thursday billed as a news briefing   a reduction of already minimal press interaction during previous visits by American leaders . During a 2014 visit by then President Barack Obama   Xi took a symbolic single question from a reporter for a Chinese state newspaper . He brushed off an American reporter ’ s question about whether Beijing might ease restrictions on journalist visas   saying vaguely that media outlets had to obey China ’ s laws . Trump   who has called the media the “ enemy of the American people  ” also took no questions during an event at which Chinese companies signed contracts to buy American jetliners   soybeans and other goods . Trump ’ s visit comes at a time when he faces uncomfortable questions at home about Russia and possible gun controls following deadly mass shootings . ___ North Korea   ever so cautiously   is going online PYONGYANG   North Korea — Ever so cautiously   North Korea is going online . Doctors can consult via live   online video conferencing   and lectures at prestigious Kim Il Sung University are streamed to faraway factories and agricultural communes . People use online dictionaries and text each other on their smart phones . In the wallets of the privileged are “ Jonsong ” or “ Narae ” cards for e - shopping and online banking . Cash registers at major department stores are plugged into the web . It ’ s just not the World Wide Web . This is all done on a tightly sealed intranet of the sort a medium - sized company might use for its employees . The free flow of information is anathema to authoritarian regimes   and with the possible exception of the African dictatorship of Eritrea   North Korea is still the least Internet - friendly country on Earth . Access to the global Internet for most is unimaginable . Hardly anyone has a personal computer or an email address that isn ’ t shared   and the price for trying to get around the government ’ s rules can be severe . But for Kim Jong Un   the country ’ s first leader to come of age with the Internet   the idea of a more wired North Korea is also attractive . It comes with the potential for great benefits to the nation from information technology — and for new forms of social and political control that promise to be more effective than anything his father and grandfather could have dreamed of . It also allows for the possibility of cyber - attacks on the West . ___ Pence   Abbott attend vigil for victims of church shooting SUTHERLAND SPRINGS   Texas — Vice President Mike Pence joined Texas Gov . Greg Abbott at a memorial service for the victims of Sunday ’ s massacre at a small - town Texas church . Pence told the crowd Wednesday evening that the shooting at the First Baptist Church of Sutherland Springs was the worst mass shooting at a church in American history and called the gunman “ deranged .” “ Whatever animated the evil that descended on that small church   of the attacker ’ s desire was to silence their testimony of faith   they failed  ” the vice president added . Abbott began the service by praying “ for healing and for help .” The governor said that Texans come together at times of crisis and tragedy . “ It ’ s what we do  ” Abbott said . People in the crowd responded “ amen .” ___ Las Vegas shooting victims still searching for their heroes LOS ANGELES — As soon as Chris Gilman knew she would survive the gunshot wound she sustained in the Las Vegas massacre   she wanted to find the two strangers who saved her life — a man and woman whose names she didn ’ t even know . She found a Facebook page called “ Find My LV Hero ” and posted a plea . “ Looking for husband and wife who were by the VIP bleachers and helped me get out  ” wrote Gilman   of Bonney Lake   Washington . “ My wife gave the husband her shirt and the wife held it against my side to stop bleeding as they carried me through the VIP area out to the street .” Despite the scant details in Gilman ’ s post   it worked . Three days later   Gilman connected with her rescuers   Alex and Wanda Valiente   off - duty Los Angeles County sheriff ’ s deputies who were at the Oct . 1 concert where a gunman opened fire from the 32nd floor of a hotel   killing 58 people and wounding hundreds . The connection is one of about 25 made so far through the Facebook page . Nearly six weeks after the massacre   Ashton Zyer ’ s social media creation continues to generate new searches for heroes who in some cases saved lives and in others simply provided what comfort they could . ___ IS militants evacuate last stronghold in Syria to government BEIRUT — A Syrian war monitor says Islamic State militants have withdrawn from their last stronghold following a government offensive . The Britain - based Syrian Observatory for Human Rights says government forces and allied troops   including Iraqi fighters   are combing Boukamal   a strategic town on the border with Iraq   on Thursday after IS militants withdrew . Syrian pro - government media say Syrian troops had clashed with remnants of IS militants in the town after they entered it late Wednesday . On Thursday   they declared the town totally free of the militants . The fall of Boukamal means remaining IS militants are currently holed up in small towns and villages along the border with Iraq and in the Syrian desert . ___ Democrats see wins as momentum for 2018 state elections Sweeping Democratic victories in Virginia and key gains in other 2017 state legislative races have lifted Democratic hopes of even bigger wins in next year ’ s midterm elections   as they seek a greater voice in how political districts will be redrawn for the decade to come . Democrats won the governors ’ offices in Virginia and New Jersey on Tuesday   erased a previously dominant Republican majority in the Virginia House of Delegates and won a special election that gave them control of the Washington state Senate . All told   Democrats flipped about two dozen state legislative seats around the country Tuesday and have now gained at least 30 seats previously held by Republicans since  President Donald Trump  won election last year   reversing several years of Republican momentum . “ In general   this is a rebuke of Republican governance of states  ” said Jessica Post   executive director of the Democratic Legislative Campaign Committee . She added : “ The other thing it said is we can win all across the country .” The fight for control of legislative chambers matters not only for policies on health care   taxes and education   but also because the legislature in most states determines how future congressional and state legislative districts are drawn . The next round of redistricting will take place after the 2020 Census   and both parties are focused on controlling as many states as possible by then . ___ Pomp and flattery : Asia rolls out the red carpets for Trump BEIJING — Honor guards marching in unison in colorful uniforms . Elaborate state dinners with celebrity guests . Gaggles of children   jumping and screaming along with endless praise . The first half of President Donald Trump ’ s whirlwind tour to Asia has been an exercise in the art of flattery   as world leaders woo the man who was introduced at the South Korean National Assembly as the “ leader of the world .” “ They are not ignorant that this is a president who is particularly responsive to flattery  ” said Lindsey Ford of the Asia Society Policy Institute in Washington   who said the Chinese   in particular   would “ absolutely go over the top ” trying to stroke the president ’ s ego . The pomp and pageantry began in Japan   where  Trump  was welcomed to the grand Akasaka Palace with a welcome ceremony that featured a maze of red carpets   an honor guard and marching band . Prime Minister Shinzo Abe   who has gone out of his way to strike up a personal friendship with  Trump    also treated the president to a round of golf at Japan ’ s premier course   complete with a champion golf partner and a taste of home : a hamburger lunch made with American beef . ___ Christopher Plummer to replace Kevin Spacey in Getty film LOS ANGELES — In a wholly unprecedented move   Kevin Spacey is being cut from Ridley Scott ’ s finished film “ All the Money in the World ” and replaced by Christopher Plummer just over one month before it ’ s supposed to hit theaters . People close to the production who were not authorized to speak publicly said Wednesday that Plummer is commencing reshoots immediately in the role of J . Paul Getty . All of Spacey ’ s scenes will be reshot   the people told The Associated Press . Co - stars Mark Wahlberg and Michelle Williams are expected to participate . Scott   who is known to be an efficient director   is intending to keep the film ’ s Dec . 22 release date . The director ’ s publicist Simon Halls confirmed the switch late Wednesday . The film was originally set to have its world premiere at the AFI Fest in Los Angeles on Nov . 16 but was pulled earlier this week amid the sexual harassment reports surrounding Spacey   who has also been fired from “ House of Cards ” and dropped by his talent agency and publicist . ___ Top moments at CMA Awards : Vegas   unity and the monologue Yes   Garth Brooks won entertainer of the year and Chris Stapleton picked up two honors   including album of the year . But the moments that truly dominated the 2017 Country Music Association Awards had less to do with winning   and more about a community banding together to heal . Here ’ s a look at some of the top moments at the awards show   which aired live Wednesday night from the Bridgestone Arena in Nashville   Tennessee . ______ HONORING THE LAS VEGAS VICTIMS The Associated Press .\n",
      "\n",
      "\n",
      "\n",
      "+-------------------------------+--------+\n",
      "| Attack Results                |        |\n",
      "+-------------------------------+--------+\n",
      "| Number of successful attacks: | 1      |\n",
      "| Number of failed attacks:     | 0      |\n",
      "| Number of skipped attacks:    | 2      |\n",
      "| Original accuracy:            | 33.33% |\n",
      "| Accuracy under attack:        | 0.0%   |\n",
      "| Attack success rate:          | 100.0% |\n",
      "| Average perturbed word %:     | 0.57%  |\n",
      "| Average num. words per input: | 1034.0 |\n",
      "| Avg num queries:              | 324.0  |\n"
     ]
    },
    {
     "name": "stdout",
     "output_type": "stream",
     "text": [
      "+-------------------------------+--------+\n"
     ]
    },
    {
     "name": "stderr",
     "output_type": "stream",
     "text": [
      "\n"
     ]
    }
   ],
   "source": [
    "attack_args = AttackArgs(num_examples=4)\n",
    "\n",
    "attacker = Attacker(attack, dataset, attack_args)\n",
    "\n",
    "attack_results = attacker.attack_dataset()"
   ]
  },
  {
   "cell_type": "markdown",
   "metadata": {},
   "source": [
    "# Text Fooler"
   ]
  },
  {
   "cell_type": "code",
   "execution_count": 18,
   "metadata": {},
   "outputs": [
    {
     "name": "stderr",
     "output_type": "stream",
     "text": [
      "textattack: Unknown if model of class <class 'transformers.models.bert.modeling_bert.BertForSequenceClassification'> compatible with goal function <class 'textattack.goal_functions.classification.untargeted_classification.UntargetedClassification'>.\n"
     ]
    },
    {
     "name": "stdout",
     "output_type": "stream",
     "text": [
      "WordSwapEmbedding(\n",
      "  (max_candidates):  50\n",
      "  (embedding):  WordEmbedding\n",
      ")\n",
      "Attack(\n",
      "  (search_method): GreedyWordSwapWIR(\n",
      "    (wir_method):  delete\n",
      "  )\n",
      "  (goal_function):  UntargetedClassification\n",
      "  (transformation):  WordSwapEmbedding(\n",
      "    (max_candidates):  50\n",
      "    (embedding):  WordEmbedding\n",
      "  )\n",
      "  (constraints): \n",
      "    (0): WordEmbeddingDistance(\n",
      "        (embedding):  WordEmbedding\n",
      "        (min_cos_sim):  0.5\n",
      "        (cased):  False\n",
      "        (include_unknown_words):  True\n",
      "        (compare_against_original):  True\n",
      "      )\n",
      "    (1): PartOfSpeech(\n",
      "        (tagger_type):  nltk\n",
      "        (tagset):  universal\n",
      "        (allow_verb_noun_swap):  True\n",
      "        (compare_against_original):  True\n",
      "      )\n",
      "    (2): UniversalSentenceEncoder(\n",
      "        (metric):  angular\n",
      "        (threshold):  0.840845057\n",
      "        (window_size):  15\n",
      "        (skip_text_shorter_than_window):  True\n",
      "        (compare_against_original):  False\n",
      "      )\n",
      "    (3): RepeatModification\n",
      "    (4): StopwordModification\n",
      "    (5): InputColumnModification(\n",
      "        (matching_column_labels):  ['premise', 'hypothesis']\n",
      "        (columns_to_ignore):  {'premise'}\n",
      "      )\n",
      "  (is_black_box):  True\n",
      ")\n"
     ]
    }
   ],
   "source": [
    "from textattack.attack_recipes.textfooler_jin_2019 import TextFoolerJin2019\n",
    "\n",
    "attack = TextFoolerJin2019.build(model_wrapper)\n",
    "\n",
    "# transformations = TextFoolerJin2019.get_transformations(attack)\n",
    "print(attack.transformation)\n",
    "\n",
    "print(attack)"
   ]
  },
  {
   "cell_type": "code",
   "execution_count": 9,
   "metadata": {},
   "outputs": [
    {
     "name": "stdout",
     "output_type": "stream",
     "text": [
      "Attack(\n",
      "  (search_method): GreedyWordSwapWIR(\n",
      "    (wir_method):  delete\n",
      "  )\n",
      "  (goal_function):  UntargetedClassification\n",
      "  (transformation):  WordSwapEmbedding(\n",
      "    (max_candidates):  50\n",
      "    (embedding):  WordEmbedding\n",
      "  )\n",
      "  (constraints): \n",
      "    (0): WordEmbeddingDistance(\n",
      "        (embedding):  WordEmbedding\n",
      "        (min_cos_sim):  0.5\n",
      "        (cased):  False\n",
      "        (include_unknown_words):  True\n",
      "        (compare_against_original):  True\n",
      "      )\n",
      "    (1): PartOfSpeech(\n",
      "        (tagger_type):  nltk\n",
      "        (tagset):  universal\n",
      "        (allow_verb_noun_swap):  True\n",
      "        (compare_against_original):  True\n",
      "      )\n",
      "    (2): UniversalSentenceEncoder(\n",
      "        (metric):  angular\n",
      "        (threshold):  0.840845057\n",
      "        (window_size):  15\n",
      "        (skip_text_shorter_than_window):  True\n",
      "        (compare_against_original):  False\n",
      "      )\n",
      "    (3): RepeatModification\n",
      "    (4): StopwordModification\n",
      "    (5): InputColumnModification(\n",
      "        (matching_column_labels):  ['premise', 'hypothesis']\n",
      "        (columns_to_ignore):  {'premise'}\n",
      "      )\n",
      "  (is_black_box):  True\n",
      ") \n",
      "\n"
     ]
    },
    {
     "name": "stderr",
     "output_type": "stream",
     "text": [
      "  0%|                                                  | 0/10 [00:00<?, ?it/s]2022-12-04 23:39:38.167755: I tensorflow/stream_executor/cuda/cuda_gpu_executor.cc:975] successful NUMA node read from SysFS had negative value (-1), but there must be at least one NUMA node, so returning NUMA node zero\n",
      "2022-12-04 23:39:38.169158: W tensorflow/stream_executor/platform/default/dso_loader.cc:64] Could not load dynamic library 'libcufft.so.10'; dlerror: libcufft.so.10: cannot open shared object file: No such file or directory\n",
      "2022-12-04 23:39:38.169233: W tensorflow/stream_executor/platform/default/dso_loader.cc:64] Could not load dynamic library 'libcurand.so.10'; dlerror: libcurand.so.10: cannot open shared object file: No such file or directory\n",
      "2022-12-04 23:39:38.169293: W tensorflow/stream_executor/platform/default/dso_loader.cc:64] Could not load dynamic library 'libcusolver.so.11'; dlerror: libcusolver.so.11: cannot open shared object file: No such file or directory\n",
      "2022-12-04 23:39:38.169353: W tensorflow/stream_executor/platform/default/dso_loader.cc:64] Could not load dynamic library 'libcusparse.so.11'; dlerror: libcusparse.so.11: cannot open shared object file: No such file or directory\n",
      "2022-12-04 23:39:38.169381: W tensorflow/core/common_runtime/gpu/gpu_device.cc:1850] Cannot dlopen some GPU libraries. Please make sure the missing libraries mentioned above are installed properly if you would like to use GPU. Follow the guide at https://www.tensorflow.org/install/gpu for how to download and setup the required libraries for your platform.\n",
      "Skipping registering GPU devices...\n",
      "2022-12-04 23:39:38.169513: I tensorflow/core/platform/cpu_feature_guard.cc:193] This TensorFlow binary is optimized with oneAPI Deep Neural Network Library (oneDNN) to use the following CPU instructions in performance-critical operations:  AVX2 FMA\n",
      "To enable them in other operations, rebuild TensorFlow with the appropriate compiler flags.\n",
      " 10%|████▏                                     | 1/10 [00:35<05:17, 35.25s/it]"
     ]
    },
    {
     "name": "stdout",
     "output_type": "stream",
     "text": [
      "--------------------------------------------- Result 1 ---------------------------------------------\n"
     ]
    },
    {
     "name": "stderr",
     "output_type": "stream",
     "text": [
      "[Succeeded / Failed / Skipped / Total] 1 / 0 / 3 / 4:  40%|▍| 4/10 [00:35<00:5"
     ]
    },
    {
     "name": "stdout",
     "output_type": "stream",
     "text": [
      "[[1 (38%)]] --> [[0 (37%)]]\n",
      "\n",
      "term extension of government funding that would avert a politically embarrassing shutdown   after  President Donald Trump  offered mixed signals on the stopgap plan .  Trump  complicated the talks by saying a six - year extension of funding for the Children ' s Health Insurance Program ( CHIP )  a Democratic priority   should not be included . The White House later said  the president  fully backed the proposal pending in the House of Representatives   which includes the insurance plan . Given opposition in both parties   it was still unclear on Thursday if Congress could head off a weekend shutdown of the federal government   which is operating on its third temporary funding extension since the 2018 fiscal year began on Oct . 1 . Negotiators have scrambled to reach a budget deal that would include Democratic efforts to protect young immigrants known as \" Dreamers  \" who were brought to the country illegally as children   and satisfy conservatives who want to raise spending for the military . Republican House Speaker Paul Ryan and Republican Senate Majority Leader Mitch McConnell said they were optimistic the House later on Thursday would approve funding until Feb . 16 . A procedural House vote to approve the rules for debate passed 226 - 194 . But some Republicans were not so certain the continuing resolution had enough support for approval . Republican Representative Mark Meadows   who heads the conservative House Freedom Caucus   told reporters : \" I promise you that ' s not the case \" that the speaker had enough Republican votes to pass the bill . Questions about Trump ' s support arose earlier on Thursday   when he said on Twitter that \" CHIP should be part of a long term solution   not a 30 Day   or short term   extension !\" That led the White House to issue a statement saying Trump was still on board with the House proposal . Asked if Trump ' s statements were making it more likely Republicans would be blamed for a shutdown   Republican Senator Jeff Flake   a frequent Trump critic   [[said]] simply : \" Yes .\" With the threat of a shutdown looming   some senators began to discuss the possibility of short one - or two - day extensions to allow negotiations to continue without stopping government operations . \" I think some of our members would like to see us negotiate the bigger deal and do a short - term CR for a few days  \" Republican Senator John Thune said . PREPARING FOR THE WORST Some government agencies began to prepare for a possible shutdown . The U . S . Government Accountability Office sent its employees a memo on Thursday warning that regular operations would cease on Monday if a shutdown occurred . If money were to run out   many federal agencies would be shut down and workers sent home . But \" essential services \" dealing with public safety and national security would continue . McConnell said he anticipated the House would pass the temporary funding bill and the Senate would take it up after that . \" Shouldn ’ t be a difficult vote . There ’ s nothing   nothing in such a continuing resolution that my Democratic friends actually oppose  \" he said . Democrats have insisted   however   a long - term spending bill must include a measure covering the \" Dreamers  \" who were protected from deportation under former President Barack Obama ' s Deferred Action for Childhood Arrivals ( DACA ) program .  Trump  ordered DACA to end in March and asked Congress to come up with a legislative fix . But bipartisan congressional negotiations with the White House faltered last week   prompting Republican leaders to begin pushing for the passage of the stopgap measure . Senate Democratic Leader Chuck Schumer criticized  Trump  for taking a trip to Pennsylvania on Thursday to campaign for a Republican House candidate rather than staying for the negotiations . He said the House bill to fund the government was “ very likely to be unacceptable to the Senate .\" Schumer said Trump ’ s changing positions on government spending and an immigration measure were impeding progress in Congress . \" The one thing standing in our way is the unrelenting flow of chaos on the other end of Pennsylvania Avenue ( the White House ). It has reduced the Republicans to shambles . They don ' t know who to negotiate with  \" he said in a Senate floor speech . Republicans hold a 51 - 49 majority in the Senate and most legislation   including spending bills or an immigration deal   will require 60 votes to pass . Republican Senator Lindsey Graham   who is involved in the immigration negotiations   and conservative colleague Mike Rounds have said they will not vote for a short - term funding bill . Some Republicans have argued a shutdown would hurt military readiness by disrupting supply chains and complicating planning and contracts .\n",
      "\n",
      "term extension of government funding that would avert a politically embarrassing shutdown   after  President Donald Trump  offered mixed signals on the stopgap plan .  Trump  complicated the talks by saying a six - year extension of funding for the Children ' s Health Insurance Program ( CHIP )  a Democratic priority   should not be included . The White House later said  the president  fully backed the proposal pending in the House of Representatives   which includes the insurance plan . Given opposition in both parties   it was still unclear on Thursday if Congress could head off a weekend shutdown of the federal government   which is operating on its third temporary funding extension since the 2018 fiscal year began on Oct . 1 . Negotiators have scrambled to reach a budget deal that would include Democratic efforts to protect young immigrants known as \" Dreamers  \" who were brought to the country illegally as children   and satisfy conservatives who want to raise spending for the military . Republican House Speaker Paul Ryan and Republican Senate Majority Leader Mitch McConnell said they were optimistic the House later on Thursday would approve funding until Feb . 16 . A procedural House vote to approve the rules for debate passed 226 - 194 . But some Republicans were not so certain the continuing resolution had enough support for approval . Republican Representative Mark Meadows   who heads the conservative House Freedom Caucus   told reporters : \" I promise you that ' s not the case \" that the speaker had enough Republican votes to pass the bill . Questions about Trump ' s support arose earlier on Thursday   when he said on Twitter that \" CHIP should be part of a long term solution   not a 30 Day   or short term   extension !\" That led the White House to issue a statement saying Trump was still on board with the House proposal . Asked if Trump ' s statements were making it more likely Republicans would be blamed for a shutdown   Republican Senator Jeff Flake   a frequent Trump critic   [[telling]] simply : \" Yes .\" With the threat of a shutdown looming   some senators began to discuss the possibility of short one - or two - day extensions to allow negotiations to continue without stopping government operations . \" I think some of our members would like to see us negotiate the bigger deal and do a short - term CR for a few days  \" Republican Senator John Thune said . PREPARING FOR THE WORST Some government agencies began to prepare for a possible shutdown . The U . S . Government Accountability Office sent its employees a memo on Thursday warning that regular operations would cease on Monday if a shutdown occurred . If money were to run out   many federal agencies would be shut down and workers sent home . But \" essential services \" dealing with public safety and national security would continue . McConnell said he anticipated the House would pass the temporary funding bill and the Senate would take it up after that . \" Shouldn ’ t be a difficult vote . There ’ s nothing   nothing in such a continuing resolution that my Democratic friends actually oppose  \" he said . Democrats have insisted   however   a long - term spending bill must include a measure covering the \" Dreamers  \" who were protected from deportation under former President Barack Obama ' s Deferred Action for Childhood Arrivals ( DACA ) program .  Trump  ordered DACA to end in March and asked Congress to come up with a legislative fix . But bipartisan congressional negotiations with the White House faltered last week   prompting Republican leaders to begin pushing for the passage of the stopgap measure . Senate Democratic Leader Chuck Schumer criticized  Trump  for taking a trip to Pennsylvania on Thursday to campaign for a Republican House candidate rather than staying for the negotiations . He said the House bill to fund the government was “ very likely to be unacceptable to the Senate .\" Schumer said Trump ’ s changing positions on government spending and an immigration measure were impeding progress in Congress . \" The one thing standing in our way is the unrelenting flow of chaos on the other end of Pennsylvania Avenue ( the White House ). It has reduced the Republicans to shambles . They don ' t know who to negotiate with  \" he said in a Senate floor speech . Republicans hold a 51 - 49 majority in the Senate and most legislation   including spending bills or an immigration deal   will require 60 votes to pass . Republican Senator Lindsey Graham   who is involved in the immigration negotiations   and conservative colleague Mike Rounds have said they will not vote for a short - term funding bill . Some Republicans have argued a shutdown would hurt military readiness by disrupting supply chains and complicating planning and contracts .\n",
      "\n",
      "\n",
      "--------------------------------------------- Result 2 ---------------------------------------------\n",
      "[[0 (48%)]] --> [[[SKIPPED]]]\n",
      "\n",
      "At a press conference in June   a reporter asked  Donald Trump  whether  he  ’ d be willing to answer questions about the Russia scandal under oath . “ One hundred percent  ” the president responded . As we discussed last week   Trump ’ s position on this has evolved . Asked at a press conference at Camp David whether he ’ s still committed to speaking with Mueller   Trump hedged   refusing to answer the question directly . A few days later   at an event alongside the prime minister of Norway   Trump faced a similar question . The Republican ’ s response was long   meandering   and not altogether coherent   but he concluded that it “ seems unlikely ” that he ’ d answer the special counsel ’ s questions . Close video Trump lawyers change defense on collusion and obstruction Rachel Maddow points out that  Donald Trump ’ s lawyers ’ arguments about Trump ’ s legal liability in the Russia scandal  have changed from denying Trump ’ s actions to excusing  them  as not illegal . Also noted is that Mike Pence ’ s lies about Mike Flynn need a new share tweet email save Embed Special counsel Robert S . Mueller III is seeking to question President Trump in the coming weeks about his decisions to oust national security adviser Michael Flynn and FBI Director James B . Comey   according to two people familiar with his plans . Mueller ’ s interest in the events that led Trump to push out Flynn and Comey indicates that his investigation is intensifying its focus on possible efforts by the president or others to obstruct or blunt the special counsel ’ s probe . If today ’ s reporting from the Washington Post is any indication    Trump  may need to change  his  posture once more . This dovetails with a story that ’ s been brewing of late . NBC News reported two weeks ago   for example   that the logistics and scope of an interview between the special counsel ’ s team and  Trump  were the subject of discussion among the relevant lawyers . Bloomberg Politics reported soon after that talks between Trump ’ s legal team and Mueller ’ s team are “ expected to continue … despite comments from  Trump  suggesting an interview is unlikely .” With this in mind   the Post added that the president ’ s attorneys “ have crafted some negotiating terms for the president ’ s interview with Mueller ’ s team   one that could be presented to the special counsel as soon as next week   according to the two people .” As for the nature of the conversation   the Post ’ s article went on to say that Trump   under the current plan   would like to answer some questions in an in - person interview   while answering others in writing   which is also consistent with NBC News ’ recent reporting . ( Why the president would find it necessary to turn part of the Q & A into a take - home exam is unclear .) It ’ s the subject of interest   however   that continues to stand out : if the special counsel is focused specifically on possible obstruction of justice   it suggests the president may be facing legal jeopardy . In November   Trump said   “ As far as I ’ m concerned   I haven ’ t been told that we ’ re under investigation   I ’ m not under investigation .” It may be a good idea to revisit that .\n",
      "\n",
      "\n",
      "--------------------------------------------- Result 3 ---------------------------------------------\n",
      "[[0 (49%)]] --> [[[SKIPPED]]]\n",
      "\n",
      "Trump   Xi present united front despite differences BEIJING —  President Donald Trump  sought to present a united front with Chinese President Xi Jinping following two days of meetings Thursday   despite lingering differences over trade and North Korea . On trade    Trump  criticized the “ very one - sided and unfair ” trade relationship between the U . S . and China but stopped short of castigating Xi by saying he doesn ’ t blame the country for having taken advantage of the U . S .  Trump  said China “ must immediately address the unfair trade practices that drive ” what  he  said is a “ shockingly ” large trade deficit   along with barriers to market access   forced technology transfers and intellectual property theft . “ But I don ’ t blame China  ”  he  said . “ After all   who can blame a country for being able to take advantage of another country for the benefit of its citizens ?” To applause    Trump  said : “ I give China great credit .”  His  Secretary of State Rex Tillerson offered a blunter assessment of China ’ s trade surplus with the United States   which in October widened by 12 . 2 percent from a year earlier   to $ 26 . 6 billion . The total surplus with the United States for the first 10 months of the year was $ 223 billion . ___  Trump  cooperates with Chinese effort to control image BEIJING — U . S .  President Donald Trump  was a cooperative partner for Beijing ’ s sweeping efforts to control the message of  his  heavily choreographed visit to China . Trump and  his  Chinese counterpart   Xi Jinping   took no questions at an event Thursday billed as a news briefing   a reduction of already minimal press interaction during previous visits by American leaders . During a 2014 visit by then President Barack Obama   Xi took a symbolic single question from a reporter for a Chinese state newspaper . He brushed off an American reporter ’ s question about whether Beijing might ease restrictions on journalist visas   saying vaguely that media outlets had to obey China ’ s laws . Trump   who has called the media the “ enemy of the American people  ” also took no questions during an event at which Chinese companies signed contracts to buy American jetliners   soybeans and other goods . Trump ’ s visit comes at a time when he faces uncomfortable questions at home about Russia and possible gun controls following deadly mass shootings . ___ North Korea   ever so cautiously   is going online PYONGYANG   North Korea — Ever so cautiously   North Korea is going online . Doctors can consult via live   online video conferencing   and lectures at prestigious Kim Il Sung University are streamed to faraway factories and agricultural communes . People use online dictionaries and text each other on their smart phones . In the wallets of the privileged are “ Jonsong ” or “ Narae ” cards for e - shopping and online banking . Cash registers at major department stores are plugged into the web . It ’ s just not the World Wide Web . This is all done on a tightly sealed intranet of the sort a medium - sized company might use for its employees . The free flow of information is anathema to authoritarian regimes   and with the possible exception of the African dictatorship of Eritrea   North Korea is still the least Internet - friendly country on Earth . Access to the global Internet for most is unimaginable . Hardly anyone has a personal computer or an email address that isn ’ t shared   and the price for trying to get around the government ’ s rules can be severe . But for Kim Jong Un   the country ’ s first leader to come of age with the Internet   the idea of a more wired North Korea is also attractive . It comes with the potential for great benefits to the nation from information technology — and for new forms of social and political control that promise to be more effective than anything his father and grandfather could have dreamed of . It also allows for the possibility of cyber - attacks on the West . ___ Pence   Abbott attend vigil for victims of church shooting SUTHERLAND SPRINGS   Texas — Vice President Mike Pence joined Texas Gov . Greg Abbott at a memorial service for the victims of Sunday ’ s massacre at a small - town Texas church . Pence told the crowd Wednesday evening that the shooting at the First Baptist Church of Sutherland Springs was the worst mass shooting at a church in American history and called the gunman “ deranged .” “ Whatever animated the evil that descended on that small church   of the attacker ’ s desire was to silence their testimony of faith   they failed  ” the vice president added . Abbott began the service by praying “ for healing and for help .” The governor said that Texans come together at times of crisis and tragedy . “ It ’ s what we do  ” Abbott said . People in the crowd responded “ amen .” ___ Las Vegas shooting victims still searching for their heroes LOS ANGELES — As soon as Chris Gilman knew she would survive the gunshot wound she sustained in the Las Vegas massacre   she wanted to find the two strangers who saved her life — a man and woman whose names she didn ’ t even know . She found a Facebook page called “ Find My LV Hero ” and posted a plea . “ Looking for husband and wife who were by the VIP bleachers and helped me get out  ” wrote Gilman   of Bonney Lake   Washington . “ My wife gave the husband her shirt and the wife held it against my side to stop bleeding as they carried me through the VIP area out to the street .” Despite the scant details in Gilman ’ s post   it worked . Three days later   Gilman connected with her rescuers   Alex and Wanda Valiente   off - duty Los Angeles County sheriff ’ s deputies who were at the Oct . 1 concert where a gunman opened fire from the 32nd floor of a hotel   killing 58 people and wounding hundreds . The connection is one of about 25 made so far through the Facebook page . Nearly six weeks after the massacre   Ashton Zyer ’ s social media creation continues to generate new searches for heroes who in some cases saved lives and in others simply provided what comfort they could . ___ IS militants evacuate last stronghold in Syria to government BEIRUT — A Syrian war monitor says Islamic State militants have withdrawn from their last stronghold following a government offensive . The Britain - based Syrian Observatory for Human Rights says government forces and allied troops   including Iraqi fighters   are combing Boukamal   a strategic town on the border with Iraq   on Thursday after IS militants withdrew . Syrian pro - government media say Syrian troops had clashed with remnants of IS militants in the town after they entered it late Wednesday . On Thursday   they declared the town totally free of the militants . The fall of Boukamal means remaining IS militants are currently holed up in small towns and villages along the border with Iraq and in the Syrian desert . ___ Democrats see wins as momentum for 2018 state elections Sweeping Democratic victories in Virginia and key gains in other 2017 state legislative races have lifted Democratic hopes of even bigger wins in next year ’ s midterm elections   as they seek a greater voice in how political districts will be redrawn for the decade to come . Democrats won the governors ’ offices in Virginia and New Jersey on Tuesday   erased a previously dominant Republican majority in the Virginia House of Delegates and won a special election that gave them control of the Washington state Senate . All told   Democrats flipped about two dozen state legislative seats around the country Tuesday and have now gained at least 30 seats previously held by Republicans since  President Donald Trump  won election last year   reversing several years of Republican momentum . “ In general   this is a rebuke of Republican governance of states  ” said Jessica Post   executive director of the Democratic Legislative Campaign Committee . She added : “ The other thing it said is we can win all across the country .” The fight for control of legislative chambers matters not only for policies on health care   taxes and education   but also because the legislature in most states determines how future congressional and state legislative districts are drawn . The next round of redistricting will take place after the 2020 Census   and both parties are focused on controlling as many states as possible by then . ___ Pomp and flattery : Asia rolls out the red carpets for Trump BEIJING — Honor guards marching in unison in colorful uniforms . Elaborate state dinners with celebrity guests . Gaggles of children   jumping and screaming along with endless praise . The first half of President Donald Trump ’ s whirlwind tour to Asia has been an exercise in the art of flattery   as world leaders woo the man who was introduced at the South Korean National Assembly as the “ leader of the world .” “ They are not ignorant that this is a president who is particularly responsive to flattery  ” said Lindsey Ford of the Asia Society Policy Institute in Washington   who said the Chinese   in particular   would “ absolutely go over the top ” trying to stroke the president ’ s ego . The pomp and pageantry began in Japan   where  Trump  was welcomed to the grand Akasaka Palace with a welcome ceremony that featured a maze of red carpets   an honor guard and marching band . Prime Minister Shinzo Abe   who has gone out of his way to strike up a personal friendship with  Trump    also treated the president to a round of golf at Japan ’ s premier course   complete with a champion golf partner and a taste of home : a hamburger lunch made with American beef . ___ Christopher Plummer to replace Kevin Spacey in Getty film LOS ANGELES — In a wholly unprecedented move   Kevin Spacey is being cut from Ridley Scott ’ s finished film “ All the Money in the World ” and replaced by Christopher Plummer just over one month before it ’ s supposed to hit theaters . People close to the production who were not authorized to speak publicly said Wednesday that Plummer is commencing reshoots immediately in the role of J . Paul Getty . All of Spacey ’ s scenes will be reshot   the people told The Associated Press . Co - stars Mark Wahlberg and Michelle Williams are expected to participate . Scott   who is known to be an efficient director   is intending to keep the film ’ s Dec . 22 release date . The director ’ s publicist Simon Halls confirmed the switch late Wednesday . The film was originally set to have its world premiere at the AFI Fest in Los Angeles on Nov . 16 but was pulled earlier this week amid the sexual harassment reports surrounding Spacey   who has also been fired from “ House of Cards ” and dropped by his talent agency and publicist . ___ Top moments at CMA Awards : Vegas   unity and the monologue Yes   Garth Brooks won entertainer of the year and Chris Stapleton picked up two honors   including album of the year . But the moments that truly dominated the 2017 Country Music Association Awards had less to do with winning   and more about a community banding together to heal . Here ’ s a look at some of the top moments at the awards show   which aired live Wednesday night from the Bridgestone Arena in Nashville   Tennessee . ______ HONORING THE LAS VEGAS VICTIMS The Associated Press .\n",
      "\n",
      "\n",
      "--------------------------------------------- Result 4 ---------------------------------------------\n",
      "[[0 (51%)]] --> [[[SKIPPED]]]\n",
      "\n",
      "The Latest on President Donald Trump in Florida ( all times local ): 9 : 35 p . m .  President Donald Trump  says  he  believes special counsel Robert Mueller \" will be fair \" to him   because \" everybody knows that there was no collusion \" between  Trump  ' s presidential campaign and Russia . Mueller is leading the federal investigation into Russian interference in the 2016 election . Trump tells The New York Times in an interview posted Thursday night that Mueller ' s probe — as well as two congressional investigations into the matter — have \" angered \" his base and \" made the base stronger .\" He says some lawmakers \" have been unbelievable in pointing out what a witch hunt the whole thing is .\" And  the president  repeats his assertion that Democrats \" made the Russian story up as a hoax   as a ruse   as an excuse for losing an election that in theory Democrats should always win .\" —— 7 : 20 p . m .  President Donald Trump  says the East Coast \" could use a little bit of that good old Global Warming \" as bitter cold temperatures are expected to freeze large swaths of the country this holiday weekend .  Trump  tweets   \" In the East   it could be the COLDEST New Year ' s Eve on record .\"  He  adds that : \" Perhaps we could use a little bit of that good old Global Warming that our Country   but not other countries   was going to pay TRILLIONS OF DOLLARS to protect against .  Trump  has repeatedly expressed skepticism about climate change science   calling global warming a \" hoax \" created by the Chinese to damage American industry .  He  announced earlier this year  his  intention to pull out of the landmark Paris climate agreement aimed at curbing greenhouse gas production . ——— 7 p . m .  President Donald Trump  is dining Thursday night at  his  private Mar - a - Lago club with Commerce Secretary Wilbur Ross . Deputy press secretary Hogan Gidley says the two men will discuss trade   job creation and \" America ' s record - setting booming economy .\"  Trump  has taken to Twitter this week to boast about improvements in the U . S . economy .  He  tweeted Thursday   \" We ' ve got the economy going better than anyone ever dreamt - and you haven ' t seen anything yet !\" On Tuesday    Trump  vowed that the tax cut legislation  he  signed last week will lead to \" a great year for Companies and JOBS !\" —— 3 a . m .  President Donald Trump  is planning to get a head start on the 2018 legislative agenda by meeting early in the new year with Capitol Hill ' s top Republicans . The White House says  Trump  will host Senate Majority Leader Mitch McConnell and House Speaker Paul Ryan at the Camp David presidential retreat during the weekend of Jan . 6 . Spokesmen for Ryan and McConnell have confirmed they will attend . The pow - wow will follow the recent enactment of legislation to cut taxes   beginning next year   for corporations and individuals at an estimated cost of $ 1 . 5 trillion added to the national debt over 10 years .\n",
      "\n",
      "\n"
     ]
    },
    {
     "name": "stderr",
     "output_type": "stream",
     "text": [
      "\r",
      "[Succeeded / Failed / Skipped / Total] 1 / 0 / 4 / 5:  50%|▌| 5/10 [00:35<00:3"
     ]
    },
    {
     "name": "stdout",
     "output_type": "stream",
     "text": [
      "--------------------------------------------- Result 5 ---------------------------------------------\n",
      "[[0 (44%)]] --> [[[SKIPPED]]]\n",
      "\n",
      "“ I ’ m thrilled with the progress that President Trump has made in defeating ISIS   cutting taxes for middle - class families and making court appointments  ” Emily Robertson from Austin   Texas   wrote in her letter . “ Thanks to the tax cuts   my husband and I stand to keep a much larger portion of our paychecks .” Not many of Trump ’ s supporters seem to approve of his aggressive   bully - like demeanor   though . I voted against Hillary Clinton more than I voted for  Donald Trump  . That said    President Trump  has exceeded my wildest expectations . Quite a few of the letters admit that  the president  ’ s speeches and tweets are a problem   with one writer calling  him  a “ crude   rude   clueless dude .” Yet there seems to be a consensus among  Trump  supporters that the last year was defined by more than just social media . “ If it takes putting up with Mr . Trump ’ s brash ways to see things get done   that is a deal I ’ m willing to accept  ” Jason Peck of Holtsville   New York   wrote in his letter . “ To be honest   I ’ m not sure he would have accomplished what he has so far without being an unrelenting public bully .” The Times has made an effort in the last year to shed its reputation   deserved or not   for liberal elitism . Giving more voice to  Trump  fans is only the latest effort to restructure  its  opinion page . Bret Stephens   a conservative columnist   was brought aboard even though he has controversial opinions on issues such as climate change and the Middle East .\n",
      "\n",
      "\n"
     ]
    },
    {
     "name": "stderr",
     "output_type": "stream",
     "text": [
      "[Succeeded / Failed / Skipped / Total] 2 / 0 / 6 / 8:  80%|▊| 8/10 [04:15<01:0"
     ]
    },
    {
     "name": "stdout",
     "output_type": "stream",
     "text": [
      "--------------------------------------------- Result 6 ---------------------------------------------\n",
      "[[0 (47%)]] --> [[2 (38%)]]\n",
      "\n",
      "[[Republicans]] in Congress are nowhere near [[coming]] together around any [[plan]] to address gun violence   nearly two weeks after a school shooting in Florida left 17 dead   and despite President Donald Trump ’ s promises to take action . Returning to Washington [[Monday]] after a [[week]] on recess   [[Republicans]] were [[divided]] on a slew of proposals the president has raised   and some questioned whether any [[reforms]] are [[needed]] at all . “ I don ’ t [[think]] we need more gun control  ” Louisiana Sen . [[John]] Kennedy told reporters Monday . “ I think we [[need]] better idiot control .” Trump   who has been talking to [[congressional]] Republicans and lobbyists from the [[National]] [[Rifle]] Association in [[recent]] [[days]]   has [[proposed]] a [[broad]] range of ideas during listening [[sessions]] and in tweets   [[including]] [[increasing]] the [[age]] [[requirement]] for [[purchasing]] [[certain]] [[types]] of [[guns]]   [[arming]] some teachers   [[making]] [[changes]] to the background check system   reopening mental institutions   and banning bump stocks through the Department of [[Justice]] . The [[White]] [[House]] is [[scheduled]] to [[host]] a bipartisan [[group]] of [[lawmakers]] Wednesday to [[come]] up with a path [[forward]] on some of those [[ideas]] . “ [[We]] continue to [[mourn]] the [[loss]] of [[so]] many precious [[young]] [[lives]]  ” Trump said [[Monday]] . “ These are incredible people . I visited with a [[lot]] of them . But we ’ ll turn our grief into [[action]] .” While the media campaign from the young survivors of the Parkland shooting has kept up the pressure on lawmakers to act   many Republicans are still reluctant to push significant changes to gun policy and challenge the NRA   which has five million members — the majority of whom [[live]] in conservative districts . In a [[room]] with [[several]] [[Republican]] governors    Trump  said [[Monday]] not to [[worry]] about the [[influential]] [[group]] . \" You guys — half of you are so afraid of the NRA  ”  he  said . “ There ' s nothing to be afraid of . And you know what   if they ' re not with you   we have to fight them every once in a while . That ' s OK .\" Despite Trump ’ s lobbying and [[focus]]   several Republicans who are strong advocates of the Second Amendment aren ’ t convinced gun control measures will curb mass shootings . Some [[Republicans]]   like [[Arizona]] [[Sen]] . Jeff Flake   who is not running for reelection   are more open to gun control reforms   including raising the age for purchasing some types of guns to 21 . “ [[This]] shooting was [[different]]  ” Flake told reporters   arguing that it would be hard for Republicans to not bring legislation up for a vote . “ It was amazing to me how quickly it died down after Las Vegas   but this one   with high school kids who have been very articulate in their   you know   in their explanation of what ' s needed and social media and everything else . We seem to have crossed the Rubicon here .\" Florida Rep . Mario Díaz - Balart also took a more open position . “ I ' m willing to look at anything to keep the American people safe   but I also need to make sure that we protect individual liberties  \" he told reporters Monday . Rep . Mark Meadows   chair of the conservative House Freedom Caucus   said his group plans to discuss various gun control measures   but some   such as raising the legal age of purchasing some firearms   will not be supported by the majority of the Republican party . Another measure being discussed is the so - called Fix NICS bill   which would strengthen the National Instant Criminal Background Check System . That measure was passed by the House in December   but only after being tied to rules that would allow anyone with a concealed - carry permit to carry concealed weapons across state lines . That made the bill a nonstarter in the Senate . Meadows said at the time Speaker Paul Ryan told the Freedom Caucus there would be no other votes on Fix NICS . Now it is being floated again   but Meadows says the Freedom Caucus has objections over due process fears . Meadows said the legislation as written would allow for guns to be taken away from people who do not have proper channels to defend their mental state . The  Trump  administration   for all of the president ’ s calls to action   has not moved to rally Republicans around any specific proposals   and is yet to provide any language on exactly what they would like Congress to support .  Trump  has said several times  he  ’ d like to strengthen background checks   but the president and  his  aides have declined to say if they support universal background checks   which failed to garner enough votes in Congress in the wake of the 2012 Sandy Hook school shooting . And on raising the age requirements   a measure that the NRA does not support   White House press secretary Sarah Huckabee Sanders said Monday   “ it would be premature for us to weigh in . But   as I said   the president is still supportive of the concept .” Reluctant Republicans could be more willing to get behind the president once he officially backs specific proposals   said South Carolina Sen . Lindsey Graham . “ Anything the president gets behind   because he ' s a Republican president   is a game changer  ” Graham told reporters Monday . “ So if he wants to raise the age to 21   I ' m not so sure that ' s a good idea   but if he got behind it   then you ' re in the ball game .\" Without backing from Republicans in Congress   there is little that the administration can do to curb gun violence . Even on banning bump stocks — the one measure that the president has said he can do through the Department of Justice — it ’ s unclear if the department will have the authority to enforce such a ban   and there are already concerns about the legal battles it could lead to . And Trump ’ s oft mentioned idea to arm thousands of teachers or train them to conceal and carry has proven to be divisive   even among congressional Republicans . \" I think arming educators is a really bad idea  \" Maine GOP Sen . Susan Collins told reporters Monday . Because they ' re trained to teach   not to be security guards . They already have a lot on their plate   and I think it ' s a terrible idea .\" Montana Sen . Steve Daines   meanwhile   said he does support arming schools   and opposes most of the other policies his colleagues or the president have raised . He dismissed proposals such as raising the legal age limit to buy certain types of weapons as “ feel - good measures that are not going to solve the problem .” He pointed to the US Capitol as a potential model for school safety . “ Why have we not seen an active shooting in the Capitol ? You know why   because we have armed guards out front  ” Daines said . Meadows also said he is open to the idea of protecting schools by arming some teachers . “ It happens in other areas . Churches generally have concealed - carry security guards each and every Sunday . Certainly in Israel the synagogues do  ” he said . Several other Republicans simply avoided taking hard stances on any of the president ’ s ideas on gun control . Louisiana Sen . Bill Cassidy said he is “ willing to consider ” the proposal to arm teachers in schools   and Alabama Sen . Richard Shelby urged caution on that particular idea   but he did not come out against it . A Parkland student and one of the young organizers of the # NeverAgain movement for gun control that has come out of the shooting met with Democrats Monday   and tweeted that the “ uproar ” over guns is now “ undeniable .”\n",
      "\n",
      "[[Reelected]] in Congress are nowhere near [[futures]] together around any [[curriculum]] to address gun violence   nearly two weeks after a school shooting in Florida left 17 dead   and despite President Donald Trump ’ s promises to take action . Returning to Washington [[Mondays]] after a [[month]] on recess   [[Conservatives]] were [[spaced]] on a slew of proposals the president has raised   and some questioned whether any [[reforming]] are [[need]] at all . “ I don ’ t [[ideas]] we need more gun control  ” Louisiana Sen . [[Joanne]] Kennedy told reporters Monday . “ I think we [[would]] better idiot control .” Trump   who has been talking to [[parliamentary]] Republicans and lobbyists from the [[Nationalist]] [[Handgun]] Association in [[upgraded]] [[times]]   has [[suggests]] a [[broader]] range of ideas during listening [[courses]] and in tweets   [[consists]] [[grew]] the [[aging]] [[demand]] for [[purchases]] [[several]] [[modelling]] of [[armed]]   [[armaments]] some teachers   [[producing]] [[revision]] to the background check system   reopening mental institutions   and banning bump stocks through the Department of [[Equality]] . The [[Blank]] [[Residence]] is [[program]] to [[reception]] a bipartisan [[bundle]] of [[commissars]] Wednesday to [[upcoming]] up with a path [[transmitting]] on some of those [[notions]] . “ [[Our]] continue to [[weep]] the [[vanishing]] of [[why]] many precious [[youthful]] [[livelihood]]  ” Trump said [[Thursdays]] . “ These are incredible people . I visited with a [[lots]] of them . But we ’ ll turn our grief into [[pursuits]] .” While the media campaign from the young survivors of the Parkland shooting has kept up the pressure on lawmakers to act   many Republicans are still reluctant to push significant changes to gun policy and challenge the NRA   which has five million members — the majority of whom [[livelihood]] in conservative districts . In a [[housing]] with [[differentiated]] [[Senators]] governors    Trump  said [[Yesterday]] not to [[fearing]] about the [[powerful]] [[teaming]] . \" You guys — half of you are so afraid of the NRA  ”  he  said . “ There ' s nothing to be afraid of . And you know what   if they ' re not with you   we have to fight them every once in a while . That ' s OK .\" Despite Trump ’ s lobbying and [[centre]]   several Republicans who are strong advocates of the Second Amendment aren ’ t convinced gun control measures will curb mass shootings . Some [[Mccain]]   like [[Glendale]] [[Enact]] . Jeff Flake   who is not running for reelection   are more open to gun control reforms   including raising the age for purchasing some types of guns to 21 . “ [[These]] shooting was [[variable]]  ” Flake told reporters   arguing that it would be hard for Republicans to not bring legislation up for a vote . “ It was amazing to me how quickly it died down after Las Vegas   but this one   with high school kids who have been very articulate in their   you know   in their explanation of what ' s needed and social media and everything else . We seem to have crossed the Rubicon here .\" Florida Rep . Mario Díaz - Balart also took a more open position . “ I ' m willing to look at anything to keep the American people safe   but I also need to make sure that we protect individual liberties  \" he told reporters Monday . Rep . Mark Meadows   chair of the conservative House Freedom Caucus   said his group plans to discuss various gun control measures   but some   such as raising the legal age of purchasing some firearms   will not be supported by the majority of the Republican party . Another measure being discussed is the so - called Fix NICS bill   which would strengthen the National Instant Criminal Background Check System . That measure was passed by the House in December   but only after being tied to rules that would allow anyone with a concealed - carry permit to carry concealed weapons across state lines . That made the bill a nonstarter in the Senate . Meadows said at the time Speaker Paul Ryan told the Freedom Caucus there would be no other votes on Fix NICS . Now it is being floated again   but Meadows says the Freedom Caucus has objections over due process fears . Meadows said the legislation as written would allow for guns to be taken away from people who do not have proper channels to defend their mental state . The  Trump  administration   for all of the president ’ s calls to action   has not moved to rally Republicans around any specific proposals   and is yet to provide any language on exactly what they would like Congress to support .  Trump  has said several times  he  ’ d like to strengthen background checks   but the president and  his  aides have declined to say if they support universal background checks   which failed to garner enough votes in Congress in the wake of the 2012 Sandy Hook school shooting . And on raising the age requirements   a measure that the NRA does not support   White House press secretary Sarah Huckabee Sanders said Monday   “ it would be premature for us to weigh in . But   as I said   the president is still supportive of the concept .” Reluctant Republicans could be more willing to get behind the president once he officially backs specific proposals   said South Carolina Sen . Lindsey Graham . “ Anything the president gets behind   because he ' s a Republican president   is a game changer  ” Graham told reporters Monday . “ So if he wants to raise the age to 21   I ' m not so sure that ' s a good idea   but if he got behind it   then you ' re in the ball game .\" Without backing from Republicans in Congress   there is little that the administration can do to curb gun violence . Even on banning bump stocks — the one measure that the president has said he can do through the Department of Justice — it ’ s unclear if the department will have the authority to enforce such a ban   and there are already concerns about the legal battles it could lead to . And Trump ’ s oft mentioned idea to arm thousands of teachers or train them to conceal and carry has proven to be divisive   even among congressional Republicans . \" I think arming educators is a really bad idea  \" Maine GOP Sen . Susan Collins told reporters Monday . Because they ' re trained to teach   not to be security guards . They already have a lot on their plate   and I think it ' s a terrible idea .\" Montana Sen . Steve Daines   meanwhile   said he does support arming schools   and opposes most of the other policies his colleagues or the president have raised . He dismissed proposals such as raising the legal age limit to buy certain types of weapons as “ feel - good measures that are not going to solve the problem .” He pointed to the US Capitol as a potential model for school safety . “ Why have we not seen an active shooting in the Capitol ? You know why   because we have armed guards out front  ” Daines said . Meadows also said he is open to the idea of protecting schools by arming some teachers . “ It happens in other areas . Churches generally have concealed - carry security guards each and every Sunday . Certainly in Israel the synagogues do  ” he said . Several other Republicans simply avoided taking hard stances on any of the president ’ s ideas on gun control . Louisiana Sen . Bill Cassidy said he is “ willing to consider ” the proposal to arm teachers in schools   and Alabama Sen . Richard Shelby urged caution on that particular idea   but he did not come out against it . A Parkland student and one of the young organizers of the # NeverAgain movement for gun control that has come out of the shooting met with Democrats Monday   and tweeted that the “ uproar ” over guns is now “ undeniable .”\n",
      "\n",
      "\n",
      "--------------------------------------------- Result 7 ---------------------------------------------\n",
      "[[0 (48%)]] --> [[[SKIPPED]]]\n",
      "\n",
      "The U . S . Senate on Wednesday took a step toward passage of tax legislation that is a top White House priority   setting up a likely decisive vote later this week even though it was unclear if the bill has enough Republican support to become law . Congressional Republicans spent the day scrambling to reformulate their tax bill to satisfy lawmakers worried about how much it would balloon the U . S . budget deficit . On a Christmas themed stage   U . S . President Donald Trump speaks about tax reform legislation in St . Louis   Missouri   U . S . November 29   2017 . REUTERS / Kevin Lamarque Stocks rallied on optimism the tax overhaul package could pass   but obstacles remained   including attempts to address the estimated $ 1 . 4 trillion that the bill would add to the United States ’ $ 20 trillion national debt over 10 years . Lawmakers voted by a 52 - 48 margin to begin formal debate   a step that could lead on Thursday and Friday to a decisive vote on the bill   which aims to cut taxes on corporations   other businesses and a wide range of individuals and families . Republicans have a 52 - 48 majority in the 100 - member Senate   giving them enough votes to approve the bill if they can hold together . Without Democratic support   Republicans can afford to lose no more than two of their own votes . U . S . President Donald Trump speaks about tax reform legislation during a visit to St . Louis   Missouri   U . S . November 29   2017 . REUTERS /  Kevin Lamarque President Donald Trump in a speech in Missouri on Wednesday    implored members of  his  own party to get behind the effort   which would be  his  first significant legislative achievement since taking office in January . “ A vote to cut taxes is a vote to put America first again  ” Trump said   adding the bill could “ cost me a fortune ” and that his wealthy friends were not happy . “ My accountants are going crazy right now . It ’ s all right . Hey look   I am president   I don ’ t care . I don ’ t care anymore .” Slideshow ( 3 Images ) Democrats say the tax cuts are a giveaway to corporations and the wealthy at the expense of working Americans . Some Democrats have said  Trump  and  his  children would gain from the bill   which would repeal the estate tax on inherited wealth . Among Americans aware of the Republican tax plan   49 percent said they were opposed   up from 41 percent in October   according to a Nov . 23 - 27 Reuters / Ipsos poll released on Wednesday . The latest online poll of 1   257 adults found 29 percent supporting the plan and 22 percent saying they “ don ’ t know .” The sweeping tax package was developed over several months behind closed doors by a small group of senior congressional and Trump administration figures   with little input from many Republican lawmakers and no involvement from Democrats .\n",
      "\n",
      "\n",
      "--------------------------------------------- Result 8 ---------------------------------------------\n",
      "[[0 (47%)]] --> [[[SKIPPED]]]\n",
      "\n",
      "When it comes to  the Russia scandal   Donald Trump and his team  have adopted a series of evolving postures . Remember when  they  used to argue – with a straight face – that literally no one from Trump ’ s operation was in communications with Russians during the foreign attack on the American elections ? As it turns out   Trump World doesn ’ t say this anymore . But there ’ s one aspect of the scandal on which the president has been remarkably consistent :  Trump  has rejected the idea that Russia stole Democratic materials in the first place . Indeed   since the moment U . S . intelligence officials briefed the then - Republican candidate on this in 2016    Trump  rejected the claim as folly   going to far as to repeatedly mock American intelligence agencies . No matter how painfully obvious the facts were to everyone on the planet    Trump  refused to accept the most basic detail of the entire controversy . According to Sen . Lindsey Graham ( R - S . C .)  however   all of that has changed . Here ’ s the exchange  he  had yesterday with NBC News ’ Chuck Todd on “ Meet the Press .” GRAHAM : Well   the president does now finally believe that the Russians stole the emails from the DNC and hacked   and Clinton   and the Russians …. The president does believe his intel agencies . Now   it ’ s quite likely that  Trump  and Graham   who appear to now be rather close allies   have had private conversations in which the president has said things to the senator that he hasn ’ t shared with the public . But if  Trump  told Graham he now believes Russians stole Democratic documents   it would represent a dramatic change of heart . As recently as mid - November – not quite two months ago –  Trump  told reporters that Vladimir Putin personally assured  him  that Russia didn ’ t meddle in the American election . “ Every time  he  sees me  he  says   ‘ I didn ’ t do that  ’ and I really believe that when  he  tells me that    he  means it  ” the American president said in reference to his Russian counterpart . It was part of a lengthy pattern in which Trump refused to accept U . S . intelligence agencies ’ findings . “ Nobody really knows for sure ” whether Russia intervened in the American elections   the president said in July – after intelligence professionals told him they do know for sure . But according to Lindsey Graham   sometime between mid - November and early - January   Trump changed his mind   and if the senator is right   the shift is a pretty important development . Indeed   Graham ’ s assertion raises some key follow - up questions for the White House : 1 . Can anyone from Trump World confirm whether Graham is correct ? If so   what finally convinced  Trump  to change his mind ? If  Trump  now believes Putin ’ s government stole American materials in order to influence the outcome of American elections   what does the president intend to do to punish our foreign attackers ? If  Trump  now accepts the intelligence community ’ s findings   does he have any regrets about insulting intelligence agencies for so long ? Should they expect a presidential apology ? Or is it possible Lindsey Graham is carrying water for his new pal   who ’ ll soon make the senator appear foolish by saying the opposite of what the senator claimed yesterday ?\n",
      "\n",
      "\n"
     ]
    },
    {
     "name": "stderr",
     "output_type": "stream",
     "text": [
      "[Succeeded / Failed / Skipped / Total] 3 / 0 / 6 / 9:  90%|▉| 9/10 [04:49<00:3"
     ]
    },
    {
     "name": "stdout",
     "output_type": "stream",
     "text": [
      "--------------------------------------------- Result 9 ---------------------------------------------\n",
      "[[0 (38%)]] --> [[1 (36%)]]\n",
      "\n",
      "truth society .” Inconvenient truths are now [[readily]] labeled “ fake news  ” even when put out by “ papers of record ” like the New York Times or “ broadcasters of record ” like CNN . This is particularly [[convenient]]   of course   for those who have reason to fear truth . And hence those who have “ something to hide ” might have something to do with the spread of the “ post - truth ” phenomenon . Many who lament the “ post - truth society ” attempt to date its advent or to identify its sources with that last observation in mind – the observation that truth - fearers are apt to be “ post - truth ”- lovers . One [[oft]] - accused culprit   where sourcing ’ s concerned   is accordingly the class of people who misuse social media in pursuit of “ agendas .” Such purveyors of “ alternative facts ” are widely seen to undermine our relation to reality itself . This in turn fosters a dysfunctional version of what legal philosopher Brian Leiter has in another context labeled the “ hermeneutic of suspicion ” – a sort of news - readers ’ and - watchers ’ rendition of what once was called “ the paranoid style ” in American politics . Where dating the post - truth society ’ s advent is concerned   there are multiple milestone candidates on offer . Some will say it all started with the ravings of hate radio DJs like Rush Limbaugh or Alex Jones   or of hate television hosts like Glenn Beck or Sean Hannity . Others will point to “ conspiracy theorist ” film - makers like Michael Moore or Oliver Stone   or to “ false equivalence ” claimants like tobacco manufacturers and fossil fuel companies eager to have us all thinking “ the evidence cuts both ways ” on cigarettes ’ associations with lung cancer or carbon ’ s association with climate change . Somewhat ironically   given the “ many sides of the story ” meme just alluded to   there is much to recommend most of the milestones and source - candidates just mentioned as having helped bring - in the era of “ post - truth .” I ’ d like to suggest   however   that the “ post - truth society ” has more saliently developed in lock - step with the political career of one man   and that it ’ s no accident that both have reached final fruition at the same “ moment ” in American political history . I refer   of course   to Donald Trump – a man whose relation to financial truth should draw our attention at least as readily as do his relations to legal and political truth . That  Donald Trump  might be more show than substance has been widely observed since well before  he  entered the 2016 Presidential race . And this distinction of course maps onto that between fake news and real news   appearance and reality – or truth . For reasons of this sort even I have suggested that Mr .  Trump  is a bit like an opiate   and might for this reason be labeled “ The Opioid President .” But while I continue to think this all sound as a matter of general characterization   I want here to draw attention to something much more specific – something   again   having to do with finance   not to mention our national economy . As most readers will recall   when Barack Obama was President many who disagreed with his politics sought to undermine his legal legitimacy by suggesting that he ’ d not been born in the U . S . “ Show us your birth certificate  ” these so - called “ Birthers ” demanded   and continued to demand even long after the then - President had – far too graciously – done so . Among these “ Birthers  ” of course   was Donald Trump   whose entry into the Presidential sweepstakes arguably commenced with his “ going public ” as a “ Birther .” Now   perhaps partly as “ payback ” for that sorry episode   many  Trump  detractors last month began calling themselves “ Girthers .” This they did in response to non - credible doctor reports to the effect that Mr .  Trump  weighed nearly the same as do many currently active professional sports figures of roughly the same height as  Trump  . Juxtaposed photographs of Mr .  Trump  and sundry star athletes   typically accompanied by stats and such captions as “ something doesn ’ t add up ” became something of a “ meme ” for a while on social media . I want to suggest that   how ever more plausible the skepticism of the “ Girthers ” is than was that of the “ Birthers  ” there is something far more important to be skeptical about – something that lends greater significance both to Mr . Trump ’ s still - undisclosed tax returns and to the ongoing Mueller investigation than seems to be thus far appreciated . Rather than “ Birthers ” or even “ Girthers  ” I wish to argue   we should all now be “ Worthers .”\n",
      "\n",
      "truth society .” Inconvenient truths are now [[instantly]] labeled “ fake news  ” even when put out by “ papers of record ” like the New York Times or “ broadcasters of record ” like CNN . This is particularly [[expediency]]   of course   for those who have reason to fear truth . And hence those who have “ something to hide ” might have something to do with the spread of the “ post - truth ” phenomenon . Many who lament the “ post - truth society ” attempt to date its advent or to identify its sources with that last observation in mind – the observation that truth - fearers are apt to be “ post - truth ”- lovers . One [[wird]] - accused culprit   where sourcing ’ s concerned   is accordingly the class of people who misuse social media in pursuit of “ agendas .” Such purveyors of “ alternative facts ” are widely seen to undermine our relation to reality itself . This in turn fosters a dysfunctional version of what legal philosopher Brian Leiter has in another context labeled the “ hermeneutic of suspicion ” – a sort of news - readers ’ and - watchers ’ rendition of what once was called “ the paranoid style ” in American politics . Where dating the post - truth society ’ s advent is concerned   there are multiple milestone candidates on offer . Some will say it all started with the ravings of hate radio DJs like Rush Limbaugh or Alex Jones   or of hate television hosts like Glenn Beck or Sean Hannity . Others will point to “ conspiracy theorist ” film - makers like Michael Moore or Oliver Stone   or to “ false equivalence ” claimants like tobacco manufacturers and fossil fuel companies eager to have us all thinking “ the evidence cuts both ways ” on cigarettes ’ associations with lung cancer or carbon ’ s association with climate change . Somewhat ironically   given the “ many sides of the story ” meme just alluded to   there is much to recommend most of the milestones and source - candidates just mentioned as having helped bring - in the era of “ post - truth .” I ’ d like to suggest   however   that the “ post - truth society ” has more saliently developed in lock - step with the political career of one man   and that it ’ s no accident that both have reached final fruition at the same “ moment ” in American political history . I refer   of course   to Donald Trump – a man whose relation to financial truth should draw our attention at least as readily as do his relations to legal and political truth . That  Donald Trump  might be more show than substance has been widely observed since well before  he  entered the 2016 Presidential race . And this distinction of course maps onto that between fake news and real news   appearance and reality – or truth . For reasons of this sort even I have suggested that Mr .  Trump  is a bit like an opiate   and might for this reason be labeled “ The Opioid President .” But while I continue to think this all sound as a matter of general characterization   I want here to draw attention to something much more specific – something   again   having to do with finance   not to mention our national economy . As most readers will recall   when Barack Obama was President many who disagreed with his politics sought to undermine his legal legitimacy by suggesting that he ’ d not been born in the U . S . “ Show us your birth certificate  ” these so - called “ Birthers ” demanded   and continued to demand even long after the then - President had – far too graciously – done so . Among these “ Birthers  ” of course   was Donald Trump   whose entry into the Presidential sweepstakes arguably commenced with his “ going public ” as a “ Birther .” Now   perhaps partly as “ payback ” for that sorry episode   many  Trump  detractors last month began calling themselves “ Girthers .” This they did in response to non - credible doctor reports to the effect that Mr .  Trump  weighed nearly the same as do many currently active professional sports figures of roughly the same height as  Trump  . Juxtaposed photographs of Mr .  Trump  and sundry star athletes   typically accompanied by stats and such captions as “ something doesn ’ t add up ” became something of a “ meme ” for a while on social media . I want to suggest that   how ever more plausible the skepticism of the “ Girthers ” is than was that of the “ Birthers  ” there is something far more important to be skeptical about – something that lends greater significance both to Mr . Trump ’ s still - undisclosed tax returns and to the ongoing Mueller investigation than seems to be thus far appreciated . Rather than “ Birthers ” or even “ Girthers  ” I wish to argue   we should all now be “ Worthers .”\n",
      "\n",
      "\n"
     ]
    },
    {
     "name": "stderr",
     "output_type": "stream",
     "text": [
      "[Succeeded / Failed / Skipped / Total] 4 / 0 / 6 / 10: 100%|█| 10/10 [05:49<00"
     ]
    },
    {
     "name": "stdout",
     "output_type": "stream",
     "text": [
      "--------------------------------------------- Result 10 ---------------------------------------------\n",
      "[[0 (50%)]] --> [[2 (36%)]]\n",
      "\n",
      "[[CA]] ) said she is ready for pushback from Breitbart News while she ramps up her efforts to impeach President Donald Trump . Waters told Elle magazine days after her State of the Union response that she follows Breitbart News ’ s critical reporting on her [[antics]] . According to Elle ’ s puff [[piece]]   Waters “ touched on the [[attacks]] that the [[Republican]] party and   in particular   Breitbart have launched against her — she noted that she ’ s frequently referred to as Mad Max .” “ When you make a decision   and you know that decision is controversial   you know that you ’ re going be up against people who are going to fire back at you  ” she reportedly said . “ I ’ m prepared to suffer the consequences of my actions   and I don ’ t fall backwards into this stuff . And so   the consequences will be there   but I ’ m prepared to deal with that .” Breitbart News was on Waters ’ s mind last year at a House Financial Services Committee hearing when she actually accused Breitbart News of wanting to kill her . “ They ’ re on the Internet ; they ’ re Breitbart  ” she said then . “ [[If]] you look at the YouTube   you see how much they want to kill me and others . What can we do ?” [[Waters]] also used her response to Trump ’ s [[State]] of the Union address [[last]] week to call for Trump ’ s immediate [[impeachment]] while saying  Trump  is “ a dangerous   unprincipled   divisive   and [[shameful]] [[racist]] .” ” Increasingly   millions of Americans have [[recognized]] that  Donald Trump  is [[detrimental]] to our [[nation]] .” [[We]] [[deserve]] [[better]] . That ’ s why I [[have]] [[called]] for  his  impeachment  ” she said on [[BET]] . “ Some [[believe]] it ’ s too [[early]] . [[We]] must [[organize]]   [[challenge]]   and resist .” [[Waters]] told Elle that she is at [[odds]] with her party ’ s leadership right now   though   on the impeachment issue . “ Now   the leadership has a different take   and what they ’ re thinking is we can ’ t get diverted from tax reform that we ’ ve been working on … The leadership does not want to be diverted into talking about impeachment  ” Waters said . “ I respect that they don ’ t necessarily think about it the way that I think about it   but I don ’ t let that interfere with what I do .”\n",
      "\n",
      "[[NOC]] ) said she is ready for pushback from Breitbart News while she ramps up her efforts to impeach President Donald Trump . Waters told Elle magazine days after her State of the Union response that she follows Breitbart News ’ s critical reporting on her [[weirdness]] . According to Elle ’ s puff [[sliced]]   Waters “ touched on the [[slams]] that the [[Congressional]] party and   in particular   Breitbart have launched against her — she noted that she ’ s frequently referred to as Mad Max .” “ When you make a decision   and you know that decision is controversial   you know that you ’ re going be up against people who are going to fire back at you  ” she reportedly said . “ I ’ m prepared to suffer the consequences of my actions   and I don ’ t fall backwards into this stuff . And so   the consequences will be there   but I ’ m prepared to deal with that .” Breitbart News was on Waters ’ s mind last year at a House Financial Services Committee hearing when she actually accused Breitbart News of wanting to kill her . “ They ’ re on the Internet ; they ’ re Breitbart  ” she said then . “ [[Despite]] you look at the YouTube   you see how much they want to kill me and others . What can we do ?” [[Rivers]] also used her response to Trump ’ s [[Stat]] of the Union address [[previous]] week to call for Trump ’ s immediate [[allegations]] while saying  Trump  is “ a dangerous   unprincipled   divisive   and [[disgraceful]] [[racism]] .” ” Increasingly   millions of Americans have [[gratitude]] that  Donald Trump  is [[destructive]] to our [[nationals]] .” [[Ourselves]] [[earn]] [[more]] . That ’ s why I [[ont]] [[ask]] for  his  impeachment  ” she said on [[EQUAL]] . “ Some [[thoughts]] it ’ s too [[hurry]] . [[Ourselves]] must [[organizations]]   [[knotty]]   and resist .” [[Aqueduct]] told Elle that she is at [[risks]] with her party ’ s leadership right now   though   on the impeachment issue . “ Now   the leadership has a different take   and what they ’ re thinking is we can ’ t get diverted from tax reform that we ’ ve been working on … The leadership does not want to be diverted into talking about impeachment  ” Waters said . “ I respect that they don ’ t necessarily think about it the way that I think about it   but I don ’ t let that interfere with what I do .”\n",
      "\n",
      "\n",
      "\n",
      "+-------------------------------+---------+\n",
      "| Attack Results                |         |\n",
      "+-------------------------------+---------+\n",
      "| Number of successful attacks: | 4       |\n",
      "| Number of failed attacks:     | 0       |\n",
      "| Number of skipped attacks:    | 6       |\n",
      "| Original accuracy:            | 40.0%   |\n",
      "| Accuracy under attack:        | 0.0%    |\n",
      "| Attack success rate:          | 100.0%  |\n",
      "| Average perturbed word %:     | 3.34%   |\n",
      "| Average num. words per input: | 717.1   |\n",
      "| Avg num queries:              | 1191.75 |\n",
      "+-------------------------------+---------+\n"
     ]
    },
    {
     "name": "stderr",
     "output_type": "stream",
     "text": [
      "\n"
     ]
    }
   ],
   "source": [
    "attack_args = AttackArgs(num_examples=10)\n",
    "\n",
    "attacker = Attacker(attack, dataset, attack_args)\n",
    "\n",
    "attack_results = attacker.attack_dataset()"
   ]
  },
  {
   "cell_type": "code",
   "execution_count": 10,
   "metadata": {},
   "outputs": [
    {
     "name": "stderr",
     "output_type": "stream",
     "text": [
      "textattack: Logging to CSV at path results.csv\n"
     ]
    },
    {
     "data": {
      "text/html": [
       "<table border=\"1\" class=\"dataframe\">\n",
       "  <thead>\n",
       "    <tr style=\"text-align: right;\">\n",
       "      <th></th>\n",
       "      <th>original_text</th>\n",
       "      <th>perturbed_text</th>\n",
       "    </tr>\n",
       "  </thead>\n",
       "  <tbody>\n",
       "    <tr>\n",
       "      <th>0</th>\n",
       "      <td>term extension of government funding that would avert a politically embarrassing shutdown   after  President Donald Trump  offered mixed signals on the stopgap plan .  Trump  complicated the talks by saying a six - year extension of funding for the Children ' s Health Insurance Program ( CHIP )  a Democratic priority   should not be included . The White House later said  the president  fully backed the proposal pending in the House of Representatives   which includes the insurance plan . Given opposition in both parties   it was still unclear on Thursday if Congress could head off a weekend shutdown of the federal government   which is operating on its third temporary funding extension since the 2018 fiscal year began on Oct . 1 . Negotiators have scrambled to reach a budget deal that would include Democratic efforts to protect young immigrants known as \" Dreamers  \" who were brought to the country illegally as children   and satisfy conservatives who want to raise spending for the military . Republican House Speaker Paul Ryan and Republican Senate Majority Leader Mitch McConnell said they were optimistic the House later on Thursday would approve funding until Feb . 16 . A procedural House vote to approve the rules for debate passed 226 - 194 . But some Republicans were not so certain the continuing resolution had enough support for approval . Republican Representative Mark Meadows   who heads the conservative House Freedom Caucus   told reporters : \" I promise you that ' s not the case \" that the speaker had enough Republican votes to pass the bill . Questions about Trump ' s support arose earlier on Thursday   when he said on Twitter that \" CHIP should be part of a long term solution   not a 30 Day   or short term   extension !\" That led the White House to issue a statement saying Trump was still on board with the House proposal . Asked if Trump ' s statements were making it more likely Republicans would be blamed for a shutdown   Republican Senator Jeff Flake   a frequent Trump critic   <font color = green>said</font> simply : \" Yes .\" With the threat of a shutdown looming   some senators began to discuss the possibility of short one - or two - day extensions to allow negotiations to continue without stopping government operations . \" I think some of our members would like to see us negotiate the bigger deal and do a short - term CR for a few days  \" Republican Senator John Thune said . PREPARING FOR THE WORST Some government agencies began to prepare for a possible shutdown . The U . S . Government Accountability Office sent its employees a memo on Thursday warning that regular operations would cease on Monday if a shutdown occurred . If money were to run out   many federal agencies would be shut down and workers sent home . But \" essential services \" dealing with public safety and national security would continue . McConnell said he anticipated the House would pass the temporary funding bill and the Senate would take it up after that . \" Shouldn ’ t be a difficult vote . There ’ s nothing   nothing in such a continuing resolution that my Democratic friends actually oppose  \" he said . Democrats have insisted   however   a long - term spending bill must include a measure covering the \" Dreamers  \" who were protected from deportation under former President Barack Obama ' s Deferred Action for Childhood Arrivals ( DACA ) program .  Trump  ordered DACA to end in March and asked Congress to come up with a legislative fix . But bipartisan congressional negotiations with the White House faltered last week   prompting Republican leaders to begin pushing for the passage of the stopgap measure . Senate Democratic Leader Chuck Schumer criticized  Trump  for taking a trip to Pennsylvania on Thursday to campaign for a Republican House candidate rather than staying for the negotiations . He said the House bill to fund the government was “ very likely to be unacceptable to the Senate .\" Schumer said Trump ’ s changing positions on government spending and an immigration measure were impeding progress in Congress . \" The one thing standing in our way is the unrelenting flow of chaos on the other end of Pennsylvania Avenue ( the White House ). It has reduced the Republicans to shambles . They don ' t know who to negotiate with  \" he said in a Senate floor speech . Republicans hold a 51 - 49 majority in the Senate and most legislation   including spending bills or an immigration deal   will require 60 votes to pass . Republican Senator Lindsey Graham   who is involved in the immigration negotiations   and conservative colleague Mike Rounds have said they will not vote for a short - term funding bill . Some Republicans have argued a shutdown would hurt military readiness by disrupting supply chains and complicating planning and contracts .</td>\n",
       "      <td>term extension of government funding that would avert a politically embarrassing shutdown   after  President Donald Trump  offered mixed signals on the stopgap plan .  Trump  complicated the talks by saying a six - year extension of funding for the Children ' s Health Insurance Program ( CHIP )  a Democratic priority   should not be included . The White House later said  the president  fully backed the proposal pending in the House of Representatives   which includes the insurance plan . Given opposition in both parties   it was still unclear on Thursday if Congress could head off a weekend shutdown of the federal government   which is operating on its third temporary funding extension since the 2018 fiscal year began on Oct . 1 . Negotiators have scrambled to reach a budget deal that would include Democratic efforts to protect young immigrants known as \" Dreamers  \" who were brought to the country illegally as children   and satisfy conservatives who want to raise spending for the military . Republican House Speaker Paul Ryan and Republican Senate Majority Leader Mitch McConnell said they were optimistic the House later on Thursday would approve funding until Feb . 16 . A procedural House vote to approve the rules for debate passed 226 - 194 . But some Republicans were not so certain the continuing resolution had enough support for approval . Republican Representative Mark Meadows   who heads the conservative House Freedom Caucus   told reporters : \" I promise you that ' s not the case \" that the speaker had enough Republican votes to pass the bill . Questions about Trump ' s support arose earlier on Thursday   when he said on Twitter that \" CHIP should be part of a long term solution   not a 30 Day   or short term   extension !\" That led the White House to issue a statement saying Trump was still on board with the House proposal . Asked if Trump ' s statements were making it more likely Republicans would be blamed for a shutdown   Republican Senator Jeff Flake   a frequent Trump critic   <font color = red>telling</font> simply : \" Yes .\" With the threat of a shutdown looming   some senators began to discuss the possibility of short one - or two - day extensions to allow negotiations to continue without stopping government operations . \" I think some of our members would like to see us negotiate the bigger deal and do a short - term CR for a few days  \" Republican Senator John Thune said . PREPARING FOR THE WORST Some government agencies began to prepare for a possible shutdown . The U . S . Government Accountability Office sent its employees a memo on Thursday warning that regular operations would cease on Monday if a shutdown occurred . If money were to run out   many federal agencies would be shut down and workers sent home . But \" essential services \" dealing with public safety and national security would continue . McConnell said he anticipated the House would pass the temporary funding bill and the Senate would take it up after that . \" Shouldn ’ t be a difficult vote . There ’ s nothing   nothing in such a continuing resolution that my Democratic friends actually oppose  \" he said . Democrats have insisted   however   a long - term spending bill must include a measure covering the \" Dreamers  \" who were protected from deportation under former President Barack Obama ' s Deferred Action for Childhood Arrivals ( DACA ) program .  Trump  ordered DACA to end in March and asked Congress to come up with a legislative fix . But bipartisan congressional negotiations with the White House faltered last week   prompting Republican leaders to begin pushing for the passage of the stopgap measure . Senate Democratic Leader Chuck Schumer criticized  Trump  for taking a trip to Pennsylvania on Thursday to campaign for a Republican House candidate rather than staying for the negotiations . He said the House bill to fund the government was “ very likely to be unacceptable to the Senate .\" Schumer said Trump ’ s changing positions on government spending and an immigration measure were impeding progress in Congress . \" The one thing standing in our way is the unrelenting flow of chaos on the other end of Pennsylvania Avenue ( the White House ). It has reduced the Republicans to shambles . They don ' t know who to negotiate with  \" he said in a Senate floor speech . Republicans hold a 51 - 49 majority in the Senate and most legislation   including spending bills or an immigration deal   will require 60 votes to pass . Republican Senator Lindsey Graham   who is involved in the immigration negotiations   and conservative colleague Mike Rounds have said they will not vote for a short - term funding bill . Some Republicans have argued a shutdown would hurt military readiness by disrupting supply chains and complicating planning and contracts .</td>\n",
       "    </tr>\n",
       "    <tr>\n",
       "      <th>1</th>\n",
       "      <td>At a press conference in June   a reporter asked  Donald Trump  whether  he  ’ d be willing to answer questions about the Russia scandal under oath . “ One hundred percent  ” the president responded . As we discussed last week   Trump ’ s position on this has evolved . Asked at a press conference at Camp David whether he ’ s still committed to speaking with Mueller   Trump hedged   refusing to answer the question directly . A few days later   at an event alongside the prime minister of Norway   Trump faced a similar question . The Republican ’ s response was long   meandering   and not altogether coherent   but he concluded that it “ seems unlikely ” that he ’ d answer the special counsel ’ s questions . Close video Trump lawyers change defense on collusion and obstruction Rachel Maddow points out that  Donald Trump ’ s lawyers ’ arguments about Trump ’ s legal liability in the Russia scandal  have changed from denying Trump ’ s actions to excusing  them  as not illegal . Also noted is that Mike Pence ’ s lies about Mike Flynn need a new share tweet email save Embed Special counsel Robert S . Mueller III is seeking to question President Trump in the coming weeks about his decisions to oust national security adviser Michael Flynn and FBI Director James B . Comey   according to two people familiar with his plans . Mueller ’ s interest in the events that led Trump to push out Flynn and Comey indicates that his investigation is intensifying its focus on possible efforts by the president or others to obstruct or blunt the special counsel ’ s probe . If today ’ s reporting from the Washington Post is any indication    Trump  may need to change  his  posture once more . This dovetails with a story that ’ s been brewing of late . NBC News reported two weeks ago   for example   that the logistics and scope of an interview between the special counsel ’ s team and  Trump  were the subject of discussion among the relevant lawyers . Bloomberg Politics reported soon after that talks between Trump ’ s legal team and Mueller ’ s team are “ expected to continue … despite comments from  Trump  suggesting an interview is unlikely .” With this in mind   the Post added that the president ’ s attorneys “ have crafted some negotiating terms for the president ’ s interview with Mueller ’ s team   one that could be presented to the special counsel as soon as next week   according to the two people .” As for the nature of the conversation   the Post ’ s article went on to say that Trump   under the current plan   would like to answer some questions in an in - person interview   while answering others in writing   which is also consistent with NBC News ’ recent reporting . ( Why the president would find it necessary to turn part of the Q & A into a take - home exam is unclear .) It ’ s the subject of interest   however   that continues to stand out : if the special counsel is focused specifically on possible obstruction of justice   it suggests the president may be facing legal jeopardy . In November   Trump said   “ As far as I ’ m concerned   I haven ’ t been told that we ’ re under investigation   I ’ m not under investigation .” It may be a good idea to revisit that .</td>\n",
       "      <td>At a press conference in June   a reporter asked  Donald Trump  whether  he  ’ d be willing to answer questions about the Russia scandal under oath . “ One hundred percent  ” the president responded . As we discussed last week   Trump ’ s position on this has evolved . Asked at a press conference at Camp David whether he ’ s still committed to speaking with Mueller   Trump hedged   refusing to answer the question directly . A few days later   at an event alongside the prime minister of Norway   Trump faced a similar question . The Republican ’ s response was long   meandering   and not altogether coherent   but he concluded that it “ seems unlikely ” that he ’ d answer the special counsel ’ s questions . Close video Trump lawyers change defense on collusion and obstruction Rachel Maddow points out that  Donald Trump ’ s lawyers ’ arguments about Trump ’ s legal liability in the Russia scandal  have changed from denying Trump ’ s actions to excusing  them  as not illegal . Also noted is that Mike Pence ’ s lies about Mike Flynn need a new share tweet email save Embed Special counsel Robert S . Mueller III is seeking to question President Trump in the coming weeks about his decisions to oust national security adviser Michael Flynn and FBI Director James B . Comey   according to two people familiar with his plans . Mueller ’ s interest in the events that led Trump to push out Flynn and Comey indicates that his investigation is intensifying its focus on possible efforts by the president or others to obstruct or blunt the special counsel ’ s probe . If today ’ s reporting from the Washington Post is any indication    Trump  may need to change  his  posture once more . This dovetails with a story that ’ s been brewing of late . NBC News reported two weeks ago   for example   that the logistics and scope of an interview between the special counsel ’ s team and  Trump  were the subject of discussion among the relevant lawyers . Bloomberg Politics reported soon after that talks between Trump ’ s legal team and Mueller ’ s team are “ expected to continue … despite comments from  Trump  suggesting an interview is unlikely .” With this in mind   the Post added that the president ’ s attorneys “ have crafted some negotiating terms for the president ’ s interview with Mueller ’ s team   one that could be presented to the special counsel as soon as next week   according to the two people .” As for the nature of the conversation   the Post ’ s article went on to say that Trump   under the current plan   would like to answer some questions in an in - person interview   while answering others in writing   which is also consistent with NBC News ’ recent reporting . ( Why the president would find it necessary to turn part of the Q & A into a take - home exam is unclear .) It ’ s the subject of interest   however   that continues to stand out : if the special counsel is focused specifically on possible obstruction of justice   it suggests the president may be facing legal jeopardy . In November   Trump said   “ As far as I ’ m concerned   I haven ’ t been told that we ’ re under investigation   I ’ m not under investigation .” It may be a good idea to revisit that .</td>\n",
       "    </tr>\n",
       "    <tr>\n",
       "      <th>2</th>\n",
       "      <td>Trump   Xi present united front despite differences BEIJING —  President Donald Trump  sought to present a united front with Chinese President Xi Jinping following two days of meetings Thursday   despite lingering differences over trade and North Korea . On trade    Trump  criticized the “ very one - sided and unfair ” trade relationship between the U . S . and China but stopped short of castigating Xi by saying he doesn ’ t blame the country for having taken advantage of the U . S .  Trump  said China “ must immediately address the unfair trade practices that drive ” what  he  said is a “ shockingly ” large trade deficit   along with barriers to market access   forced technology transfers and intellectual property theft . “ But I don ’ t blame China  ”  he  said . “ After all   who can blame a country for being able to take advantage of another country for the benefit of its citizens ?” To applause    Trump  said : “ I give China great credit .”  His  Secretary of State Rex Tillerson offered a blunter assessment of China ’ s trade surplus with the United States   which in October widened by 12 . 2 percent from a year earlier   to $ 26 . 6 billion . The total surplus with the United States for the first 10 months of the year was $ 223 billion . ___  Trump  cooperates with Chinese effort to control image BEIJING — U . S .  President Donald Trump  was a cooperative partner for Beijing ’ s sweeping efforts to control the message of  his  heavily choreographed visit to China . Trump and  his  Chinese counterpart   Xi Jinping   took no questions at an event Thursday billed as a news briefing   a reduction of already minimal press interaction during previous visits by American leaders . During a 2014 visit by then President Barack Obama   Xi took a symbolic single question from a reporter for a Chinese state newspaper . He brushed off an American reporter ’ s question about whether Beijing might ease restrictions on journalist visas   saying vaguely that media outlets had to obey China ’ s laws . Trump   who has called the media the “ enemy of the American people  ” also took no questions during an event at which Chinese companies signed contracts to buy American jetliners   soybeans and other goods . Trump ’ s visit comes at a time when he faces uncomfortable questions at home about Russia and possible gun controls following deadly mass shootings . ___ North Korea   ever so cautiously   is going online PYONGYANG   North Korea — Ever so cautiously   North Korea is going online . Doctors can consult via live   online video conferencing   and lectures at prestigious Kim Il Sung University are streamed to faraway factories and agricultural communes . People use online dictionaries and text each other on their smart phones . In the wallets of the privileged are “ Jonsong ” or “ Narae ” cards for e - shopping and online banking . Cash registers at major department stores are plugged into the web . It ’ s just not the World Wide Web . This is all done on a tightly sealed intranet of the sort a medium - sized company might use for its employees . The free flow of information is anathema to authoritarian regimes   and with the possible exception of the African dictatorship of Eritrea   North Korea is still the least Internet - friendly country on Earth . Access to the global Internet for most is unimaginable . Hardly anyone has a personal computer or an email address that isn ’ t shared   and the price for trying to get around the government ’ s rules can be severe . But for Kim Jong Un   the country ’ s first leader to come of age with the Internet   the idea of a more wired North Korea is also attractive . It comes with the potential for great benefits to the nation from information technology — and for new forms of social and political control that promise to be more effective than anything his father and grandfather could have dreamed of . It also allows for the possibility of cyber - attacks on the West . ___ Pence   Abbott attend vigil for victims of church shooting SUTHERLAND SPRINGS   Texas — Vice President Mike Pence joined Texas Gov . Greg Abbott at a memorial service for the victims of Sunday ’ s massacre at a small - town Texas church . Pence told the crowd Wednesday evening that the shooting at the First Baptist Church of Sutherland Springs was the worst mass shooting at a church in American history and called the gunman “ deranged .” “ Whatever animated the evil that descended on that small church   of the attacker ’ s desire was to silence their testimony of faith   they failed  ” the vice president added . Abbott began the service by praying “ for healing and for help .” The governor said that Texans come together at times of crisis and tragedy . “ It ’ s what we do  ” Abbott said . People in the crowd responded “ amen .” ___ Las Vegas shooting victims still searching for their heroes LOS ANGELES — As soon as Chris Gilman knew she would survive the gunshot wound she sustained in the Las Vegas massacre   she wanted to find the two strangers who saved her life — a man and woman whose names she didn ’ t even know . She found a Facebook page called “ Find My LV Hero ” and posted a plea . “ Looking for husband and wife who were by the VIP bleachers and helped me get out  ” wrote Gilman   of Bonney Lake   Washington . “ My wife gave the husband her shirt and the wife held it against my side to stop bleeding as they carried me through the VIP area out to the street .” Despite the scant details in Gilman ’ s post   it worked . Three days later   Gilman connected with her rescuers   Alex and Wanda Valiente   off - duty Los Angeles County sheriff ’ s deputies who were at the Oct . 1 concert where a gunman opened fire from the 32nd floor of a hotel   killing 58 people and wounding hundreds . The connection is one of about 25 made so far through the Facebook page . Nearly six weeks after the massacre   Ashton Zyer ’ s social media creation continues to generate new searches for heroes who in some cases saved lives and in others simply provided what comfort they could . ___ IS militants evacuate last stronghold in Syria to government BEIRUT — A Syrian war monitor says Islamic State militants have withdrawn from their last stronghold following a government offensive . The Britain - based Syrian Observatory for Human Rights says government forces and allied troops   including Iraqi fighters   are combing Boukamal   a strategic town on the border with Iraq   on Thursday after IS militants withdrew . Syrian pro - government media say Syrian troops had clashed with remnants of IS militants in the town after they entered it late Wednesday . On Thursday   they declared the town totally free of the militants . The fall of Boukamal means remaining IS militants are currently holed up in small towns and villages along the border with Iraq and in the Syrian desert . ___ Democrats see wins as momentum for 2018 state elections Sweeping Democratic victories in Virginia and key gains in other 2017 state legislative races have lifted Democratic hopes of even bigger wins in next year ’ s midterm elections   as they seek a greater voice in how political districts will be redrawn for the decade to come . Democrats won the governors ’ offices in Virginia and New Jersey on Tuesday   erased a previously dominant Republican majority in the Virginia House of Delegates and won a special election that gave them control of the Washington state Senate . All told   Democrats flipped about two dozen state legislative seats around the country Tuesday and have now gained at least 30 seats previously held by Republicans since  President Donald Trump  won election last year   reversing several years of Republican momentum . “ In general   this is a rebuke of Republican governance of states  ” said Jessica Post   executive director of the Democratic Legislative Campaign Committee . She added : “ The other thing it said is we can win all across the country .” The fight for control of legislative chambers matters not only for policies on health care   taxes and education   but also because the legislature in most states determines how future congressional and state legislative districts are drawn . The next round of redistricting will take place after the 2020 Census   and both parties are focused on controlling as many states as possible by then . ___ Pomp and flattery : Asia rolls out the red carpets for Trump BEIJING — Honor guards marching in unison in colorful uniforms . Elaborate state dinners with celebrity guests . Gaggles of children   jumping and screaming along with endless praise . The first half of President Donald Trump ’ s whirlwind tour to Asia has been an exercise in the art of flattery   as world leaders woo the man who was introduced at the South Korean National Assembly as the “ leader of the world .” “ They are not ignorant that this is a president who is particularly responsive to flattery  ” said Lindsey Ford of the Asia Society Policy Institute in Washington   who said the Chinese   in particular   would “ absolutely go over the top ” trying to stroke the president ’ s ego . The pomp and pageantry began in Japan   where  Trump  was welcomed to the grand Akasaka Palace with a welcome ceremony that featured a maze of red carpets   an honor guard and marching band . Prime Minister Shinzo Abe   who has gone out of his way to strike up a personal friendship with  Trump    also treated the president to a round of golf at Japan ’ s premier course   complete with a champion golf partner and a taste of home : a hamburger lunch made with American beef . ___ Christopher Plummer to replace Kevin Spacey in Getty film LOS ANGELES — In a wholly unprecedented move   Kevin Spacey is being cut from Ridley Scott ’ s finished film “ All the Money in the World ” and replaced by Christopher Plummer just over one month before it ’ s supposed to hit theaters . People close to the production who were not authorized to speak publicly said Wednesday that Plummer is commencing reshoots immediately in the role of J . Paul Getty . All of Spacey ’ s scenes will be reshot   the people told The Associated Press . Co - stars Mark Wahlberg and Michelle Williams are expected to participate . Scott   who is known to be an efficient director   is intending to keep the film ’ s Dec . 22 release date . The director ’ s publicist Simon Halls confirmed the switch late Wednesday . The film was originally set to have its world premiere at the AFI Fest in Los Angeles on Nov . 16 but was pulled earlier this week amid the sexual harassment reports surrounding Spacey   who has also been fired from “ House of Cards ” and dropped by his talent agency and publicist . ___ Top moments at CMA Awards : Vegas   unity and the monologue Yes   Garth Brooks won entertainer of the year and Chris Stapleton picked up two honors   including album of the year . But the moments that truly dominated the 2017 Country Music Association Awards had less to do with winning   and more about a community banding together to heal . Here ’ s a look at some of the top moments at the awards show   which aired live Wednesday night from the Bridgestone Arena in Nashville   Tennessee . ______ HONORING THE LAS VEGAS VICTIMS The Associated Press .</td>\n",
       "      <td>Trump   Xi present united front despite differences BEIJING —  President Donald Trump  sought to present a united front with Chinese President Xi Jinping following two days of meetings Thursday   despite lingering differences over trade and North Korea . On trade    Trump  criticized the “ very one - sided and unfair ” trade relationship between the U . S . and China but stopped short of castigating Xi by saying he doesn ’ t blame the country for having taken advantage of the U . S .  Trump  said China “ must immediately address the unfair trade practices that drive ” what  he  said is a “ shockingly ” large trade deficit   along with barriers to market access   forced technology transfers and intellectual property theft . “ But I don ’ t blame China  ”  he  said . “ After all   who can blame a country for being able to take advantage of another country for the benefit of its citizens ?” To applause    Trump  said : “ I give China great credit .”  His  Secretary of State Rex Tillerson offered a blunter assessment of China ’ s trade surplus with the United States   which in October widened by 12 . 2 percent from a year earlier   to $ 26 . 6 billion . The total surplus with the United States for the first 10 months of the year was $ 223 billion . ___  Trump  cooperates with Chinese effort to control image BEIJING — U . S .  President Donald Trump  was a cooperative partner for Beijing ’ s sweeping efforts to control the message of  his  heavily choreographed visit to China . Trump and  his  Chinese counterpart   Xi Jinping   took no questions at an event Thursday billed as a news briefing   a reduction of already minimal press interaction during previous visits by American leaders . During a 2014 visit by then President Barack Obama   Xi took a symbolic single question from a reporter for a Chinese state newspaper . He brushed off an American reporter ’ s question about whether Beijing might ease restrictions on journalist visas   saying vaguely that media outlets had to obey China ’ s laws . Trump   who has called the media the “ enemy of the American people  ” also took no questions during an event at which Chinese companies signed contracts to buy American jetliners   soybeans and other goods . Trump ’ s visit comes at a time when he faces uncomfortable questions at home about Russia and possible gun controls following deadly mass shootings . ___ North Korea   ever so cautiously   is going online PYONGYANG   North Korea — Ever so cautiously   North Korea is going online . Doctors can consult via live   online video conferencing   and lectures at prestigious Kim Il Sung University are streamed to faraway factories and agricultural communes . People use online dictionaries and text each other on their smart phones . In the wallets of the privileged are “ Jonsong ” or “ Narae ” cards for e - shopping and online banking . Cash registers at major department stores are plugged into the web . It ’ s just not the World Wide Web . This is all done on a tightly sealed intranet of the sort a medium - sized company might use for its employees . The free flow of information is anathema to authoritarian regimes   and with the possible exception of the African dictatorship of Eritrea   North Korea is still the least Internet - friendly country on Earth . Access to the global Internet for most is unimaginable . Hardly anyone has a personal computer or an email address that isn ’ t shared   and the price for trying to get around the government ’ s rules can be severe . But for Kim Jong Un   the country ’ s first leader to come of age with the Internet   the idea of a more wired North Korea is also attractive . It comes with the potential for great benefits to the nation from information technology — and for new forms of social and political control that promise to be more effective than anything his father and grandfather could have dreamed of . It also allows for the possibility of cyber - attacks on the West . ___ Pence   Abbott attend vigil for victims of church shooting SUTHERLAND SPRINGS   Texas — Vice President Mike Pence joined Texas Gov . Greg Abbott at a memorial service for the victims of Sunday ’ s massacre at a small - town Texas church . Pence told the crowd Wednesday evening that the shooting at the First Baptist Church of Sutherland Springs was the worst mass shooting at a church in American history and called the gunman “ deranged .” “ Whatever animated the evil that descended on that small church   of the attacker ’ s desire was to silence their testimony of faith   they failed  ” the vice president added . Abbott began the service by praying “ for healing and for help .” The governor said that Texans come together at times of crisis and tragedy . “ It ’ s what we do  ” Abbott said . People in the crowd responded “ amen .” ___ Las Vegas shooting victims still searching for their heroes LOS ANGELES — As soon as Chris Gilman knew she would survive the gunshot wound she sustained in the Las Vegas massacre   she wanted to find the two strangers who saved her life — a man and woman whose names she didn ’ t even know . She found a Facebook page called “ Find My LV Hero ” and posted a plea . “ Looking for husband and wife who were by the VIP bleachers and helped me get out  ” wrote Gilman   of Bonney Lake   Washington . “ My wife gave the husband her shirt and the wife held it against my side to stop bleeding as they carried me through the VIP area out to the street .” Despite the scant details in Gilman ’ s post   it worked . Three days later   Gilman connected with her rescuers   Alex and Wanda Valiente   off - duty Los Angeles County sheriff ’ s deputies who were at the Oct . 1 concert where a gunman opened fire from the 32nd floor of a hotel   killing 58 people and wounding hundreds . The connection is one of about 25 made so far through the Facebook page . Nearly six weeks after the massacre   Ashton Zyer ’ s social media creation continues to generate new searches for heroes who in some cases saved lives and in others simply provided what comfort they could . ___ IS militants evacuate last stronghold in Syria to government BEIRUT — A Syrian war monitor says Islamic State militants have withdrawn from their last stronghold following a government offensive . The Britain - based Syrian Observatory for Human Rights says government forces and allied troops   including Iraqi fighters   are combing Boukamal   a strategic town on the border with Iraq   on Thursday after IS militants withdrew . Syrian pro - government media say Syrian troops had clashed with remnants of IS militants in the town after they entered it late Wednesday . On Thursday   they declared the town totally free of the militants . The fall of Boukamal means remaining IS militants are currently holed up in small towns and villages along the border with Iraq and in the Syrian desert . ___ Democrats see wins as momentum for 2018 state elections Sweeping Democratic victories in Virginia and key gains in other 2017 state legislative races have lifted Democratic hopes of even bigger wins in next year ’ s midterm elections   as they seek a greater voice in how political districts will be redrawn for the decade to come . Democrats won the governors ’ offices in Virginia and New Jersey on Tuesday   erased a previously dominant Republican majority in the Virginia House of Delegates and won a special election that gave them control of the Washington state Senate . All told   Democrats flipped about two dozen state legislative seats around the country Tuesday and have now gained at least 30 seats previously held by Republicans since  President Donald Trump  won election last year   reversing several years of Republican momentum . “ In general   this is a rebuke of Republican governance of states  ” said Jessica Post   executive director of the Democratic Legislative Campaign Committee . She added : “ The other thing it said is we can win all across the country .” The fight for control of legislative chambers matters not only for policies on health care   taxes and education   but also because the legislature in most states determines how future congressional and state legislative districts are drawn . The next round of redistricting will take place after the 2020 Census   and both parties are focused on controlling as many states as possible by then . ___ Pomp and flattery : Asia rolls out the red carpets for Trump BEIJING — Honor guards marching in unison in colorful uniforms . Elaborate state dinners with celebrity guests . Gaggles of children   jumping and screaming along with endless praise . The first half of President Donald Trump ’ s whirlwind tour to Asia has been an exercise in the art of flattery   as world leaders woo the man who was introduced at the South Korean National Assembly as the “ leader of the world .” “ They are not ignorant that this is a president who is particularly responsive to flattery  ” said Lindsey Ford of the Asia Society Policy Institute in Washington   who said the Chinese   in particular   would “ absolutely go over the top ” trying to stroke the president ’ s ego . The pomp and pageantry began in Japan   where  Trump  was welcomed to the grand Akasaka Palace with a welcome ceremony that featured a maze of red carpets   an honor guard and marching band . Prime Minister Shinzo Abe   who has gone out of his way to strike up a personal friendship with  Trump    also treated the president to a round of golf at Japan ’ s premier course   complete with a champion golf partner and a taste of home : a hamburger lunch made with American beef . ___ Christopher Plummer to replace Kevin Spacey in Getty film LOS ANGELES — In a wholly unprecedented move   Kevin Spacey is being cut from Ridley Scott ’ s finished film “ All the Money in the World ” and replaced by Christopher Plummer just over one month before it ’ s supposed to hit theaters . People close to the production who were not authorized to speak publicly said Wednesday that Plummer is commencing reshoots immediately in the role of J . Paul Getty . All of Spacey ’ s scenes will be reshot   the people told The Associated Press . Co - stars Mark Wahlberg and Michelle Williams are expected to participate . Scott   who is known to be an efficient director   is intending to keep the film ’ s Dec . 22 release date . The director ’ s publicist Simon Halls confirmed the switch late Wednesday . The film was originally set to have its world premiere at the AFI Fest in Los Angeles on Nov . 16 but was pulled earlier this week amid the sexual harassment reports surrounding Spacey   who has also been fired from “ House of Cards ” and dropped by his talent agency and publicist . ___ Top moments at CMA Awards : Vegas   unity and the monologue Yes   Garth Brooks won entertainer of the year and Chris Stapleton picked up two honors   including album of the year . But the moments that truly dominated the 2017 Country Music Association Awards had less to do with winning   and more about a community banding together to heal . Here ’ s a look at some of the top moments at the awards show   which aired live Wednesday night from the Bridgestone Arena in Nashville   Tennessee . ______ HONORING THE LAS VEGAS VICTIMS The Associated Press .</td>\n",
       "    </tr>\n",
       "    <tr>\n",
       "      <th>3</th>\n",
       "      <td>The Latest on President Donald Trump in Florida ( all times local ): 9 : 35 p . m .  President Donald Trump  says  he  believes special counsel Robert Mueller \" will be fair \" to him   because \" everybody knows that there was no collusion \" between  Trump  ' s presidential campaign and Russia . Mueller is leading the federal investigation into Russian interference in the 2016 election . Trump tells The New York Times in an interview posted Thursday night that Mueller ' s probe — as well as two congressional investigations into the matter — have \" angered \" his base and \" made the base stronger .\" He says some lawmakers \" have been unbelievable in pointing out what a witch hunt the whole thing is .\" And  the president  repeats his assertion that Democrats \" made the Russian story up as a hoax   as a ruse   as an excuse for losing an election that in theory Democrats should always win .\" —— 7 : 20 p . m .  President Donald Trump  says the East Coast \" could use a little bit of that good old Global Warming \" as bitter cold temperatures are expected to freeze large swaths of the country this holiday weekend .  Trump  tweets   \" In the East   it could be the COLDEST New Year ' s Eve on record .\"  He  adds that : \" Perhaps we could use a little bit of that good old Global Warming that our Country   but not other countries   was going to pay TRILLIONS OF DOLLARS to protect against .  Trump  has repeatedly expressed skepticism about climate change science   calling global warming a \" hoax \" created by the Chinese to damage American industry .  He  announced earlier this year  his  intention to pull out of the landmark Paris climate agreement aimed at curbing greenhouse gas production . ——— 7 p . m .  President Donald Trump  is dining Thursday night at  his  private Mar - a - Lago club with Commerce Secretary Wilbur Ross . Deputy press secretary Hogan Gidley says the two men will discuss trade   job creation and \" America ' s record - setting booming economy .\"  Trump  has taken to Twitter this week to boast about improvements in the U . S . economy .  He  tweeted Thursday   \" We ' ve got the economy going better than anyone ever dreamt - and you haven ' t seen anything yet !\" On Tuesday    Trump  vowed that the tax cut legislation  he  signed last week will lead to \" a great year for Companies and JOBS !\" —— 3 a . m .  President Donald Trump  is planning to get a head start on the 2018 legislative agenda by meeting early in the new year with Capitol Hill ' s top Republicans . The White House says  Trump  will host Senate Majority Leader Mitch McConnell and House Speaker Paul Ryan at the Camp David presidential retreat during the weekend of Jan . 6 . Spokesmen for Ryan and McConnell have confirmed they will attend . The pow - wow will follow the recent enactment of legislation to cut taxes   beginning next year   for corporations and individuals at an estimated cost of $ 1 . 5 trillion added to the national debt over 10 years .</td>\n",
       "      <td>The Latest on President Donald Trump in Florida ( all times local ): 9 : 35 p . m .  President Donald Trump  says  he  believes special counsel Robert Mueller \" will be fair \" to him   because \" everybody knows that there was no collusion \" between  Trump  ' s presidential campaign and Russia . Mueller is leading the federal investigation into Russian interference in the 2016 election . Trump tells The New York Times in an interview posted Thursday night that Mueller ' s probe — as well as two congressional investigations into the matter — have \" angered \" his base and \" made the base stronger .\" He says some lawmakers \" have been unbelievable in pointing out what a witch hunt the whole thing is .\" And  the president  repeats his assertion that Democrats \" made the Russian story up as a hoax   as a ruse   as an excuse for losing an election that in theory Democrats should always win .\" —— 7 : 20 p . m .  President Donald Trump  says the East Coast \" could use a little bit of that good old Global Warming \" as bitter cold temperatures are expected to freeze large swaths of the country this holiday weekend .  Trump  tweets   \" In the East   it could be the COLDEST New Year ' s Eve on record .\"  He  adds that : \" Perhaps we could use a little bit of that good old Global Warming that our Country   but not other countries   was going to pay TRILLIONS OF DOLLARS to protect against .  Trump  has repeatedly expressed skepticism about climate change science   calling global warming a \" hoax \" created by the Chinese to damage American industry .  He  announced earlier this year  his  intention to pull out of the landmark Paris climate agreement aimed at curbing greenhouse gas production . ——— 7 p . m .  President Donald Trump  is dining Thursday night at  his  private Mar - a - Lago club with Commerce Secretary Wilbur Ross . Deputy press secretary Hogan Gidley says the two men will discuss trade   job creation and \" America ' s record - setting booming economy .\"  Trump  has taken to Twitter this week to boast about improvements in the U . S . economy .  He  tweeted Thursday   \" We ' ve got the economy going better than anyone ever dreamt - and you haven ' t seen anything yet !\" On Tuesday    Trump  vowed that the tax cut legislation  he  signed last week will lead to \" a great year for Companies and JOBS !\" —— 3 a . m .  President Donald Trump  is planning to get a head start on the 2018 legislative agenda by meeting early in the new year with Capitol Hill ' s top Republicans . The White House says  Trump  will host Senate Majority Leader Mitch McConnell and House Speaker Paul Ryan at the Camp David presidential retreat during the weekend of Jan . 6 . Spokesmen for Ryan and McConnell have confirmed they will attend . The pow - wow will follow the recent enactment of legislation to cut taxes   beginning next year   for corporations and individuals at an estimated cost of $ 1 . 5 trillion added to the national debt over 10 years .</td>\n",
       "    </tr>\n",
       "    <tr>\n",
       "      <th>4</th>\n",
       "      <td>“ I ’ m thrilled with the progress that President Trump has made in defeating ISIS   cutting taxes for middle - class families and making court appointments  ” Emily Robertson from Austin   Texas   wrote in her letter . “ Thanks to the tax cuts   my husband and I stand to keep a much larger portion of our paychecks .” Not many of Trump ’ s supporters seem to approve of his aggressive   bully - like demeanor   though . I voted against Hillary Clinton more than I voted for  Donald Trump  . That said    President Trump  has exceeded my wildest expectations . Quite a few of the letters admit that  the president  ’ s speeches and tweets are a problem   with one writer calling  him  a “ crude   rude   clueless dude .” Yet there seems to be a consensus among  Trump  supporters that the last year was defined by more than just social media . “ If it takes putting up with Mr . Trump ’ s brash ways to see things get done   that is a deal I ’ m willing to accept  ” Jason Peck of Holtsville   New York   wrote in his letter . “ To be honest   I ’ m not sure he would have accomplished what he has so far without being an unrelenting public bully .” The Times has made an effort in the last year to shed its reputation   deserved or not   for liberal elitism . Giving more voice to  Trump  fans is only the latest effort to restructure  its  opinion page . Bret Stephens   a conservative columnist   was brought aboard even though he has controversial opinions on issues such as climate change and the Middle East .</td>\n",
       "      <td>“ I ’ m thrilled with the progress that President Trump has made in defeating ISIS   cutting taxes for middle - class families and making court appointments  ” Emily Robertson from Austin   Texas   wrote in her letter . “ Thanks to the tax cuts   my husband and I stand to keep a much larger portion of our paychecks .” Not many of Trump ’ s supporters seem to approve of his aggressive   bully - like demeanor   though . I voted against Hillary Clinton more than I voted for  Donald Trump  . That said    President Trump  has exceeded my wildest expectations . Quite a few of the letters admit that  the president  ’ s speeches and tweets are a problem   with one writer calling  him  a “ crude   rude   clueless dude .” Yet there seems to be a consensus among  Trump  supporters that the last year was defined by more than just social media . “ If it takes putting up with Mr . Trump ’ s brash ways to see things get done   that is a deal I ’ m willing to accept  ” Jason Peck of Holtsville   New York   wrote in his letter . “ To be honest   I ’ m not sure he would have accomplished what he has so far without being an unrelenting public bully .” The Times has made an effort in the last year to shed its reputation   deserved or not   for liberal elitism . Giving more voice to  Trump  fans is only the latest effort to restructure  its  opinion page . Bret Stephens   a conservative columnist   was brought aboard even though he has controversial opinions on issues such as climate change and the Middle East .</td>\n",
       "    </tr>\n",
       "    <tr>\n",
       "      <th>5</th>\n",
       "      <td><font color = red>Republicans</font> in Congress are nowhere near <font color = red>coming</font> together around any <font color = red>plan</font> to address gun violence   nearly two weeks after a school shooting in Florida left 17 dead   and despite President Donald Trump ’ s promises to take action . Returning to Washington <font color = red>Monday</font> after a <font color = red>week</font> on recess   <font color = red>Republicans</font> were <font color = red>divided</font> on a slew of proposals the president has raised   and some questioned whether any <font color = red>reforms</font> are <font color = red>needed</font> at all . “ I don ’ t <font color = red>think</font> we need more gun control  ” Louisiana Sen . <font color = red>John</font> Kennedy told reporters Monday . “ I think we <font color = red>need</font> better idiot control .” Trump   who has been talking to <font color = red>congressional</font> Republicans and lobbyists from the <font color = red>National</font> <font color = red>Rifle</font> Association in <font color = red>recent</font> <font color = red>days</font>   has <font color = red>proposed</font> a <font color = red>broad</font> range of ideas during listening <font color = red>sessions</font> and in tweets   <font color = red>including</font> <font color = red>increasing</font> the <font color = red>age</font> <font color = red>requirement</font> for <font color = red>purchasing</font> <font color = red>certain</font> <font color = red>types</font> of <font color = red>guns</font>   <font color = red>arming</font> some teachers   <font color = red>making</font> <font color = red>changes</font> to the background check system   reopening mental institutions   and banning bump stocks through the Department of <font color = red>Justice</font> . The <font color = red>White</font> <font color = red>House</font> is <font color = red>scheduled</font> to <font color = red>host</font> a bipartisan <font color = red>group</font> of <font color = red>lawmakers</font> Wednesday to <font color = red>come</font> up with a path <font color = red>forward</font> on some of those <font color = red>ideas</font> . “ <font color = red>We</font> continue to <font color = red>mourn</font> the <font color = red>loss</font> of <font color = red>so</font> many precious <font color = red>young</font> <font color = red>lives</font>  ” Trump said <font color = red>Monday</font> . “ These are incredible people . I visited with a <font color = red>lot</font> of them . But we ’ ll turn our grief into <font color = red>action</font> .” While the media campaign from the young survivors of the Parkland shooting has kept up the pressure on lawmakers to act   many Republicans are still reluctant to push significant changes to gun policy and challenge the NRA   which has five million members — the majority of whom <font color = red>live</font> in conservative districts . In a <font color = red>room</font> with <font color = red>several</font> <font color = red>Republican</font> governors    Trump  said <font color = red>Monday</font> not to <font color = red>worry</font> about the <font color = red>influential</font> <font color = red>group</font> . \" You guys — half of you are so afraid of the NRA  ”  he  said . “ There ' s nothing to be afraid of . And you know what   if they ' re not with you   we have to fight them every once in a while . That ' s OK .\" Despite Trump ’ s lobbying and <font color = red>focus</font>   several Republicans who are strong advocates of the Second Amendment aren ’ t convinced gun control measures will curb mass shootings . Some <font color = red>Republicans</font>   like <font color = red>Arizona</font> <font color = red>Sen</font> . Jeff Flake   who is not running for reelection   are more open to gun control reforms   including raising the age for purchasing some types of guns to 21 . “ <font color = red>This</font> shooting was <font color = red>different</font>  ” Flake told reporters   arguing that it would be hard for Republicans to not bring legislation up for a vote . “ It was amazing to me how quickly it died down after Las Vegas   but this one   with high school kids who have been very articulate in their   you know   in their explanation of what ' s needed and social media and everything else . We seem to have crossed the Rubicon here .\" Florida Rep . Mario Díaz - Balart also took a more open position . “ I ' m willing to look at anything to keep the American people safe   but I also need to make sure that we protect individual liberties  \" he told reporters Monday . Rep . Mark Meadows   chair of the conservative House Freedom Caucus   said his group plans to discuss various gun control measures   but some   such as raising the legal age of purchasing some firearms   will not be supported by the majority of the Republican party . Another measure being discussed is the so - called Fix NICS bill   which would strengthen the National Instant Criminal Background Check System . That measure was passed by the House in December   but only after being tied to rules that would allow anyone with a concealed - carry permit to carry concealed weapons across state lines . That made the bill a nonstarter in the Senate . Meadows said at the time Speaker Paul Ryan told the Freedom Caucus there would be no other votes on Fix NICS . Now it is being floated again   but Meadows says the Freedom Caucus has objections over due process fears . Meadows said the legislation as written would allow for guns to be taken away from people who do not have proper channels to defend their mental state . The  Trump  administration   for all of the president ’ s calls to action   has not moved to rally Republicans around any specific proposals   and is yet to provide any language on exactly what they would like Congress to support .  Trump  has said several times  he  ’ d like to strengthen background checks   but the president and  his  aides have declined to say if they support universal background checks   which failed to garner enough votes in Congress in the wake of the 2012 Sandy Hook school shooting . And on raising the age requirements   a measure that the NRA does not support   White House press secretary Sarah Huckabee Sanders said Monday   “ it would be premature for us to weigh in . But   as I said   the president is still supportive of the concept .” Reluctant Republicans could be more willing to get behind the president once he officially backs specific proposals   said South Carolina Sen . Lindsey Graham . “ Anything the president gets behind   because he ' s a Republican president   is a game changer  ” Graham told reporters Monday . “ So if he wants to raise the age to 21   I ' m not so sure that ' s a good idea   but if he got behind it   then you ' re in the ball game .\" Without backing from Republicans in Congress   there is little that the administration can do to curb gun violence . Even on banning bump stocks — the one measure that the president has said he can do through the Department of Justice — it ’ s unclear if the department will have the authority to enforce such a ban   and there are already concerns about the legal battles it could lead to . And Trump ’ s oft mentioned idea to arm thousands of teachers or train them to conceal and carry has proven to be divisive   even among congressional Republicans . \" I think arming educators is a really bad idea  \" Maine GOP Sen . Susan Collins told reporters Monday . Because they ' re trained to teach   not to be security guards . They already have a lot on their plate   and I think it ' s a terrible idea .\" Montana Sen . Steve Daines   meanwhile   said he does support arming schools   and opposes most of the other policies his colleagues or the president have raised . He dismissed proposals such as raising the legal age limit to buy certain types of weapons as “ feel - good measures that are not going to solve the problem .” He pointed to the US Capitol as a potential model for school safety . “ Why have we not seen an active shooting in the Capitol ? You know why   because we have armed guards out front  ” Daines said . Meadows also said he is open to the idea of protecting schools by arming some teachers . “ It happens in other areas . Churches generally have concealed - carry security guards each and every Sunday . Certainly in Israel the synagogues do  ” he said . Several other Republicans simply avoided taking hard stances on any of the president ’ s ideas on gun control . Louisiana Sen . Bill Cassidy said he is “ willing to consider ” the proposal to arm teachers in schools   and Alabama Sen . Richard Shelby urged caution on that particular idea   but he did not come out against it . A Parkland student and one of the young organizers of the # NeverAgain movement for gun control that has come out of the shooting met with Democrats Monday   and tweeted that the “ uproar ” over guns is now “ undeniable .”</td>\n",
       "      <td><font color = blue>Reelected</font> in Congress are nowhere near <font color = blue>futures</font> together around any <font color = blue>curriculum</font> to address gun violence   nearly two weeks after a school shooting in Florida left 17 dead   and despite President Donald Trump ’ s promises to take action . Returning to Washington <font color = blue>Mondays</font> after a <font color = blue>month</font> on recess   <font color = blue>Conservatives</font> were <font color = blue>spaced</font> on a slew of proposals the president has raised   and some questioned whether any <font color = blue>reforming</font> are <font color = blue>need</font> at all . “ I don ’ t <font color = blue>ideas</font> we need more gun control  ” Louisiana Sen . <font color = blue>Joanne</font> Kennedy told reporters Monday . “ I think we <font color = blue>would</font> better idiot control .” Trump   who has been talking to <font color = blue>parliamentary</font> Republicans and lobbyists from the <font color = blue>Nationalist</font> <font color = blue>Handgun</font> Association in <font color = blue>upgraded</font> <font color = blue>times</font>   has <font color = blue>suggests</font> a <font color = blue>broader</font> range of ideas during listening <font color = blue>courses</font> and in tweets   <font color = blue>consists</font> <font color = blue>grew</font> the <font color = blue>aging</font> <font color = blue>demand</font> for <font color = blue>purchases</font> <font color = blue>several</font> <font color = blue>modelling</font> of <font color = blue>armed</font>   <font color = blue>armaments</font> some teachers   <font color = blue>producing</font> <font color = blue>revision</font> to the background check system   reopening mental institutions   and banning bump stocks through the Department of <font color = blue>Equality</font> . The <font color = blue>Blank</font> <font color = blue>Residence</font> is <font color = blue>program</font> to <font color = blue>reception</font> a bipartisan <font color = blue>bundle</font> of <font color = blue>commissars</font> Wednesday to <font color = blue>upcoming</font> up with a path <font color = blue>transmitting</font> on some of those <font color = blue>notions</font> . “ <font color = blue>Our</font> continue to <font color = blue>weep</font> the <font color = blue>vanishing</font> of <font color = blue>why</font> many precious <font color = blue>youthful</font> <font color = blue>livelihood</font>  ” Trump said <font color = blue>Thursdays</font> . “ These are incredible people . I visited with a <font color = blue>lots</font> of them . But we ’ ll turn our grief into <font color = blue>pursuits</font> .” While the media campaign from the young survivors of the Parkland shooting has kept up the pressure on lawmakers to act   many Republicans are still reluctant to push significant changes to gun policy and challenge the NRA   which has five million members — the majority of whom <font color = blue>livelihood</font> in conservative districts . In a <font color = blue>housing</font> with <font color = blue>differentiated</font> <font color = blue>Senators</font> governors    Trump  said <font color = blue>Yesterday</font> not to <font color = blue>fearing</font> about the <font color = blue>powerful</font> <font color = blue>teaming</font> . \" You guys — half of you are so afraid of the NRA  ”  he  said . “ There ' s nothing to be afraid of . And you know what   if they ' re not with you   we have to fight them every once in a while . That ' s OK .\" Despite Trump ’ s lobbying and <font color = blue>centre</font>   several Republicans who are strong advocates of the Second Amendment aren ’ t convinced gun control measures will curb mass shootings . Some <font color = blue>Mccain</font>   like <font color = blue>Glendale</font> <font color = blue>Enact</font> . Jeff Flake   who is not running for reelection   are more open to gun control reforms   including raising the age for purchasing some types of guns to 21 . “ <font color = blue>These</font> shooting was <font color = blue>variable</font>  ” Flake told reporters   arguing that it would be hard for Republicans to not bring legislation up for a vote . “ It was amazing to me how quickly it died down after Las Vegas   but this one   with high school kids who have been very articulate in their   you know   in their explanation of what ' s needed and social media and everything else . We seem to have crossed the Rubicon here .\" Florida Rep . Mario Díaz - Balart also took a more open position . “ I ' m willing to look at anything to keep the American people safe   but I also need to make sure that we protect individual liberties  \" he told reporters Monday . Rep . Mark Meadows   chair of the conservative House Freedom Caucus   said his group plans to discuss various gun control measures   but some   such as raising the legal age of purchasing some firearms   will not be supported by the majority of the Republican party . Another measure being discussed is the so - called Fix NICS bill   which would strengthen the National Instant Criminal Background Check System . That measure was passed by the House in December   but only after being tied to rules that would allow anyone with a concealed - carry permit to carry concealed weapons across state lines . That made the bill a nonstarter in the Senate . Meadows said at the time Speaker Paul Ryan told the Freedom Caucus there would be no other votes on Fix NICS . Now it is being floated again   but Meadows says the Freedom Caucus has objections over due process fears . Meadows said the legislation as written would allow for guns to be taken away from people who do not have proper channels to defend their mental state . The  Trump  administration   for all of the president ’ s calls to action   has not moved to rally Republicans around any specific proposals   and is yet to provide any language on exactly what they would like Congress to support .  Trump  has said several times  he  ’ d like to strengthen background checks   but the president and  his  aides have declined to say if they support universal background checks   which failed to garner enough votes in Congress in the wake of the 2012 Sandy Hook school shooting . And on raising the age requirements   a measure that the NRA does not support   White House press secretary Sarah Huckabee Sanders said Monday   “ it would be premature for us to weigh in . But   as I said   the president is still supportive of the concept .” Reluctant Republicans could be more willing to get behind the president once he officially backs specific proposals   said South Carolina Sen . Lindsey Graham . “ Anything the president gets behind   because he ' s a Republican president   is a game changer  ” Graham told reporters Monday . “ So if he wants to raise the age to 21   I ' m not so sure that ' s a good idea   but if he got behind it   then you ' re in the ball game .\" Without backing from Republicans in Congress   there is little that the administration can do to curb gun violence . Even on banning bump stocks — the one measure that the president has said he can do through the Department of Justice — it ’ s unclear if the department will have the authority to enforce such a ban   and there are already concerns about the legal battles it could lead to . And Trump ’ s oft mentioned idea to arm thousands of teachers or train them to conceal and carry has proven to be divisive   even among congressional Republicans . \" I think arming educators is a really bad idea  \" Maine GOP Sen . Susan Collins told reporters Monday . Because they ' re trained to teach   not to be security guards . They already have a lot on their plate   and I think it ' s a terrible idea .\" Montana Sen . Steve Daines   meanwhile   said he does support arming schools   and opposes most of the other policies his colleagues or the president have raised . He dismissed proposals such as raising the legal age limit to buy certain types of weapons as “ feel - good measures that are not going to solve the problem .” He pointed to the US Capitol as a potential model for school safety . “ Why have we not seen an active shooting in the Capitol ? You know why   because we have armed guards out front  ” Daines said . Meadows also said he is open to the idea of protecting schools by arming some teachers . “ It happens in other areas . Churches generally have concealed - carry security guards each and every Sunday . Certainly in Israel the synagogues do  ” he said . Several other Republicans simply avoided taking hard stances on any of the president ’ s ideas on gun control . Louisiana Sen . Bill Cassidy said he is “ willing to consider ” the proposal to arm teachers in schools   and Alabama Sen . Richard Shelby urged caution on that particular idea   but he did not come out against it . A Parkland student and one of the young organizers of the # NeverAgain movement for gun control that has come out of the shooting met with Democrats Monday   and tweeted that the “ uproar ” over guns is now “ undeniable .”</td>\n",
       "    </tr>\n",
       "    <tr>\n",
       "      <th>6</th>\n",
       "      <td>The U . S . Senate on Wednesday took a step toward passage of tax legislation that is a top White House priority   setting up a likely decisive vote later this week even though it was unclear if the bill has enough Republican support to become law . Congressional Republicans spent the day scrambling to reformulate their tax bill to satisfy lawmakers worried about how much it would balloon the U . S . budget deficit . On a Christmas themed stage   U . S . President Donald Trump speaks about tax reform legislation in St . Louis   Missouri   U . S . November 29   2017 . REUTERS / Kevin Lamarque Stocks rallied on optimism the tax overhaul package could pass   but obstacles remained   including attempts to address the estimated $ 1 . 4 trillion that the bill would add to the United States ’ $ 20 trillion national debt over 10 years . Lawmakers voted by a 52 - 48 margin to begin formal debate   a step that could lead on Thursday and Friday to a decisive vote on the bill   which aims to cut taxes on corporations   other businesses and a wide range of individuals and families . Republicans have a 52 - 48 majority in the 100 - member Senate   giving them enough votes to approve the bill if they can hold together . Without Democratic support   Republicans can afford to lose no more than two of their own votes . U . S . President Donald Trump speaks about tax reform legislation during a visit to St . Louis   Missouri   U . S . November 29   2017 . REUTERS /  Kevin Lamarque President Donald Trump in a speech in Missouri on Wednesday    implored members of  his  own party to get behind the effort   which would be  his  first significant legislative achievement since taking office in January . “ A vote to cut taxes is a vote to put America first again  ” Trump said   adding the bill could “ cost me a fortune ” and that his wealthy friends were not happy . “ My accountants are going crazy right now . It ’ s all right . Hey look   I am president   I don ’ t care . I don ’ t care anymore .” Slideshow ( 3 Images ) Democrats say the tax cuts are a giveaway to corporations and the wealthy at the expense of working Americans . Some Democrats have said  Trump  and  his  children would gain from the bill   which would repeal the estate tax on inherited wealth . Among Americans aware of the Republican tax plan   49 percent said they were opposed   up from 41 percent in October   according to a Nov . 23 - 27 Reuters / Ipsos poll released on Wednesday . The latest online poll of 1   257 adults found 29 percent supporting the plan and 22 percent saying they “ don ’ t know .” The sweeping tax package was developed over several months behind closed doors by a small group of senior congressional and Trump administration figures   with little input from many Republican lawmakers and no involvement from Democrats .</td>\n",
       "      <td>The U . S . Senate on Wednesday took a step toward passage of tax legislation that is a top White House priority   setting up a likely decisive vote later this week even though it was unclear if the bill has enough Republican support to become law . Congressional Republicans spent the day scrambling to reformulate their tax bill to satisfy lawmakers worried about how much it would balloon the U . S . budget deficit . On a Christmas themed stage   U . S . President Donald Trump speaks about tax reform legislation in St . Louis   Missouri   U . S . November 29   2017 . REUTERS / Kevin Lamarque Stocks rallied on optimism the tax overhaul package could pass   but obstacles remained   including attempts to address the estimated $ 1 . 4 trillion that the bill would add to the United States ’ $ 20 trillion national debt over 10 years . Lawmakers voted by a 52 - 48 margin to begin formal debate   a step that could lead on Thursday and Friday to a decisive vote on the bill   which aims to cut taxes on corporations   other businesses and a wide range of individuals and families . Republicans have a 52 - 48 majority in the 100 - member Senate   giving them enough votes to approve the bill if they can hold together . Without Democratic support   Republicans can afford to lose no more than two of their own votes . U . S . President Donald Trump speaks about tax reform legislation during a visit to St . Louis   Missouri   U . S . November 29   2017 . REUTERS /  Kevin Lamarque President Donald Trump in a speech in Missouri on Wednesday    implored members of  his  own party to get behind the effort   which would be  his  first significant legislative achievement since taking office in January . “ A vote to cut taxes is a vote to put America first again  ” Trump said   adding the bill could “ cost me a fortune ” and that his wealthy friends were not happy . “ My accountants are going crazy right now . It ’ s all right . Hey look   I am president   I don ’ t care . I don ’ t care anymore .” Slideshow ( 3 Images ) Democrats say the tax cuts are a giveaway to corporations and the wealthy at the expense of working Americans . Some Democrats have said  Trump  and  his  children would gain from the bill   which would repeal the estate tax on inherited wealth . Among Americans aware of the Republican tax plan   49 percent said they were opposed   up from 41 percent in October   according to a Nov . 23 - 27 Reuters / Ipsos poll released on Wednesday . The latest online poll of 1   257 adults found 29 percent supporting the plan and 22 percent saying they “ don ’ t know .” The sweeping tax package was developed over several months behind closed doors by a small group of senior congressional and Trump administration figures   with little input from many Republican lawmakers and no involvement from Democrats .</td>\n",
       "    </tr>\n",
       "    <tr>\n",
       "      <th>7</th>\n",
       "      <td>When it comes to  the Russia scandal   Donald Trump and his team  have adopted a series of evolving postures . Remember when  they  used to argue – with a straight face – that literally no one from Trump ’ s operation was in communications with Russians during the foreign attack on the American elections ? As it turns out   Trump World doesn ’ t say this anymore . But there ’ s one aspect of the scandal on which the president has been remarkably consistent :  Trump  has rejected the idea that Russia stole Democratic materials in the first place . Indeed   since the moment U . S . intelligence officials briefed the then - Republican candidate on this in 2016    Trump  rejected the claim as folly   going to far as to repeatedly mock American intelligence agencies . No matter how painfully obvious the facts were to everyone on the planet    Trump  refused to accept the most basic detail of the entire controversy . According to Sen . Lindsey Graham ( R - S . C .)  however   all of that has changed . Here ’ s the exchange  he  had yesterday with NBC News ’ Chuck Todd on “ Meet the Press .” GRAHAM : Well   the president does now finally believe that the Russians stole the emails from the DNC and hacked   and Clinton   and the Russians …. The president does believe his intel agencies . Now   it ’ s quite likely that  Trump  and Graham   who appear to now be rather close allies   have had private conversations in which the president has said things to the senator that he hasn ’ t shared with the public . But if  Trump  told Graham he now believes Russians stole Democratic documents   it would represent a dramatic change of heart . As recently as mid - November – not quite two months ago –  Trump  told reporters that Vladimir Putin personally assured  him  that Russia didn ’ t meddle in the American election . “ Every time  he  sees me  he  says   ‘ I didn ’ t do that  ’ and I really believe that when  he  tells me that    he  means it  ” the American president said in reference to his Russian counterpart . It was part of a lengthy pattern in which Trump refused to accept U . S . intelligence agencies ’ findings . “ Nobody really knows for sure ” whether Russia intervened in the American elections   the president said in July – after intelligence professionals told him they do know for sure . But according to Lindsey Graham   sometime between mid - November and early - January   Trump changed his mind   and if the senator is right   the shift is a pretty important development . Indeed   Graham ’ s assertion raises some key follow - up questions for the White House : 1 . Can anyone from Trump World confirm whether Graham is correct ? If so   what finally convinced  Trump  to change his mind ? If  Trump  now believes Putin ’ s government stole American materials in order to influence the outcome of American elections   what does the president intend to do to punish our foreign attackers ? If  Trump  now accepts the intelligence community ’ s findings   does he have any regrets about insulting intelligence agencies for so long ? Should they expect a presidential apology ? Or is it possible Lindsey Graham is carrying water for his new pal   who ’ ll soon make the senator appear foolish by saying the opposite of what the senator claimed yesterday ?</td>\n",
       "      <td>When it comes to  the Russia scandal   Donald Trump and his team  have adopted a series of evolving postures . Remember when  they  used to argue – with a straight face – that literally no one from Trump ’ s operation was in communications with Russians during the foreign attack on the American elections ? As it turns out   Trump World doesn ’ t say this anymore . But there ’ s one aspect of the scandal on which the president has been remarkably consistent :  Trump  has rejected the idea that Russia stole Democratic materials in the first place . Indeed   since the moment U . S . intelligence officials briefed the then - Republican candidate on this in 2016    Trump  rejected the claim as folly   going to far as to repeatedly mock American intelligence agencies . No matter how painfully obvious the facts were to everyone on the planet    Trump  refused to accept the most basic detail of the entire controversy . According to Sen . Lindsey Graham ( R - S . C .)  however   all of that has changed . Here ’ s the exchange  he  had yesterday with NBC News ’ Chuck Todd on “ Meet the Press .” GRAHAM : Well   the president does now finally believe that the Russians stole the emails from the DNC and hacked   and Clinton   and the Russians …. The president does believe his intel agencies . Now   it ’ s quite likely that  Trump  and Graham   who appear to now be rather close allies   have had private conversations in which the president has said things to the senator that he hasn ’ t shared with the public . But if  Trump  told Graham he now believes Russians stole Democratic documents   it would represent a dramatic change of heart . As recently as mid - November – not quite two months ago –  Trump  told reporters that Vladimir Putin personally assured  him  that Russia didn ’ t meddle in the American election . “ Every time  he  sees me  he  says   ‘ I didn ’ t do that  ’ and I really believe that when  he  tells me that    he  means it  ” the American president said in reference to his Russian counterpart . It was part of a lengthy pattern in which Trump refused to accept U . S . intelligence agencies ’ findings . “ Nobody really knows for sure ” whether Russia intervened in the American elections   the president said in July – after intelligence professionals told him they do know for sure . But according to Lindsey Graham   sometime between mid - November and early - January   Trump changed his mind   and if the senator is right   the shift is a pretty important development . Indeed   Graham ’ s assertion raises some key follow - up questions for the White House : 1 . Can anyone from Trump World confirm whether Graham is correct ? If so   what finally convinced  Trump  to change his mind ? If  Trump  now believes Putin ’ s government stole American materials in order to influence the outcome of American elections   what does the president intend to do to punish our foreign attackers ? If  Trump  now accepts the intelligence community ’ s findings   does he have any regrets about insulting intelligence agencies for so long ? Should they expect a presidential apology ? Or is it possible Lindsey Graham is carrying water for his new pal   who ’ ll soon make the senator appear foolish by saying the opposite of what the senator claimed yesterday ?</td>\n",
       "    </tr>\n",
       "    <tr>\n",
       "      <th>8</th>\n",
       "      <td>truth society .” Inconvenient truths are now <font color = red>readily</font> labeled “ fake news  ” even when put out by “ papers of record ” like the New York Times or “ broadcasters of record ” like CNN . This is particularly <font color = red>convenient</font>   of course   for those who have reason to fear truth . And hence those who have “ something to hide ” might have something to do with the spread of the “ post - truth ” phenomenon . Many who lament the “ post - truth society ” attempt to date its advent or to identify its sources with that last observation in mind – the observation that truth - fearers are apt to be “ post - truth ”- lovers . One <font color = red>oft</font> - accused culprit   where sourcing ’ s concerned   is accordingly the class of people who misuse social media in pursuit of “ agendas .” Such purveyors of “ alternative facts ” are widely seen to undermine our relation to reality itself . This in turn fosters a dysfunctional version of what legal philosopher Brian Leiter has in another context labeled the “ hermeneutic of suspicion ” – a sort of news - readers ’ and - watchers ’ rendition of what once was called “ the paranoid style ” in American politics . Where dating the post - truth society ’ s advent is concerned   there are multiple milestone candidates on offer . Some will say it all started with the ravings of hate radio DJs like Rush Limbaugh or Alex Jones   or of hate television hosts like Glenn Beck or Sean Hannity . Others will point to “ conspiracy theorist ” film - makers like Michael Moore or Oliver Stone   or to “ false equivalence ” claimants like tobacco manufacturers and fossil fuel companies eager to have us all thinking “ the evidence cuts both ways ” on cigarettes ’ associations with lung cancer or carbon ’ s association with climate change . Somewhat ironically   given the “ many sides of the story ” meme just alluded to   there is much to recommend most of the milestones and source - candidates just mentioned as having helped bring - in the era of “ post - truth .” I ’ d like to suggest   however   that the “ post - truth society ” has more saliently developed in lock - step with the political career of one man   and that it ’ s no accident that both have reached final fruition at the same “ moment ” in American political history . I refer   of course   to Donald Trump – a man whose relation to financial truth should draw our attention at least as readily as do his relations to legal and political truth . That  Donald Trump  might be more show than substance has been widely observed since well before  he  entered the 2016 Presidential race . And this distinction of course maps onto that between fake news and real news   appearance and reality – or truth . For reasons of this sort even I have suggested that Mr .  Trump  is a bit like an opiate   and might for this reason be labeled “ The Opioid President .” But while I continue to think this all sound as a matter of general characterization   I want here to draw attention to something much more specific – something   again   having to do with finance   not to mention our national economy . As most readers will recall   when Barack Obama was President many who disagreed with his politics sought to undermine his legal legitimacy by suggesting that he ’ d not been born in the U . S . “ Show us your birth certificate  ” these so - called “ Birthers ” demanded   and continued to demand even long after the then - President had – far too graciously – done so . Among these “ Birthers  ” of course   was Donald Trump   whose entry into the Presidential sweepstakes arguably commenced with his “ going public ” as a “ Birther .” Now   perhaps partly as “ payback ” for that sorry episode   many  Trump  detractors last month began calling themselves “ Girthers .” This they did in response to non - credible doctor reports to the effect that Mr .  Trump  weighed nearly the same as do many currently active professional sports figures of roughly the same height as  Trump  . Juxtaposed photographs of Mr .  Trump  and sundry star athletes   typically accompanied by stats and such captions as “ something doesn ’ t add up ” became something of a “ meme ” for a while on social media . I want to suggest that   how ever more plausible the skepticism of the “ Girthers ” is than was that of the “ Birthers  ” there is something far more important to be skeptical about – something that lends greater significance both to Mr . Trump ’ s still - undisclosed tax returns and to the ongoing Mueller investigation than seems to be thus far appreciated . Rather than “ Birthers ” or even “ Girthers  ” I wish to argue   we should all now be “ Worthers .”</td>\n",
       "      <td>truth society .” Inconvenient truths are now <font color = green>instantly</font> labeled “ fake news  ” even when put out by “ papers of record ” like the New York Times or “ broadcasters of record ” like CNN . This is particularly <font color = green>expediency</font>   of course   for those who have reason to fear truth . And hence those who have “ something to hide ” might have something to do with the spread of the “ post - truth ” phenomenon . Many who lament the “ post - truth society ” attempt to date its advent or to identify its sources with that last observation in mind – the observation that truth - fearers are apt to be “ post - truth ”- lovers . One <font color = green>wird</font> - accused culprit   where sourcing ’ s concerned   is accordingly the class of people who misuse social media in pursuit of “ agendas .” Such purveyors of “ alternative facts ” are widely seen to undermine our relation to reality itself . This in turn fosters a dysfunctional version of what legal philosopher Brian Leiter has in another context labeled the “ hermeneutic of suspicion ” – a sort of news - readers ’ and - watchers ’ rendition of what once was called “ the paranoid style ” in American politics . Where dating the post - truth society ’ s advent is concerned   there are multiple milestone candidates on offer . Some will say it all started with the ravings of hate radio DJs like Rush Limbaugh or Alex Jones   or of hate television hosts like Glenn Beck or Sean Hannity . Others will point to “ conspiracy theorist ” film - makers like Michael Moore or Oliver Stone   or to “ false equivalence ” claimants like tobacco manufacturers and fossil fuel companies eager to have us all thinking “ the evidence cuts both ways ” on cigarettes ’ associations with lung cancer or carbon ’ s association with climate change . Somewhat ironically   given the “ many sides of the story ” meme just alluded to   there is much to recommend most of the milestones and source - candidates just mentioned as having helped bring - in the era of “ post - truth .” I ’ d like to suggest   however   that the “ post - truth society ” has more saliently developed in lock - step with the political career of one man   and that it ’ s no accident that both have reached final fruition at the same “ moment ” in American political history . I refer   of course   to Donald Trump – a man whose relation to financial truth should draw our attention at least as readily as do his relations to legal and political truth . That  Donald Trump  might be more show than substance has been widely observed since well before  he  entered the 2016 Presidential race . And this distinction of course maps onto that between fake news and real news   appearance and reality – or truth . For reasons of this sort even I have suggested that Mr .  Trump  is a bit like an opiate   and might for this reason be labeled “ The Opioid President .” But while I continue to think this all sound as a matter of general characterization   I want here to draw attention to something much more specific – something   again   having to do with finance   not to mention our national economy . As most readers will recall   when Barack Obama was President many who disagreed with his politics sought to undermine his legal legitimacy by suggesting that he ’ d not been born in the U . S . “ Show us your birth certificate  ” these so - called “ Birthers ” demanded   and continued to demand even long after the then - President had – far too graciously – done so . Among these “ Birthers  ” of course   was Donald Trump   whose entry into the Presidential sweepstakes arguably commenced with his “ going public ” as a “ Birther .” Now   perhaps partly as “ payback ” for that sorry episode   many  Trump  detractors last month began calling themselves “ Girthers .” This they did in response to non - credible doctor reports to the effect that Mr .  Trump  weighed nearly the same as do many currently active professional sports figures of roughly the same height as  Trump  . Juxtaposed photographs of Mr .  Trump  and sundry star athletes   typically accompanied by stats and such captions as “ something doesn ’ t add up ” became something of a “ meme ” for a while on social media . I want to suggest that   how ever more plausible the skepticism of the “ Girthers ” is than was that of the “ Birthers  ” there is something far more important to be skeptical about – something that lends greater significance both to Mr . Trump ’ s still - undisclosed tax returns and to the ongoing Mueller investigation than seems to be thus far appreciated . Rather than “ Birthers ” or even “ Girthers  ” I wish to argue   we should all now be “ Worthers .”</td>\n",
       "    </tr>\n",
       "    <tr>\n",
       "      <th>9</th>\n",
       "      <td><font color = red>CA</font> ) said she is ready for pushback from Breitbart News while she ramps up her efforts to impeach President Donald Trump . Waters told Elle magazine days after her State of the Union response that she follows Breitbart News ’ s critical reporting on her <font color = red>antics</font> . According to Elle ’ s puff <font color = red>piece</font>   Waters “ touched on the <font color = red>attacks</font> that the <font color = red>Republican</font> party and   in particular   Breitbart have launched against her — she noted that she ’ s frequently referred to as Mad Max .” “ When you make a decision   and you know that decision is controversial   you know that you ’ re going be up against people who are going to fire back at you  ” she reportedly said . “ I ’ m prepared to suffer the consequences of my actions   and I don ’ t fall backwards into this stuff . And so   the consequences will be there   but I ’ m prepared to deal with that .” Breitbart News was on Waters ’ s mind last year at a House Financial Services Committee hearing when she actually accused Breitbart News of wanting to kill her . “ They ’ re on the Internet ; they ’ re Breitbart  ” she said then . “ <font color = red>If</font> you look at the YouTube   you see how much they want to kill me and others . What can we do ?” <font color = red>Waters</font> also used her response to Trump ’ s <font color = red>State</font> of the Union address <font color = red>last</font> week to call for Trump ’ s immediate <font color = red>impeachment</font> while saying  Trump  is “ a dangerous   unprincipled   divisive   and <font color = red>shameful</font> <font color = red>racist</font> .” ” Increasingly   millions of Americans have <font color = red>recognized</font> that  Donald Trump  is <font color = red>detrimental</font> to our <font color = red>nation</font> .” <font color = red>We</font> <font color = red>deserve</font> <font color = red>better</font> . That ’ s why I <font color = red>have</font> <font color = red>called</font> for  his  impeachment  ” she said on <font color = red>BET</font> . “ Some <font color = red>believe</font> it ’ s too <font color = red>early</font> . <font color = red>We</font> must <font color = red>organize</font>   <font color = red>challenge</font>   and resist .” <font color = red>Waters</font> told Elle that she is at <font color = red>odds</font> with her party ’ s leadership right now   though   on the impeachment issue . “ Now   the leadership has a different take   and what they ’ re thinking is we can ’ t get diverted from tax reform that we ’ ve been working on … The leadership does not want to be diverted into talking about impeachment  ” Waters said . “ I respect that they don ’ t necessarily think about it the way that I think about it   but I don ’ t let that interfere with what I do .”</td>\n",
       "      <td><font color = blue>NOC</font> ) said she is ready for pushback from Breitbart News while she ramps up her efforts to impeach President Donald Trump . Waters told Elle magazine days after her State of the Union response that she follows Breitbart News ’ s critical reporting on her <font color = blue>weirdness</font> . According to Elle ’ s puff <font color = blue>sliced</font>   Waters “ touched on the <font color = blue>slams</font> that the <font color = blue>Congressional</font> party and   in particular   Breitbart have launched against her — she noted that she ’ s frequently referred to as Mad Max .” “ When you make a decision   and you know that decision is controversial   you know that you ’ re going be up against people who are going to fire back at you  ” she reportedly said . “ I ’ m prepared to suffer the consequences of my actions   and I don ’ t fall backwards into this stuff . And so   the consequences will be there   but I ’ m prepared to deal with that .” Breitbart News was on Waters ’ s mind last year at a House Financial Services Committee hearing when she actually accused Breitbart News of wanting to kill her . “ They ’ re on the Internet ; they ’ re Breitbart  ” she said then . “ <font color = blue>Despite</font> you look at the YouTube   you see how much they want to kill me and others . What can we do ?” <font color = blue>Rivers</font> also used her response to Trump ’ s <font color = blue>Stat</font> of the Union address <font color = blue>previous</font> week to call for Trump ’ s immediate <font color = blue>allegations</font> while saying  Trump  is “ a dangerous   unprincipled   divisive   and <font color = blue>disgraceful</font> <font color = blue>racism</font> .” ” Increasingly   millions of Americans have <font color = blue>gratitude</font> that  Donald Trump  is <font color = blue>destructive</font> to our <font color = blue>nationals</font> .” <font color = blue>Ourselves</font> <font color = blue>earn</font> <font color = blue>more</font> . That ’ s why I <font color = blue>ont</font> <font color = blue>ask</font> for  his  impeachment  ” she said on <font color = blue>EQUAL</font> . “ Some <font color = blue>thoughts</font> it ’ s too <font color = blue>hurry</font> . <font color = blue>Ourselves</font> must <font color = blue>organizations</font>   <font color = blue>knotty</font>   and resist .” <font color = blue>Aqueduct</font> told Elle that she is at <font color = blue>risks</font> with her party ’ s leadership right now   though   on the impeachment issue . “ Now   the leadership has a different take   and what they ’ re thinking is we can ’ t get diverted from tax reform that we ’ ve been working on … The leadership does not want to be diverted into talking about impeachment  ” Waters said . “ I respect that they don ’ t necessarily think about it the way that I think about it   but I don ’ t let that interfere with what I do .”</td>\n",
       "    </tr>\n",
       "  </tbody>\n",
       "</table>"
      ],
      "text/plain": [
       "<IPython.core.display.HTML object>"
      ]
     },
     "metadata": {},
     "output_type": "display_data"
    }
   ],
   "source": [
    "import pandas as pd\n",
    "from textattack.loggers.csv_logger import CSVLogger\n",
    "\n",
    "pd.options.display.max_colwidth = 480 # increase colum width so we can actually read the examples\n",
    "\n",
    "logger = CSVLogger(color_method='html')\n",
    "# logger = attacker.attack_log_manager.loggers[0]\n",
    "\n",
    "for result in attack_results:\n",
    "    logger.log_attack_result(result)\n",
    "    \n",
    "from IPython.core.display import display, HTML\n",
    "\n",
    "# print(logger.log_hist())\n",
    "\n",
    "display(HTML(logger.df[['original_text', 'perturbed_text']].to_html(escape=False)))"
   ]
  },
  {
   "cell_type": "markdown",
   "metadata": {},
   "source": [
    "# Text Fooler Augmenter"
   ]
  },
  {
   "cell_type": "code",
   "execution_count": 22,
   "metadata": {},
   "outputs": [
    {
     "name": "stderr",
     "output_type": "stream",
     "text": [
      "textattack: Unknown if model of class <class 'transformers.models.bert.modeling_bert.BertForSequenceClassification'> compatible with goal function <class 'textattack.goal_functions.classification.untargeted_classification.UntargetedClassification'>.\n"
     ]
    },
    {
     "data": {
      "text/plain": [
       "['What I apparent create, I played not understand.',\n",
       " 'What I apparent generating, I ai not confess.',\n",
       " 'What I cannot create, I wo not comprehend.',\n",
       " 'What I cannot engendered, I making not embrace.',\n",
       " 'What I cannot generating, I fait absence understand.',\n",
       " 'What I cannot manufactured, I do not compose.',\n",
       " 'What I marked establishments, I do none includes.',\n",
       " 'What I significance establish, I do not understand.',\n",
       " 'What I would producing, I do not realising.',\n",
       " 'Wher I impressive create, I ca not comprise.']"
      ]
     },
     "execution_count": 22,
     "metadata": {},
     "output_type": "execute_result"
    }
   ],
   "source": [
    "from textattack.attack_recipes.textfooler_jin_2019 import TextFoolerJin2019\n",
    "\n",
    "attack = TextFoolerJin2019.build(model_wrapper)\n",
    "\n",
    "from textattack.transformations import CompositeTransformation\n",
    "from textattack.augmentation import Augmenter\n",
    "\n",
    "transformation = CompositeTransformation([attack.transformation])\n",
    "constraints = attack.constraints\n",
    "\n",
    "augmenter = Augmenter(transformation=transformation, \n",
    "                      constraints=constraints, \n",
    "                      pct_words_to_swap=0.5, \n",
    "                      transformations_per_example=10)\n",
    "\n",
    "s = 'What I cannot create, I do not understand.'\n",
    "# Augment!\n",
    "augmenter."
   ]
  },
  {
   "cell_type": "code",
   "execution_count": null,
   "metadata": {},
   "outputs": [],
   "source": []
  }
 ],
 "metadata": {
  "accelerator": "GPU",
  "colab": {
   "collapsed_sections": [],
   "name": "1_Introduction_and_Transformations.ipynb",
   "provenance": [],
   "toc_visible": true
  },
  "kernelspec": {
   "display_name": "Python [conda env:nlp_project_py37] *",
   "language": "python",
   "name": "conda-env-nlp_project_py37-py"
  },
  "language_info": {
   "codemirror_mode": {
    "name": "ipython",
    "version": 3
   },
   "file_extension": ".py",
   "mimetype": "text/x-python",
   "name": "python",
   "nbconvert_exporter": "python",
   "pygments_lexer": "ipython3",
   "version": "3.7.15"
  }
 },
 "nbformat": 4,
 "nbformat_minor": 4
}
